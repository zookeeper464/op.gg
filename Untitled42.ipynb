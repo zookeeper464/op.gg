{
  "nbformat": 4,
  "nbformat_minor": 0,
  "metadata": {
    "colab": {
      "name": "Untitled42.ipynb",
      "provenance": [],
      "mount_file_id": "1RxmHw35B8mAZ9tGsnyxsUxQIWwV0iInK",
      "authorship_tag": "ABX9TyMbSAARJNXPJVbWw68LskSz",
      "include_colab_link": true
    },
    "kernelspec": {
      "name": "python3",
      "display_name": "Python 3"
    },
    "language_info": {
      "name": "python"
    }
  },
  "cells": [
    {
      "cell_type": "markdown",
      "metadata": {
        "id": "view-in-github",
        "colab_type": "text"
      },
      "source": [
        "<a href=\"https://colab.research.google.com/github/zookeeper464/op.gg/blob/main/Untitled42.ipynb\" target=\"_parent\"><img src=\"https://colab.research.google.com/assets/colab-badge.svg\" alt=\"Open In Colab\"/></a>"
      ]
    },
    {
      "cell_type": "code",
      "metadata": {
        "id": "BDVHydjvSPX0"
      },
      "source": [
        "# 데이터 분석에 필요한 모듈을 호출합니다.\n",
        "\n",
        "import json\n",
        "import pandas as pd"
      ],
      "execution_count": 1,
      "outputs": []
    },
    {
      "cell_type": "code",
      "metadata": {
        "id": "HsnKZQ3nUey-"
      },
      "source": [
        "#컴퓨터 용량의 한계로 데이터를 전부 불러오지 못하고 부분만 불러왔습니다."
      ],
      "execution_count": null,
      "outputs": []
    },
    {
      "cell_type": "code",
      "metadata": {
        "id": "DVYmB8dIdvQ0"
      },
      "source": [
        "# 약 16.8만개의 데이터 중 5만개의 게임 데이터를 불러옵니다.\n",
        "# 불러옴과 동시에 데이터 처리를 보다 효율적으로 하기 위해 json데이터 형태에서 dictionary형태로 변환합니다.\n",
        "\n",
        "N = 50000\n",
        "with open('/content/drive/MyDrive/op.gg/op_gg.json', encoding='utf-8') as myfile:\n",
        "    head = [json.loads(next(myfile)) for _ in range(N)]"
      ],
      "execution_count": 2,
      "outputs": []
    },
    {
      "cell_type": "code",
      "metadata": {
        "id": "-KbuLBsagwL_"
      },
      "source": [
        "# 데이터를 분석하기 위해 첫 번째, 게임의 데이터와 그 데이터가 가지고 있는 키들을 변수설정합니다.\n",
        "\n",
        "data = head[0]\n",
        "lst = list(data.keys())"
      ],
      "execution_count": null,
      "outputs": []
    },
    {
      "cell_type": "code",
      "metadata": {
        "colab": {
          "base_uri": "https://localhost:8080/"
        },
        "id": "z6omvRN5cbrp",
        "outputId": "e5f8a713-d6eb-4bd3-b1e9-6043765347e9"
      },
      "source": [
        "# 각 키와 그 키가 가지고 있는 값들을 매칭하여 나타냅니다.\n",
        "\n",
        "for i in lst:\n",
        "  print(i, ':', data[i])"
      ],
      "execution_count": null,
      "outputs": [
        {
          "output_type": "stream",
          "text": [
            "seasonid : 13\n",
            "queueid : 420\n",
            "gameid : 4621713273\n",
            "participantidentities : [{'player': {'currentplatformid': 'KR', 'matchhistoryuri': '/v1/stats/player_history/KR/2384460278402912', 'platformid': 'KR', 'profileicon': 23, 'summonerid': 'PF7wuKbEjIH7bUEivDRsJbiah9EF9EzRPO-LFLucLai7avA'}, 'participantid': 1}, {'player': {'currentplatformid': 'KR', 'matchhistoryuri': '/v1/stats/player_history/KR/206928168', 'platformid': 'KR', 'profileicon': 4568, 'summonerid': 'JRuCiFpuzcsnQ9Gadn5A_0bm66-PrFaA3WKP5juhgetrx3Y'}, 'participantid': 2}, {'player': {'currentplatformid': 'KR', 'matchhistoryuri': '/v1/stats/player_history/KR/2481287071728960', 'platformid': 'KR', 'profileicon': 7, 'summonerid': 'o5ZjlQkLgDZzDG_dkT0GVL7X34kp51abqkUN6P7K2WPeY1dy'}, 'participantid': 3}, {'player': {'currentplatformid': 'KR', 'matchhistoryuri': '/v1/stats/player_history/KR/3380059', 'platformid': 'KR', 'profileicon': 4236, 'summonerid': 'TUdiT-gEHdtkmr9JkhqvtNy5L_nutzsw2oH23kgO71NSsA'}, 'participantid': 4}, {'player': {'currentplatformid': 'KR', 'matchhistoryuri': '/v1/stats/player_history/KR/2478293106361536', 'platformid': 'KR', 'profileicon': 4629, 'summonerid': 'qmcY1AJTdznK_aTgW2e1qwCY1uwbam9HU09Wsa7nI9Wt5sYQ'}, 'participantid': 5}, {'player': {'currentplatformid': 'KR', 'matchhistoryuri': '/v1/stats/player_history/KR/206082506', 'platformid': 'KR', 'profileicon': 3507, 'summonerid': 'aVkF6jW3XX09jGt89jlrksun1mjDSPDGgaG6aMerUoJHsZw'}, 'participantid': 6}, {'player': {'currentplatformid': 'KR', 'matchhistoryuri': '/v1/stats/player_history/KR/208199342', 'platformid': 'KR', 'profileicon': 7, 'summonerid': 'NdcS9dgPtAbN_Vb_o6dXQGrK6sX_1Ne2rcVfhSenZMfytjs'}, 'participantid': 7}, {'player': {'currentplatformid': 'KR', 'matchhistoryuri': '/v1/stats/player_history/KR/2413955723586816', 'platformid': 'KR', 'profileicon': 4653, 'summonerid': 'tFNs6Vhs0xyWMh8_9A9Lx3MwfKqBSWjaHM3hP7miUQSH46A'}, 'participantid': 8}, {'player': {'currentplatformid': 'KR', 'matchhistoryuri': '/v1/stats/player_history/kr/210499367', 'platformid': 'kr', 'profileicon': 3790, 'summonerid': 'oZOstqygth7G6p98xlcllvatNasCsluMixZhQYQ8WJnoDtA'}, 'participantid': 9}, {'player': {'currentplatformid': 'KR', 'matchhistoryuri': '/v1/stats/player_history/KR/206929328', 'platformid': 'KR', 'profileicon': 4666, 'summonerid': 'ELOByFaP_AyaYWEYTvcrUQF0X43qvrJWYK-nWKCEtbCwB_c'}, 'participantid': 10}]\n",
            "gameversion : 10.18.333.8889\n",
            "platformid : KR\n",
            "gamemode : CLASSIC\n",
            "mapid : 11\n",
            "gametype : MATCHED_GAME\n",
            "teams : [{'firstdragon': False, 'firstinhibitor': False, 'bans': [{'pickturn': 1, 'championid': 104}, {'pickturn': 2, 'championid': 51}, {'pickturn': 3, 'championid': 58}, {'pickturn': 4, 'championid': 80}, {'pickturn': 5, 'championid': 777}], 'baronkills': 0, 'firstriftherald': True, 'firstbaron': False, 'riftheraldkills': 2, 'firstblood': True, 'teamid': 100, 'firsttower': True, 'vilemawkills': 0, 'inhibitorkills': 0, 'towerkills': 2, 'dominionvictoryscore': 0, 'win': 'Fail', 'dragonkills': 1}, {'firstdragon': True, 'firstinhibitor': False, 'bans': [{'pickturn': 6, 'championid': 120}, {'pickturn': 7, 'championid': 104}, {'pickturn': 8, 'championid': 236}, {'pickturn': 9, 'championid': 89}, {'pickturn': 10, 'championid': 245}], 'baronkills': 1, 'firstriftherald': False, 'firstbaron': True, 'riftheraldkills': 0, 'firstblood': False, 'teamid': 200, 'firsttower': False, 'vilemawkills': 0, 'inhibitorkills': 0, 'towerkills': 5, 'dominionvictoryscore': 0, 'win': 'Win', 'dragonkills': 2}]\n",
            "participants : [{'stats': {'physicaldamagedealt': 14561, 'neutralminionskilledteamjungle': 11, 'magicdamagedealt': 54201, 'totalplayerscore': 0, 'deaths': 3, 'win': False, 'neutralminionskilledenemyjungle': 0, 'largestcriticalstrike': 0, 'totaldamagedealt': 70392, 'magicdamagedealttochampions': 14450, 'visionwardsboughtingame': 0, 'damagedealttoobjectives': 8413, 'largestkillingspree': 2, 'item1': 3003, 'quadrakills': 0, 'totaltimecrowdcontroldealt': 108, 'wardskilled': 7, 'firsttowerassist': False, 'firsttowerkill': False, 'item2': 2421, 'item3': 3020, 'item0': 1054, 'firstbloodassist': False, 'visionscore': 20, 'wardsplaced': 4, 'item4': 3027, 'item5': 0, 'item6': 3364, 'turretkills': 0, 'triplekills': 0, 'damageselfmitigated': 13394, 'champlevel': 13, 'goldearned': 9063, 'magicaldamagetaken': 8731, 'kills': 4, 'doublekills': 0, 'truedamagetaken': 1439, 'assists': 9, 'unrealkills': 0, 'neutralminionskilled': 15, 'objectiveplayerscore': 0, 'combatplayerscore': 0, 'damagedealttoturrets': 1657, 'physicaldamagedealttochampions': 1253, 'goldspent': 8050, 'truedamagedealt': 1629, 'truedamagedealttochampions': 204, 'participantid': 1, 'pentakills': 0, 'totalheal': 7508, 'totalminionskilled': 134, 'firstbloodkill': False, 'largestmultikill': 1, 'sightwardsboughtingame': 0, 'totaldamagedealttochampions': 15908, 'totalunitshealed': 1, 'inhibitorkills': 0, 'totalscorerank': 0, 'totaldamagetaken': 23238, 'killingsprees': 1, 'timeccingothers': 13, 'physicaldamagetaken': 13068, 'perk0': 8021, 'perk0var1': 2306, 'perk0var2': 0, 'perk0var3': 0, 'perk1': 8009, 'perk1var1': 4824, 'perk1var2': 500, 'perk1var3': 0, 'perk2': 9105, 'perk2var1': 17, 'perk2var2': 0, 'perk2var3': 0, 'perk3': 8014, 'perk3var1': 316, 'perk3var2': 0, 'perk3var3': 0, 'perk4': 8139, 'perk4var1': 629, 'perk4var2': 0, 'perk4var3': 0, 'perk5': 8135, 'perk5var1': 2101, 'perk5var2': 5, 'perk5var3': 0, 'perkprimarystyle': 8000, 'perksubstyle': 8100, 'longesttimespentliving': 942, 'statperk0': 5008, 'statperk1': 5008, 'statperk2': 5003}, 'participantid': 1, 'timeline': {'lane': 'MIDDLE', 'participantid': 1, 'csdiffpermindeltas': {'10-20': -0.8, '0-10': -0.1}, 'goldpermindeltas': {'10-20': 386.6, '0-10': 301.8}, 'xpdiffpermindeltas': {'10-20': -3.4, '0-10': -19.7}, 'creepspermindeltas': {'10-20': 5.4, '0-10': 7.9}, 'xppermindeltas': {'10-20': 400.1, '0-10': 434.8}, 'role': 'SOLO', 'damagetakendiffpermindeltas': {'10-20': 139.3, '0-10': 147.7}, 'damagetakenpermindeltas': {'10-20': 1033.8, '0-10': 317.3}}, 'teamid': 100, 'spell2id': 12, 'spell1id': 4, 'championid': 38}, {'stats': {'physicaldamagedealt': 3704, 'neutralminionskilledteamjungle': 0, 'magicdamagedealt': 5015, 'totalplayerscore': 0, 'deaths': 7, 'win': False, 'neutralminionskilledenemyjungle': 0, 'largestcriticalstrike': 0, 'totaldamagedealt': 14066, 'magicdamagedealttochampions': 3730, 'visionwardsboughtingame': 3, 'damagedealttoobjectives': 3250, 'largestkillingspree': 2, 'item1': 3109, 'quadrakills': 0, 'totaltimecrowdcontroldealt': 83, 'wardskilled': 7, 'firsttowerassist': False, 'firsttowerkill': False, 'item2': 3859, 'item3': 0, 'item0': 2065, 'firstbloodassist': False, 'visionscore': 58, 'wardsplaced': 29, 'item4': 0, 'item5': 3117, 'item6': 3364, 'turretkills': 0, 'triplekills': 0, 'damageselfmitigated': 16913, 'champlevel': 11, 'goldearned': 7032, 'magicaldamagetaken': 7670, 'kills': 3, 'doublekills': 0, 'truedamagetaken': 1281, 'assists': 12, 'unrealkills': 0, 'neutralminionskilled': 0, 'objectiveplayerscore': 0, 'combatplayerscore': 0, 'damagedealttoturrets': 0, 'physicaldamagedealttochampions': 1152, 'goldspent': 5975, 'truedamagedealt': 5345, 'truedamagedealttochampions': 587, 'participantid': 2, 'pentakills': 0, 'totalheal': 2962, 'totalminionskilled': 23, 'firstbloodkill': False, 'largestmultikill': 1, 'sightwardsboughtingame': 0, 'totaldamagedealttochampions': 5469, 'totalunitshealed': 5, 'inhibitorkills': 0, 'totalscorerank': 0, 'totaldamagetaken': 18367, 'killingsprees': 1, 'timeccingothers': 22, 'physicaldamagetaken': 9414, 'perk0': 8465, 'perk0var1': 3196, 'perk0var2': 0, 'perk0var3': 0, 'perk1': 8463, 'perk1var1': 659, 'perk1var2': 0, 'perk1var3': 0, 'perk2': 8444, 'perk2var1': 775, 'perk2var2': 0, 'perk2var3': 0, 'perk3': 8453, 'perk3var1': 322, 'perk3var2': 482, 'perk3var3': 0, 'perk4': 8106, 'perk4var1': 5, 'perk4var2': 0, 'perk4var3': 0, 'perk5': 8136, 'perk5var1': 11, 'perk5var2': 30, 'perk5var3': 0, 'perkprimarystyle': 8400, 'perksubstyle': 8100, 'longesttimespentliving': 617, 'statperk0': 5007, 'statperk1': 5003, 'statperk2': 5002}, 'participantid': 2, 'timeline': {'lane': 'BOTTOM', 'participantid': 2, 'csdiffpermindeltas': {'10-20': 0.2, '0-10': -0.45}, 'goldpermindeltas': {'10-20': 288.2, '0-10': 249.2}, 'xpdiffpermindeltas': {'10-20': 93.75, '0-10': 6.45}, 'creepspermindeltas': {'10-20': 1.1, '0-10': 1}, 'xppermindeltas': {'10-20': 312.7, '0-10': 222.1}, 'role': 'DUO_SUPPORT', 'damagetakendiffpermindeltas': {'10-20': 63.1, '0-10': 16.75}, 'damagetakenpermindeltas': {'10-20': 824.1, '0-10': 284.1}}, 'teamid': 100, 'spell2id': 4, 'spell1id': 14, 'championid': 497}, {'stats': {'physicaldamagedealt': 73712, 'neutralminionskilledteamjungle': 0, 'magicdamagedealt': 1359, 'totalplayerscore': 0, 'deaths': 6, 'win': False, 'neutralminionskilledenemyjungle': 0, 'largestcriticalstrike': 0, 'totaldamagedealt': 89119, 'magicdamagedealttochampions': 1359, 'visionwardsboughtingame': 1, 'damagedealttoobjectives': 8305, 'largestkillingspree': 4, 'item1': 3105, 'quadrakills': 0, 'totaltimecrowdcontroldealt': 168, 'wardskilled': 0, 'firsttowerassist': False, 'firsttowerkill': False, 'item2': 3078, 'item3': 3158, 'item0': 1055, 'firstbloodassist': False, 'visionscore': 16, 'wardsplaced': 6, 'item4': 1036, 'item5': 3074, 'item6': 3340, 'turretkills': 1, 'triplekills': 0, 'damageselfmitigated': 23139, 'champlevel': 13, 'goldearned': 10692, 'magicaldamagetaken': 7015, 'kills': 8, 'doublekills': 1, 'truedamagetaken': 3807, 'assists': 4, 'unrealkills': 0, 'neutralminionskilled': 4, 'objectiveplayerscore': 0, 'combatplayerscore': 0, 'damagedealttoturrets': 2741, 'physicaldamagedealttochampions': 15219, 'goldspent': 10508, 'truedamagedealt': 14047, 'truedamagedealttochampions': 5467, 'participantid': 3, 'pentakills': 0, 'totalheal': 1837, 'totalminionskilled': 129, 'firstbloodkill': True, 'largestmultikill': 2, 'sightwardsboughtingame': 0, 'totaldamagedealttochampions': 22046, 'totalunitshealed': 1, 'inhibitorkills': 0, 'totalscorerank': 0, 'totaldamagetaken': 29863, 'killingsprees': 2, 'timeccingothers': 13, 'physicaldamagetaken': 19040, 'perk0': 8437, 'perk0var1': 829, 'perk0var2': 595, 'perk0var3': 0, 'perk1': 8401, 'perk1var1': 923, 'perk1var2': 0, 'perk1var3': 0, 'perk2': 8444, 'perk2var1': 1478, 'perk2var2': 0, 'perk2var3': 0, 'perk3': 8451, 'perk3var1': 145, 'perk3var2': 0, 'perk3var3': 0, 'perk4': 8304, 'perk4var1': 9, 'perk4var2': 4, 'perk4var3': 5, 'perk5': 8345, 'perk5var1': 3, 'perk5var2': 0, 'perk5var3': 0, 'perkprimarystyle': 8400, 'perksubstyle': 8300, 'longesttimespentliving': 819, 'statperk0': 5005, 'statperk1': 5008, 'statperk2': 5002}, 'participantid': 3, 'timeline': {'lane': 'TOP', 'participantid': 3, 'csdiffpermindeltas': {'10-20': -1.8, '0-10': -0.2}, 'goldpermindeltas': {'10-20': 566.7, '0-10': 315.3}, 'xpdiffpermindeltas': {'10-20': -51, '0-10': 47.7}, 'creepspermindeltas': {'10-20': 6.2, '0-10': 6.4}, 'xppermindeltas': {'10-20': 545.3, '0-10': 457.9}, 'role': 'SOLO', 'damagetakendiffpermindeltas': {'10-20': 277.8, '0-10': -110}, 'damagetakenpermindeltas': {'10-20': 1363.6, '0-10': 641.2}}, 'teamid': 100, 'spell2id': 12, 'spell1id': 4, 'championid': 164}, {'stats': {'physicaldamagedealt': 82341, 'neutralminionskilledteamjungle': 87, 'magicdamagedealt': 33008, 'totalplayerscore': 0, 'deaths': 9, 'win': False, 'neutralminionskilledenemyjungle': 4, 'largestcriticalstrike': 0, 'totaldamagedealt': 129234, 'magicdamagedealttochampions': 3892, 'visionwardsboughtingame': 3, 'damagedealttoobjectives': 17285, 'largestkillingspree': 0, 'item1': 3748, 'quadrakills': 0, 'totaltimecrowdcontroldealt': 186, 'wardskilled': 4, 'firsttowerassist': False, 'firsttowerkill': False, 'item2': 2055, 'item3': 1028, 'item0': 1413, 'firstbloodassist': False, 'visionscore': 19, 'wardsplaced': 3, 'item4': 3009, 'item5': 1029, 'item6': 3364, 'turretkills': 1, 'triplekills': 0, 'damageselfmitigated': 16768, 'champlevel': 12, 'goldearned': 8167, 'magicaldamagetaken': 8862, 'kills': 2, 'doublekills': 0, 'truedamagetaken': 2254, 'assists': 7, 'unrealkills': 0, 'neutralminionskilled': 111, 'objectiveplayerscore': 0, 'combatplayerscore': 0, 'damagedealttoturrets': 580, 'physicaldamagedealttochampions': 3029, 'goldspent': 7825, 'truedamagedealt': 13884, 'truedamagedealttochampions': 386, 'participantid': 4, 'pentakills': 0, 'totalheal': 13310, 'totalminionskilled': 31, 'firstbloodkill': False, 'largestmultikill': 1, 'sightwardsboughtingame': 0, 'totaldamagedealttochampions': 7308, 'totalunitshealed': 1, 'inhibitorkills': 0, 'totalscorerank': 0, 'totaldamagetaken': 30215, 'killingsprees': 0, 'timeccingothers': 17, 'physicaldamagetaken': 19098, 'perk0': 8005, 'perk0var1': 829, 'perk0var2': 427, 'perk0var3': 402, 'perk1': 9111, 'perk1var1': 332, 'perk1var2': 180, 'perk1var3': 0, 'perk2': 9105, 'perk2var1': 14, 'perk2var2': 30, 'perk2var3': 0, 'perk3': 8299, 'perk3var1': 211, 'perk3var2': 0, 'perk3var3': 0, 'perk4': 8234, 'perk4var1': 10068, 'perk4var2': 0, 'perk4var3': 0, 'perk5': 8232, 'perk5var1': 4, 'perk5var2': 50, 'perk5var3': 0, 'perkprimarystyle': 8000, 'perksubstyle': 8200, 'longesttimespentliving': 309, 'statperk0': 5005, 'statperk1': 5008, 'statperk2': 5002}, 'participantid': 4, 'timeline': {'lane': 'JUNGLE', 'participantid': 4, 'csdiffpermindeltas': {'10-20': -0.6, '0-10': 0.5}, 'goldpermindeltas': {'10-20': 390.2, '0-10': 235.3}, 'xpdiffpermindeltas': {'10-20': -24.7, '0-10': -82.9}, 'creepspermindeltas': {'10-20': 0.7, '0-10': 0.5}, 'xppermindeltas': {'10-20': 459.7, '0-10': 273.3}, 'role': 'NONE', 'damagetakendiffpermindeltas': {'10-20': 222.9, '0-10': -84.6}, 'damagetakenpermindeltas': {'10-20': 1418.9, '0-10': 738.8}}, 'teamid': 100, 'spell2id': 4, 'spell1id': 11, 'championid': 19}, {'stats': {'physicaldamagedealt': 95118, 'neutralminionskilledteamjungle': 12, 'magicdamagedealt': 9692, 'totalplayerscore': 0, 'deaths': 3, 'win': False, 'neutralminionskilledenemyjungle': 0, 'largestcriticalstrike': 499, 'totaldamagedealt': 106915, 'magicdamagedealttochampions': 5394, 'visionwardsboughtingame': 0, 'damagedealttoobjectives': 4834, 'largestkillingspree': 6, 'item1': 1052, 'quadrakills': 0, 'totaltimecrowdcontroldealt': 14, 'wardskilled': 5, 'firsttowerassist': False, 'firsttowerkill': False, 'item2': 3134, 'item3': 3508, 'item0': 1055, 'firstbloodassist': False, 'visionscore': 23, 'wardsplaced': 8, 'item4': 3006, 'item5': 3115, 'item6': 3363, 'turretkills': 0, 'triplekills': 0, 'damageselfmitigated': 8360, 'champlevel': 13, 'goldearned': 10777, 'magicaldamagetaken': 5827, 'kills': 9, 'doublekills': 0, 'truedamagetaken': 932, 'assists': 5, 'unrealkills': 0, 'neutralminionskilled': 16, 'objectiveplayerscore': 0, 'combatplayerscore': 0, 'damagedealttoturrets': 0, 'physicaldamagedealttochampions': 12381, 'goldspent': 9585, 'truedamagedealt': 2103, 'truedamagedealttochampions': 539, 'participantid': 5, 'pentakills': 0, 'totalheal': 2328, 'totalminionskilled': 174, 'firstbloodkill': False, 'largestmultikill': 1, 'sightwardsboughtingame': 0, 'totaldamagedealttochampions': 18316, 'totalunitshealed': 1, 'inhibitorkills': 0, 'totalscorerank': 0, 'totaldamagetaken': 14532, 'killingsprees': 2, 'timeccingothers': 1, 'physicaldamagetaken': 7772, 'perk0': 9923, 'perk0var1': 55, 'perk0var2': 76, 'perk0var3': 0, 'perk1': 8139, 'perk1var1': 917, 'perk1var2': 0, 'perk1var3': 0, 'perk2': 8138, 'perk2var1': 18, 'perk2var2': 0, 'perk2var3': 0, 'perk3': 8135, 'perk3var1': 1857, 'perk3var2': 5, 'perk3var3': 0, 'perk4': 8009, 'perk4var1': 2757, 'perk4var2': 500, 'perk4var3': 0, 'perk5': 9103, 'perk5var1': 24, 'perk5var2': 40, 'perk5var3': 0, 'perkprimarystyle': 8100, 'perksubstyle': 8000, 'longesttimespentliving': 777, 'statperk0': 5005, 'statperk1': 5008, 'statperk2': 5002}, 'participantid': 5, 'timeline': {'lane': 'BOTTOM', 'participantid': 5, 'csdiffpermindeltas': {'10-20': 0.2, '0-10': -0.45}, 'goldpermindeltas': {'10-20': 500.9, '0-10': 289.1}, 'xpdiffpermindeltas': {'10-20': 93.75, '0-10': 6.45}, 'creepspermindeltas': {'10-20': 8.2, '0-10': 7.1}, 'xppermindeltas': {'10-20': 573.8, '0-10': 342.7}, 'role': 'DUO_CARRY', 'damagetakendiffpermindeltas': {'10-20': 63.1, '0-10': 16.75}, 'damagetakenpermindeltas': {'10-20': 568.3, '0-10': 343.1}}, 'teamid': 100, 'spell2id': 4, 'spell1id': 1, 'championid': 145}, {'stats': {'physicaldamagedealt': 119854, 'neutralminionskilledteamjungle': 8, 'magicdamagedealt': 1643, 'totalplayerscore': 0, 'deaths': 8, 'win': True, 'neutralminionskilledenemyjungle': 6, 'largestcriticalstrike': 530, 'totaldamagedealt': 128604, 'magicdamagedealttochampions': 901, 'visionwardsboughtingame': 0, 'damagedealttoobjectives': 13208, 'largestkillingspree': 2, 'item1': 3078, 'quadrakills': 0, 'totaltimecrowdcontroldealt': 116, 'wardskilled': 2, 'firsttowerassist': False, 'firsttowerkill': False, 'item2': 3074, 'item3': 0, 'item0': 3812, 'firstbloodassist': False, 'visionscore': 10, 'wardsplaced': 7, 'item4': 1029, 'item5': 2422, 'item6': 3340, 'turretkills': 2, 'triplekills': 0, 'damageselfmitigated': 27078, 'champlevel': 14, 'goldearned': 12727, 'magicaldamagetaken': 5383, 'kills': 7, 'doublekills': 2, 'truedamagetaken': 4957, 'assists': 10, 'unrealkills': 0, 'neutralminionskilled': 20, 'objectiveplayerscore': 0, 'combatplayerscore': 0, 'damagedealttoturrets': 5877, 'physicaldamagedealttochampions': 19213, 'goldspent': 12413, 'truedamagedealt': 7106, 'truedamagedealttochampions': 3484, 'participantid': 6, 'pentakills': 0, 'totalheal': 9648, 'totalminionskilled': 150, 'firstbloodkill': False, 'largestmultikill': 2, 'sightwardsboughtingame': 0, 'totaldamagedealttochampions': 23599, 'totalunitshealed': 4, 'inhibitorkills': 0, 'totalscorerank': 0, 'totaldamagetaken': 33083, 'killingsprees': 3, 'timeccingothers': 10, 'physicaldamagetaken': 22741, 'perk0': 8010, 'perk0var1': 1652, 'perk0var2': 0, 'perk0var3': 0, 'perk1': 9111, 'perk1var1': 815, 'perk1var2': 340, 'perk1var3': 0, 'perk2': 9104, 'perk2var1': 17, 'perk2var2': 20, 'perk2var3': 0, 'perk3': 8299, 'perk3var1': 1035, 'perk3var2': 0, 'perk3var3': 0, 'perk4': 8304, 'perk4var1': 9, 'perk4var2': 4, 'perk4var3': 5, 'perk5': 8345, 'perk5var1': 3, 'perk5var2': 0, 'perk5var3': 0, 'perkprimarystyle': 8000, 'perksubstyle': 8300, 'longesttimespentliving': 460, 'statperk0': 5005, 'statperk1': 5008, 'statperk2': 5002}, 'participantid': 6, 'timeline': {'lane': 'TOP', 'participantid': 6, 'csdiffpermindeltas': {'10-20': 1.8, '0-10': 0.2}, 'goldpermindeltas': {'10-20': 548.8, '0-10': 311.6}, 'xpdiffpermindeltas': {'10-20': 51, '0-10': -47.7}, 'creepspermindeltas': {'10-20': 8, '0-10': 6.6}, 'xppermindeltas': {'10-20': 596.3, '0-10': 410.2}, 'role': 'SOLO', 'damagetakendiffpermindeltas': {'10-20': -277.8, '0-10': 110}, 'damagetakenpermindeltas': {'10-20': 1085.8, '0-10': 751.2}}, 'teamid': 200, 'spell2id': 4, 'spell1id': 12, 'championid': 114}, {'stats': {'physicaldamagedealt': 19367, 'neutralminionskilledteamjungle': 112, 'magicdamagedealt': 95667, 'totalplayerscore': 0, 'deaths': 7, 'win': True, 'neutralminionskilledenemyjungle': 1, 'largestcriticalstrike': 0, 'totaldamagedealt': 144449, 'magicdamagedealttochampions': 12515, 'visionwardsboughtingame': 3, 'damagedealttoobjectives': 9793, 'largestkillingspree': 2, 'item1': 2031, 'quadrakills': 0, 'totaltimecrowdcontroldealt': 358, 'wardskilled': 1, 'firsttowerassist': False, 'firsttowerkill': False, 'item2': 3157, 'item3': 3151, 'item0': 1052, 'firstbloodassist': False, 'visionscore': 15, 'wardsplaced': 4, 'item4': 3009, 'item5': 1402, 'item6': 3364, 'turretkills': 0, 'triplekills': 0, 'damageselfmitigated': 10616, 'champlevel': 13, 'goldearned': 10383, 'magicaldamagetaken': 9207, 'kills': 6, 'doublekills': 1, 'truedamagetaken': 1303, 'assists': 14, 'unrealkills': 0, 'neutralminionskilled': 138, 'objectiveplayerscore': 0, 'combatplayerscore': 0, 'damagedealttoturrets': 430, 'physicaldamagedealttochampions': 534, 'goldspent': 10210, 'truedamagedealt': 29414, 'truedamagedealttochampions': 5028, 'participantid': 7, 'pentakills': 0, 'totalheal': 9816, 'totalminionskilled': 13, 'firstbloodkill': False, 'largestmultikill': 2, 'sightwardsboughtingame': 0, 'totaldamagedealttochampions': 18079, 'totalunitshealed': 1, 'inhibitorkills': 0, 'totalscorerank': 0, 'totaldamagetaken': 26769, 'killingsprees': 1, 'timeccingothers': 26, 'physicaldamagetaken': 16257, 'perk0': 8230, 'perk0var1': 14, 'perk0var2': 0, 'perk0var3': 0, 'perk1': 8275, 'perk1var1': 19, 'perk1var2': 0, 'perk1var3': 0, 'perk2': 8234, 'perk2var1': 15224, 'perk2var2': 0, 'perk2var3': 0, 'perk3': 8232, 'perk3var1': 3, 'perk3var2': 20, 'perk3var3': 0, 'perk4': 8126, 'perk4var1': 810, 'perk4var2': 0, 'perk4var3': 0, 'perk5': 8135, 'perk5var1': 5315, 'perk5var2': 5, 'perk5var3': 0, 'perkprimarystyle': 8200, 'perksubstyle': 8100, 'longesttimespentliving': 364, 'statperk0': 5007, 'statperk1': 5008, 'statperk2': 5002}, 'participantid': 7, 'timeline': {'lane': 'JUNGLE', 'participantid': 7, 'csdiffpermindeltas': {'10-20': 0.6, '0-10': -0.5}, 'goldpermindeltas': {'10-20': 393.9, '0-10': 359.2}, 'xpdiffpermindeltas': {'10-20': 24.7, '0-10': 82.9}, 'creepspermindeltas': {'10-20': 1.3, '0-10': 0}, 'xppermindeltas': {'10-20': 484.4, '0-10': 356.2}, 'role': 'NONE', 'damagetakendiffpermindeltas': {'10-20': -222.9, '0-10': 84.6}, 'damagetakenpermindeltas': {'10-20': 1196, '0-10': 823.4}}, 'teamid': 200, 'spell2id': 4, 'spell1id': 11, 'championid': 876}, {'stats': {'physicaldamagedealt': 12596, 'neutralminionskilledteamjungle': 0, 'magicdamagedealt': 69548, 'totalplayerscore': 0, 'deaths': 4, 'win': True, 'neutralminionskilledenemyjungle': 0, 'largestcriticalstrike': 0, 'totaldamagedealt': 87186, 'magicdamagedealttochampions': 13447, 'visionwardsboughtingame': 3, 'damagedealttoobjectives': 5582, 'largestkillingspree': 2, 'item1': 3157, 'quadrakills': 0, 'totaltimecrowdcontroldealt': 73, 'wardskilled': 2, 'firsttowerassist': False, 'firsttowerkill': False, 'item2': 3027, 'item3': 3111, 'item0': 3100, 'firstbloodassist': False, 'visionscore': 20, 'wardsplaced': 10, 'item4': 0, 'item5': 0, 'item6': 3340, 'turretkills': 0, 'triplekills': 0, 'damageselfmitigated': 9446, 'champlevel': 13, 'goldearned': 10369, 'magicaldamagetaken': 10030, 'kills': 5, 'doublekills': 0, 'truedamagetaken': 438, 'assists': 12, 'unrealkills': 0, 'neutralminionskilled': 4, 'objectiveplayerscore': 0, 'combatplayerscore': 0, 'damagedealttoturrets': 2731, 'physicaldamagedealttochampions': 2558, 'goldspent': 10200, 'truedamagedealt': 5042, 'truedamagedealttochampions': 38, 'participantid': 8, 'pentakills': 0, 'totalheal': 4488, 'totalminionskilled': 146, 'firstbloodkill': False, 'largestmultikill': 1, 'sightwardsboughtingame': 0, 'totaldamagedealttochampions': 16044, 'totalunitshealed': 1, 'inhibitorkills': 0, 'totalscorerank': 0, 'totaldamagetaken': 16524, 'killingsprees': 2, 'timeccingothers': 25, 'physicaldamagetaken': 6054, 'perk0': 8360, 'perk0var1': 8, 'perk0var2': 0, 'perk0var3': 0, 'perk1': 8313, 'perk1var1': 0, 'perk1var2': 0, 'perk1var3': 0, 'perk2': 8316, 'perk2var1': 3080, 'perk2var2': 0, 'perk2var3': 0, 'perk3': 8352, 'perk3var1': 293, 'perk3var2': 1000, 'perk3var3': 825, 'perk4': 8275, 'perk4var1': 11, 'perk4var2': 0, 'perk4var3': 0, 'perk5': 8210, 'perk5var1': 0, 'perk5var2': 0, 'perk5var3': 0, 'perkprimarystyle': 8300, 'perksubstyle': 8200, 'longesttimespentliving': 787, 'statperk0': 5005, 'statperk1': 5008, 'statperk2': 5003}, 'participantid': 8, 'timeline': {'lane': 'MIDDLE', 'participantid': 8, 'csdiffpermindeltas': {'10-20': 0.8, '0-10': 0.1}, 'goldpermindeltas': {'10-20': 410.7, '0-10': 357.7}, 'xpdiffpermindeltas': {'10-20': 3.4, '0-10': 19.7}, 'creepspermindeltas': {'10-20': 6.2, '0-10': 8}, 'xppermindeltas': {'10-20': 403.5, '0-10': 454.5}, 'role': 'SOLO', 'damagetakendiffpermindeltas': {'10-20': -139.3, '0-10': -147.7}, 'damagetakenpermindeltas': {'10-20': 894.5, '0-10': 169.6}}, 'teamid': 200, 'spell2id': 4, 'spell1id': 12, 'championid': 4}, {'stats': {'physicaldamagedealt': 7050, 'neutralminionskilledteamjungle': 0, 'magicdamagedealt': 17047, 'totalplayerscore': 0, 'deaths': 4, 'win': True, 'neutralminionskilledenemyjungle': 0, 'largestcriticalstrike': 0, 'totaldamagedealt': 30755, 'magicdamagedealttochampions': 7258, 'visionwardsboughtingame': 9, 'damagedealttoobjectives': 3536, 'largestkillingspree': 0, 'item1': 3050, 'quadrakills': 0, 'totaltimecrowdcontroldealt': 193, 'wardskilled': 5, 'firsttowerassist': False, 'firsttowerkill': False, 'item2': 0, 'item3': 3067, 'item0': 3860, 'firstbloodassist': False, 'visionscore': 47, 'wardsplaced': 25, 'item4': 1029, 'item5': 3117, 'item6': 3364, 'turretkills': 0, 'triplekills': 0, 'damageselfmitigated': 10065, 'champlevel': 11, 'goldearned': 6148, 'magicaldamagetaken': 4682, 'kills': 0, 'doublekills': 0, 'truedamagetaken': 232, 'assists': 9, 'unrealkills': 0, 'neutralminionskilled': 0, 'objectiveplayerscore': 0, 'combatplayerscore': 0, 'damagedealttoturrets': 1074, 'physicaldamagedealttochampions': 1600, 'goldspent': 5800, 'truedamagedealt': 6657, 'truedamagedealttochampions': 469, 'participantid': 9, 'pentakills': 0, 'totalheal': 3042, 'totalminionskilled': 28, 'firstbloodkill': False, 'largestmultikill': 0, 'sightwardsboughtingame': 0, 'totaldamagedealttochampions': 9327, 'totalunitshealed': 5, 'inhibitorkills': 0, 'totalscorerank': 0, 'totaldamagetaken': 12192, 'killingsprees': 0, 'timeccingothers': 42, 'physicaldamagetaken': 7278, 'perk0': 8439, 'perk0var1': 480, 'perk0var2': 0, 'perk0var3': 0, 'perk1': 8463, 'perk1var1': 678, 'perk1var2': 0, 'perk1var3': 0, 'perk2': 8473, 'perk2var1': 549, 'perk2var2': 0, 'perk2var3': 0, 'perk3': 8242, 'perk3var1': 36, 'perk3var2': 0, 'perk3var3': 0, 'perk4': 8009, 'perk4var1': 1665, 'perk4var2': 500, 'perk4var3': 0, 'perk5': 9105, 'perk5var1': 22, 'perk5var2': 50, 'perk5var3': 0, 'perkprimarystyle': 8400, 'perksubstyle': 8000, 'longesttimespentliving': 613, 'statperk0': 5005, 'statperk1': 5002, 'statperk2': 5002}, 'participantid': 9, 'timeline': {'lane': 'BOTTOM', 'participantid': 9, 'csdiffpermindeltas': {'10-20': -0.2, '0-10': 0.45}, 'goldpermindeltas': {'10-20': 227, '0-10': 170.4}, 'xpdiffpermindeltas': {'10-20': -93.75, '0-10': -6.45}, 'creepspermindeltas': {'10-20': 1.3, '0-10': 1.2}, 'xppermindeltas': {'10-20': 265.4, '0-10': 233.8}, 'role': 'DUO_SUPPORT', 'damagetakendiffpermindeltas': {'10-20': -63.1, '0-10': -16.75}, 'damagetakenpermindeltas': {'10-20': 645.9, '0-10': 347.3}}, 'teamid': 200, 'spell2id': 4, 'spell1id': 14, 'championid': 57}, {'stats': {'physicaldamagedealt': 99898, 'neutralminionskilledteamjungle': 8, 'magicdamagedealt': 3636, 'totalplayerscore': 0, 'deaths': 3, 'win': True, 'neutralminionskilledenemyjungle': 0, 'largestcriticalstrike': 1013, 'totaldamagedealt': 105084, 'magicdamagedealttochampions': 928, 'visionwardsboughtingame': 1, 'damagedealttoobjectives': 12006, 'largestkillingspree': 6, 'item1': 3508, 'quadrakills': 0, 'totaltimecrowdcontroldealt': 154, 'wardskilled': 3, 'firsttowerassist': False, 'firsttowerkill': False, 'item2': 3031, 'item3': 3006, 'item0': 1055, 'firstbloodassist': False, 'visionscore': 15, 'wardsplaced': 10, 'item4': 1038, 'item5': 1053, 'item6': 3363, 'turretkills': 2, 'triplekills': 0, 'damageselfmitigated': 3706, 'champlevel': 13, 'goldearned': 11884, 'magicaldamagetaken': 3900, 'kills': 10, 'doublekills': 3, 'truedamagetaken': 362, 'assists': 2, 'unrealkills': 0, 'neutralminionskilled': 8, 'objectiveplayerscore': 0, 'combatplayerscore': 0, 'damagedealttoturrets': 3841, 'physicaldamagedealttochampions': 16801, 'goldspent': 10725, 'truedamagedealt': 1550, 'truedamagedealttochampions': 696, 'participantid': 10, 'pentakills': 0, 'totalheal': 969, 'totalminionskilled': 175, 'firstbloodkill': False, 'largestmultikill': 2, 'sightwardsboughtingame': 0, 'totaldamagedealttochampions': 18426, 'totalunitshealed': 3, 'inhibitorkills': 0, 'totalscorerank': 0, 'totaldamagetaken': 9754, 'killingsprees': 2, 'timeccingothers': 10, 'physicaldamagetaken': 5491, 'perk0': 8005, 'perk0var1': 1084, 'perk0var2': 879, 'perk0var3': 205, 'perk1': 8009, 'perk1var1': 1067, 'perk1var2': 500, 'perk1var3': 0, 'perk2': 9103, 'perk2var1': 24, 'perk2var2': 0, 'perk2var3': 0, 'perk3': 8017, 'perk3var1': 917, 'perk3var2': 0, 'perk3var3': 0, 'perk4': 8236, 'perk4var1': 14, 'perk4var2': 0, 'perk4var3': 0, 'perk5': 8234, 'perk5var1': 10260, 'perk5var2': 0, 'perk5var3': 0, 'perkprimarystyle': 8000, 'perksubstyle': 8200, 'longesttimespentliving': 728, 'statperk0': 5005, 'statperk1': 5008, 'statperk2': 5002}, 'participantid': 10, 'timeline': {'lane': 'BOTTOM', 'participantid': 10, 'csdiffpermindeltas': {'10-20': -0.2, '0-10': 0.45}, 'goldpermindeltas': {'10-20': 448.6, '0-10': 301.9}, 'xpdiffpermindeltas': {'10-20': -93.75, '0-10': -6.45}, 'creepspermindeltas': {'10-20': 7.6, '0-10': 7.8}, 'xppermindeltas': {'10-20': 433.6, '0-10': 318.1}, 'role': 'DUO_CARRY', 'damagetakendiffpermindeltas': {'10-20': -63.1, '0-10': -16.75}, 'damagetakenpermindeltas': {'10-20': 620.3, '0-10': 246.4}}, 'teamid': 200, 'spell2id': 7, 'spell1id': 4, 'championid': 21}]\n",
            "gameduration : 1514\n",
            "gamecreation : 1599158094\n",
            "participantextendedstats : [{'participantid': 1, 'position': 'MID', 'tier': 'DIAMOND', 'tierrank': 'II', 'leaguepoints': 33}, {'participantid': 2, 'position': 'SUPPORT', 'tier': 'DIAMOND', 'tierrank': 'III', 'leaguepoints': 75}, {'participantid': 3, 'position': 'TOP', 'tier': 'DIAMOND', 'tierrank': 'III', 'leaguepoints': 100}, {'participantid': 4, 'position': 'JUNGLE', 'tier': 'DIAMOND', 'tierrank': 'III', 'leaguepoints': 83}, {'participantid': 5, 'position': 'ADC', 'tier': 'DIAMOND', 'tierrank': 'II', 'leaguepoints': 63}, {'participantid': 6, 'position': 'TOP', 'tier': 'DIAMOND', 'tierrank': 'II', 'leaguepoints': 32}, {'participantid': 7, 'position': 'JUNGLE', 'tier': 'DIAMOND', 'tierrank': 'II', 'leaguepoints': 90}, {'participantid': 8, 'position': 'MID', 'tier': 'DIAMOND', 'tierrank': 'II', 'leaguepoints': 44}, {'participantid': 9, 'position': 'SUPPORT', 'tier': 'DIAMOND', 'tierrank': 'II', 'leaguepoints': 57}, {'participantid': 10, 'position': 'ADC', 'tier': 'DIAMOND', 'tierrank': 'III', 'leaguepoints': 100}]\n"
          ],
          "name": "stdout"
        }
      ]
    },
    {
      "cell_type": "code",
      "metadata": {
        "id": "CCXZKFm9yxK7"
      },
      "source": [
        "# 데이터에서 활용 가능한 키는 gameid, participantidentities, teams, participants, gameduration, gamecreation, participantextendedstats이다."
      ],
      "execution_count": null,
      "outputs": []
    },
    {
      "cell_type": "code",
      "metadata": {
        "id": "GzlHkITVVuHk"
      },
      "source": [
        "# 나타낸 데이터 중 list 형태이거나 dictionary 형태인 데이터는 따로 출력하여 분석한다."
      ],
      "execution_count": null,
      "outputs": []
    },
    {
      "cell_type": "code",
      "metadata": {
        "colab": {
          "base_uri": "https://localhost:8080/"
        },
        "id": "OMJQbepedV8Y",
        "outputId": "dab26a88-7abe-45e2-f569-6377e1d23fd7"
      },
      "source": [
        "# participantidentities 키의 값을 호출하여 데이터가 어떤 내용을 담고 있는지 분석한다.\n",
        "\n",
        "for i in data['participantidentities']:\n",
        "  print(i)"
      ],
      "execution_count": null,
      "outputs": [
        {
          "output_type": "stream",
          "text": [
            "{'player': {'currentplatformid': 'KR', 'matchhistoryuri': '/v1/stats/player_history/KR/2384460278402912', 'platformid': 'KR', 'profileicon': 23, 'summonerid': 'PF7wuKbEjIH7bUEivDRsJbiah9EF9EzRPO-LFLucLai7avA'}, 'participantid': 1}\n",
            "{'player': {'currentplatformid': 'KR', 'matchhistoryuri': '/v1/stats/player_history/KR/206928168', 'platformid': 'KR', 'profileicon': 4568, 'summonerid': 'JRuCiFpuzcsnQ9Gadn5A_0bm66-PrFaA3WKP5juhgetrx3Y'}, 'participantid': 2}\n",
            "{'player': {'currentplatformid': 'KR', 'matchhistoryuri': '/v1/stats/player_history/KR/2481287071728960', 'platformid': 'KR', 'profileicon': 7, 'summonerid': 'o5ZjlQkLgDZzDG_dkT0GVL7X34kp51abqkUN6P7K2WPeY1dy'}, 'participantid': 3}\n",
            "{'player': {'currentplatformid': 'KR', 'matchhistoryuri': '/v1/stats/player_history/KR/3380059', 'platformid': 'KR', 'profileicon': 4236, 'summonerid': 'TUdiT-gEHdtkmr9JkhqvtNy5L_nutzsw2oH23kgO71NSsA'}, 'participantid': 4}\n",
            "{'player': {'currentplatformid': 'KR', 'matchhistoryuri': '/v1/stats/player_history/KR/2478293106361536', 'platformid': 'KR', 'profileicon': 4629, 'summonerid': 'qmcY1AJTdznK_aTgW2e1qwCY1uwbam9HU09Wsa7nI9Wt5sYQ'}, 'participantid': 5}\n",
            "{'player': {'currentplatformid': 'KR', 'matchhistoryuri': '/v1/stats/player_history/KR/206082506', 'platformid': 'KR', 'profileicon': 3507, 'summonerid': 'aVkF6jW3XX09jGt89jlrksun1mjDSPDGgaG6aMerUoJHsZw'}, 'participantid': 6}\n",
            "{'player': {'currentplatformid': 'KR', 'matchhistoryuri': '/v1/stats/player_history/KR/208199342', 'platformid': 'KR', 'profileicon': 7, 'summonerid': 'NdcS9dgPtAbN_Vb_o6dXQGrK6sX_1Ne2rcVfhSenZMfytjs'}, 'participantid': 7}\n",
            "{'player': {'currentplatformid': 'KR', 'matchhistoryuri': '/v1/stats/player_history/KR/2413955723586816', 'platformid': 'KR', 'profileicon': 4653, 'summonerid': 'tFNs6Vhs0xyWMh8_9A9Lx3MwfKqBSWjaHM3hP7miUQSH46A'}, 'participantid': 8}\n",
            "{'player': {'currentplatformid': 'KR', 'matchhistoryuri': '/v1/stats/player_history/kr/210499367', 'platformid': 'kr', 'profileicon': 3790, 'summonerid': 'oZOstqygth7G6p98xlcllvatNasCsluMixZhQYQ8WJnoDtA'}, 'participantid': 9}\n",
            "{'player': {'currentplatformid': 'KR', 'matchhistoryuri': '/v1/stats/player_history/KR/206929328', 'platformid': 'KR', 'profileicon': 4666, 'summonerid': 'ELOByFaP_AyaYWEYTvcrUQF0X43qvrJWYK-nWKCEtbCwB_c'}, 'participantid': 10}\n"
          ],
          "name": "stdout"
        }
      ]
    },
    {
      "cell_type": "code",
      "metadata": {
        "colab": {
          "base_uri": "https://localhost:8080/"
        },
        "id": "aIsTk0mdVZUZ",
        "outputId": "4e55bbb1-d827-4908-8a25-ed4c1364531b"
      },
      "source": [
        "# participantidentities의 값을 보다 더 잘 살피기 위해 첫 참가자의 내용만 가져온다.\n",
        "# 이중에서 유의미한 변수는 소환사 아이디와 참가 아이디이다.\n",
        "\n",
        "for i in list(data['participantidentities'][0]['player'].keys()):\n",
        "  print(i, ':', data['participantidentities'][0]['player'][i])"
      ],
      "execution_count": null,
      "outputs": [
        {
          "output_type": "stream",
          "text": [
            "currentplatformid : KR\n",
            "matchhistoryuri : /v1/stats/player_history/KR/2384460278402912\n",
            "platformid : KR\n",
            "profileicon : 23\n",
            "summonerid : PF7wuKbEjIH7bUEivDRsJbiah9EF9EzRPO-LFLucLai7avA\n"
          ],
          "name": "stdout"
        }
      ]
    },
    {
      "cell_type": "code",
      "metadata": {
        "colab": {
          "base_uri": "https://localhost:8080/"
        },
        "id": "RwWrUXsAdkc4",
        "outputId": "b001b23f-6868-4e58-9e7c-bd1e2d2019df"
      },
      "source": [
        "# teams 키의 값을 호출하여 데이터가 어떤 내용을 담고 있는지 분석한다.\n",
        "\n",
        "for i in data['teams']:\n",
        "  print(i)"
      ],
      "execution_count": null,
      "outputs": [
        {
          "output_type": "stream",
          "text": [
            "{'firstdragon': False, 'firstinhibitor': False, 'bans': [{'pickturn': 1, 'championid': 104}, {'pickturn': 2, 'championid': 51}, {'pickturn': 3, 'championid': 58}, {'pickturn': 4, 'championid': 80}, {'pickturn': 5, 'championid': 777}], 'baronkills': 0, 'firstriftherald': True, 'firstbaron': False, 'riftheraldkills': 2, 'firstblood': True, 'teamid': 100, 'firsttower': True, 'vilemawkills': 0, 'inhibitorkills': 0, 'towerkills': 2, 'dominionvictoryscore': 0, 'win': 'Fail', 'dragonkills': 1}\n",
            "{'firstdragon': True, 'firstinhibitor': False, 'bans': [{'pickturn': 6, 'championid': 120}, {'pickturn': 7, 'championid': 104}, {'pickturn': 8, 'championid': 236}, {'pickturn': 9, 'championid': 89}, {'pickturn': 10, 'championid': 245}], 'baronkills': 1, 'firstriftherald': False, 'firstbaron': True, 'riftheraldkills': 0, 'firstblood': False, 'teamid': 200, 'firsttower': False, 'vilemawkills': 0, 'inhibitorkills': 0, 'towerkills': 5, 'dominionvictoryscore': 0, 'win': 'Win', 'dragonkills': 2}\n"
          ],
          "name": "stdout"
        }
      ]
    },
    {
      "cell_type": "code",
      "metadata": {
        "colab": {
          "base_uri": "https://localhost:8080/"
        },
        "id": "hXH7verhV4OH",
        "outputId": "a6d18ff2-e602-45f0-def0-902f5dd8838e"
      },
      "source": [
        "# teams 값을 보다 더 잘 살피기 위해 첫 참가자의 내용만 가져온다.\n",
        "# 이중에서 유의미한 변수는 밴과 팀아이디, 승리여부, 파괴한 억제기의 수이다.\n",
        "\n",
        "for i in list(data['teams'][0].keys()):\n",
        "  if type(data['teams'][0][i]) == list:\n",
        "    print(i, ':')\n",
        "    for j in data['teams'][0][i]:\n",
        "      print('\\t',j)\n",
        "  else:\n",
        "    print(i, ':', data['teams'][0][i])"
      ],
      "execution_count": null,
      "outputs": [
        {
          "output_type": "stream",
          "text": [
            "firstdragon : False\n",
            "firstinhibitor : False\n",
            "bans :\n",
            "\t {'pickturn': 1, 'championid': 104}\n",
            "\t {'pickturn': 2, 'championid': 51}\n",
            "\t {'pickturn': 3, 'championid': 58}\n",
            "\t {'pickturn': 4, 'championid': 80}\n",
            "\t {'pickturn': 5, 'championid': 777}\n",
            "baronkills : 0\n",
            "firstriftherald : True\n",
            "firstbaron : False\n",
            "riftheraldkills : 2\n",
            "firstblood : True\n",
            "teamid : 100\n",
            "firsttower : True\n",
            "vilemawkills : 0\n",
            "inhibitorkills : 0\n",
            "towerkills : 2\n",
            "dominionvictoryscore : 0\n",
            "win : Fail\n",
            "dragonkills : 1\n"
          ],
          "name": "stdout"
        }
      ]
    },
    {
      "cell_type": "code",
      "metadata": {
        "colab": {
          "base_uri": "https://localhost:8080/"
        },
        "id": "wCs_q04weXM7",
        "outputId": "87124ef3-0af4-47ae-d4ea-251233e4c1a7"
      },
      "source": [
        "for i in data['participants']:\n",
        "  print(i)"
      ],
      "execution_count": null,
      "outputs": [
        {
          "output_type": "stream",
          "text": [
            "{'stats': {'physicaldamagedealt': 14561, 'neutralminionskilledteamjungle': 11, 'magicdamagedealt': 54201, 'totalplayerscore': 0, 'deaths': 3, 'win': False, 'neutralminionskilledenemyjungle': 0, 'largestcriticalstrike': 0, 'totaldamagedealt': 70392, 'magicdamagedealttochampions': 14450, 'visionwardsboughtingame': 0, 'damagedealttoobjectives': 8413, 'largestkillingspree': 2, 'item1': 3003, 'quadrakills': 0, 'totaltimecrowdcontroldealt': 108, 'wardskilled': 7, 'firsttowerassist': False, 'firsttowerkill': False, 'item2': 2421, 'item3': 3020, 'item0': 1054, 'firstbloodassist': False, 'visionscore': 20, 'wardsplaced': 4, 'item4': 3027, 'item5': 0, 'item6': 3364, 'turretkills': 0, 'triplekills': 0, 'damageselfmitigated': 13394, 'champlevel': 13, 'goldearned': 9063, 'magicaldamagetaken': 8731, 'kills': 4, 'doublekills': 0, 'truedamagetaken': 1439, 'assists': 9, 'unrealkills': 0, 'neutralminionskilled': 15, 'objectiveplayerscore': 0, 'combatplayerscore': 0, 'damagedealttoturrets': 1657, 'physicaldamagedealttochampions': 1253, 'goldspent': 8050, 'truedamagedealt': 1629, 'truedamagedealttochampions': 204, 'participantid': 1, 'pentakills': 0, 'totalheal': 7508, 'totalminionskilled': 134, 'firstbloodkill': False, 'largestmultikill': 1, 'sightwardsboughtingame': 0, 'totaldamagedealttochampions': 15908, 'totalunitshealed': 1, 'inhibitorkills': 0, 'totalscorerank': 0, 'totaldamagetaken': 23238, 'killingsprees': 1, 'timeccingothers': 13, 'physicaldamagetaken': 13068, 'perk0': 8021, 'perk0var1': 2306, 'perk0var2': 0, 'perk0var3': 0, 'perk1': 8009, 'perk1var1': 4824, 'perk1var2': 500, 'perk1var3': 0, 'perk2': 9105, 'perk2var1': 17, 'perk2var2': 0, 'perk2var3': 0, 'perk3': 8014, 'perk3var1': 316, 'perk3var2': 0, 'perk3var3': 0, 'perk4': 8139, 'perk4var1': 629, 'perk4var2': 0, 'perk4var3': 0, 'perk5': 8135, 'perk5var1': 2101, 'perk5var2': 5, 'perk5var3': 0, 'perkprimarystyle': 8000, 'perksubstyle': 8100, 'longesttimespentliving': 942, 'statperk0': 5008, 'statperk1': 5008, 'statperk2': 5003}, 'participantid': 1, 'timeline': {'lane': 'MIDDLE', 'participantid': 1, 'csdiffpermindeltas': {'10-20': -0.8, '0-10': -0.1}, 'goldpermindeltas': {'10-20': 386.6, '0-10': 301.8}, 'xpdiffpermindeltas': {'10-20': -3.4, '0-10': -19.7}, 'creepspermindeltas': {'10-20': 5.4, '0-10': 7.9}, 'xppermindeltas': {'10-20': 400.1, '0-10': 434.8}, 'role': 'SOLO', 'damagetakendiffpermindeltas': {'10-20': 139.3, '0-10': 147.7}, 'damagetakenpermindeltas': {'10-20': 1033.8, '0-10': 317.3}}, 'teamid': 100, 'spell2id': 12, 'spell1id': 4, 'championid': 38}\n",
            "{'stats': {'physicaldamagedealt': 3704, 'neutralminionskilledteamjungle': 0, 'magicdamagedealt': 5015, 'totalplayerscore': 0, 'deaths': 7, 'win': False, 'neutralminionskilledenemyjungle': 0, 'largestcriticalstrike': 0, 'totaldamagedealt': 14066, 'magicdamagedealttochampions': 3730, 'visionwardsboughtingame': 3, 'damagedealttoobjectives': 3250, 'largestkillingspree': 2, 'item1': 3109, 'quadrakills': 0, 'totaltimecrowdcontroldealt': 83, 'wardskilled': 7, 'firsttowerassist': False, 'firsttowerkill': False, 'item2': 3859, 'item3': 0, 'item0': 2065, 'firstbloodassist': False, 'visionscore': 58, 'wardsplaced': 29, 'item4': 0, 'item5': 3117, 'item6': 3364, 'turretkills': 0, 'triplekills': 0, 'damageselfmitigated': 16913, 'champlevel': 11, 'goldearned': 7032, 'magicaldamagetaken': 7670, 'kills': 3, 'doublekills': 0, 'truedamagetaken': 1281, 'assists': 12, 'unrealkills': 0, 'neutralminionskilled': 0, 'objectiveplayerscore': 0, 'combatplayerscore': 0, 'damagedealttoturrets': 0, 'physicaldamagedealttochampions': 1152, 'goldspent': 5975, 'truedamagedealt': 5345, 'truedamagedealttochampions': 587, 'participantid': 2, 'pentakills': 0, 'totalheal': 2962, 'totalminionskilled': 23, 'firstbloodkill': False, 'largestmultikill': 1, 'sightwardsboughtingame': 0, 'totaldamagedealttochampions': 5469, 'totalunitshealed': 5, 'inhibitorkills': 0, 'totalscorerank': 0, 'totaldamagetaken': 18367, 'killingsprees': 1, 'timeccingothers': 22, 'physicaldamagetaken': 9414, 'perk0': 8465, 'perk0var1': 3196, 'perk0var2': 0, 'perk0var3': 0, 'perk1': 8463, 'perk1var1': 659, 'perk1var2': 0, 'perk1var3': 0, 'perk2': 8444, 'perk2var1': 775, 'perk2var2': 0, 'perk2var3': 0, 'perk3': 8453, 'perk3var1': 322, 'perk3var2': 482, 'perk3var3': 0, 'perk4': 8106, 'perk4var1': 5, 'perk4var2': 0, 'perk4var3': 0, 'perk5': 8136, 'perk5var1': 11, 'perk5var2': 30, 'perk5var3': 0, 'perkprimarystyle': 8400, 'perksubstyle': 8100, 'longesttimespentliving': 617, 'statperk0': 5007, 'statperk1': 5003, 'statperk2': 5002}, 'participantid': 2, 'timeline': {'lane': 'BOTTOM', 'participantid': 2, 'csdiffpermindeltas': {'10-20': 0.2, '0-10': -0.45}, 'goldpermindeltas': {'10-20': 288.2, '0-10': 249.2}, 'xpdiffpermindeltas': {'10-20': 93.75, '0-10': 6.45}, 'creepspermindeltas': {'10-20': 1.1, '0-10': 1}, 'xppermindeltas': {'10-20': 312.7, '0-10': 222.1}, 'role': 'DUO_SUPPORT', 'damagetakendiffpermindeltas': {'10-20': 63.1, '0-10': 16.75}, 'damagetakenpermindeltas': {'10-20': 824.1, '0-10': 284.1}}, 'teamid': 100, 'spell2id': 4, 'spell1id': 14, 'championid': 497}\n",
            "{'stats': {'physicaldamagedealt': 73712, 'neutralminionskilledteamjungle': 0, 'magicdamagedealt': 1359, 'totalplayerscore': 0, 'deaths': 6, 'win': False, 'neutralminionskilledenemyjungle': 0, 'largestcriticalstrike': 0, 'totaldamagedealt': 89119, 'magicdamagedealttochampions': 1359, 'visionwardsboughtingame': 1, 'damagedealttoobjectives': 8305, 'largestkillingspree': 4, 'item1': 3105, 'quadrakills': 0, 'totaltimecrowdcontroldealt': 168, 'wardskilled': 0, 'firsttowerassist': False, 'firsttowerkill': False, 'item2': 3078, 'item3': 3158, 'item0': 1055, 'firstbloodassist': False, 'visionscore': 16, 'wardsplaced': 6, 'item4': 1036, 'item5': 3074, 'item6': 3340, 'turretkills': 1, 'triplekills': 0, 'damageselfmitigated': 23139, 'champlevel': 13, 'goldearned': 10692, 'magicaldamagetaken': 7015, 'kills': 8, 'doublekills': 1, 'truedamagetaken': 3807, 'assists': 4, 'unrealkills': 0, 'neutralminionskilled': 4, 'objectiveplayerscore': 0, 'combatplayerscore': 0, 'damagedealttoturrets': 2741, 'physicaldamagedealttochampions': 15219, 'goldspent': 10508, 'truedamagedealt': 14047, 'truedamagedealttochampions': 5467, 'participantid': 3, 'pentakills': 0, 'totalheal': 1837, 'totalminionskilled': 129, 'firstbloodkill': True, 'largestmultikill': 2, 'sightwardsboughtingame': 0, 'totaldamagedealttochampions': 22046, 'totalunitshealed': 1, 'inhibitorkills': 0, 'totalscorerank': 0, 'totaldamagetaken': 29863, 'killingsprees': 2, 'timeccingothers': 13, 'physicaldamagetaken': 19040, 'perk0': 8437, 'perk0var1': 829, 'perk0var2': 595, 'perk0var3': 0, 'perk1': 8401, 'perk1var1': 923, 'perk1var2': 0, 'perk1var3': 0, 'perk2': 8444, 'perk2var1': 1478, 'perk2var2': 0, 'perk2var3': 0, 'perk3': 8451, 'perk3var1': 145, 'perk3var2': 0, 'perk3var3': 0, 'perk4': 8304, 'perk4var1': 9, 'perk4var2': 4, 'perk4var3': 5, 'perk5': 8345, 'perk5var1': 3, 'perk5var2': 0, 'perk5var3': 0, 'perkprimarystyle': 8400, 'perksubstyle': 8300, 'longesttimespentliving': 819, 'statperk0': 5005, 'statperk1': 5008, 'statperk2': 5002}, 'participantid': 3, 'timeline': {'lane': 'TOP', 'participantid': 3, 'csdiffpermindeltas': {'10-20': -1.8, '0-10': -0.2}, 'goldpermindeltas': {'10-20': 566.7, '0-10': 315.3}, 'xpdiffpermindeltas': {'10-20': -51, '0-10': 47.7}, 'creepspermindeltas': {'10-20': 6.2, '0-10': 6.4}, 'xppermindeltas': {'10-20': 545.3, '0-10': 457.9}, 'role': 'SOLO', 'damagetakendiffpermindeltas': {'10-20': 277.8, '0-10': -110}, 'damagetakenpermindeltas': {'10-20': 1363.6, '0-10': 641.2}}, 'teamid': 100, 'spell2id': 12, 'spell1id': 4, 'championid': 164}\n",
            "{'stats': {'physicaldamagedealt': 82341, 'neutralminionskilledteamjungle': 87, 'magicdamagedealt': 33008, 'totalplayerscore': 0, 'deaths': 9, 'win': False, 'neutralminionskilledenemyjungle': 4, 'largestcriticalstrike': 0, 'totaldamagedealt': 129234, 'magicdamagedealttochampions': 3892, 'visionwardsboughtingame': 3, 'damagedealttoobjectives': 17285, 'largestkillingspree': 0, 'item1': 3748, 'quadrakills': 0, 'totaltimecrowdcontroldealt': 186, 'wardskilled': 4, 'firsttowerassist': False, 'firsttowerkill': False, 'item2': 2055, 'item3': 1028, 'item0': 1413, 'firstbloodassist': False, 'visionscore': 19, 'wardsplaced': 3, 'item4': 3009, 'item5': 1029, 'item6': 3364, 'turretkills': 1, 'triplekills': 0, 'damageselfmitigated': 16768, 'champlevel': 12, 'goldearned': 8167, 'magicaldamagetaken': 8862, 'kills': 2, 'doublekills': 0, 'truedamagetaken': 2254, 'assists': 7, 'unrealkills': 0, 'neutralminionskilled': 111, 'objectiveplayerscore': 0, 'combatplayerscore': 0, 'damagedealttoturrets': 580, 'physicaldamagedealttochampions': 3029, 'goldspent': 7825, 'truedamagedealt': 13884, 'truedamagedealttochampions': 386, 'participantid': 4, 'pentakills': 0, 'totalheal': 13310, 'totalminionskilled': 31, 'firstbloodkill': False, 'largestmultikill': 1, 'sightwardsboughtingame': 0, 'totaldamagedealttochampions': 7308, 'totalunitshealed': 1, 'inhibitorkills': 0, 'totalscorerank': 0, 'totaldamagetaken': 30215, 'killingsprees': 0, 'timeccingothers': 17, 'physicaldamagetaken': 19098, 'perk0': 8005, 'perk0var1': 829, 'perk0var2': 427, 'perk0var3': 402, 'perk1': 9111, 'perk1var1': 332, 'perk1var2': 180, 'perk1var3': 0, 'perk2': 9105, 'perk2var1': 14, 'perk2var2': 30, 'perk2var3': 0, 'perk3': 8299, 'perk3var1': 211, 'perk3var2': 0, 'perk3var3': 0, 'perk4': 8234, 'perk4var1': 10068, 'perk4var2': 0, 'perk4var3': 0, 'perk5': 8232, 'perk5var1': 4, 'perk5var2': 50, 'perk5var3': 0, 'perkprimarystyle': 8000, 'perksubstyle': 8200, 'longesttimespentliving': 309, 'statperk0': 5005, 'statperk1': 5008, 'statperk2': 5002}, 'participantid': 4, 'timeline': {'lane': 'JUNGLE', 'participantid': 4, 'csdiffpermindeltas': {'10-20': -0.6, '0-10': 0.5}, 'goldpermindeltas': {'10-20': 390.2, '0-10': 235.3}, 'xpdiffpermindeltas': {'10-20': -24.7, '0-10': -82.9}, 'creepspermindeltas': {'10-20': 0.7, '0-10': 0.5}, 'xppermindeltas': {'10-20': 459.7, '0-10': 273.3}, 'role': 'NONE', 'damagetakendiffpermindeltas': {'10-20': 222.9, '0-10': -84.6}, 'damagetakenpermindeltas': {'10-20': 1418.9, '0-10': 738.8}}, 'teamid': 100, 'spell2id': 4, 'spell1id': 11, 'championid': 19}\n",
            "{'stats': {'physicaldamagedealt': 95118, 'neutralminionskilledteamjungle': 12, 'magicdamagedealt': 9692, 'totalplayerscore': 0, 'deaths': 3, 'win': False, 'neutralminionskilledenemyjungle': 0, 'largestcriticalstrike': 499, 'totaldamagedealt': 106915, 'magicdamagedealttochampions': 5394, 'visionwardsboughtingame': 0, 'damagedealttoobjectives': 4834, 'largestkillingspree': 6, 'item1': 1052, 'quadrakills': 0, 'totaltimecrowdcontroldealt': 14, 'wardskilled': 5, 'firsttowerassist': False, 'firsttowerkill': False, 'item2': 3134, 'item3': 3508, 'item0': 1055, 'firstbloodassist': False, 'visionscore': 23, 'wardsplaced': 8, 'item4': 3006, 'item5': 3115, 'item6': 3363, 'turretkills': 0, 'triplekills': 0, 'damageselfmitigated': 8360, 'champlevel': 13, 'goldearned': 10777, 'magicaldamagetaken': 5827, 'kills': 9, 'doublekills': 0, 'truedamagetaken': 932, 'assists': 5, 'unrealkills': 0, 'neutralminionskilled': 16, 'objectiveplayerscore': 0, 'combatplayerscore': 0, 'damagedealttoturrets': 0, 'physicaldamagedealttochampions': 12381, 'goldspent': 9585, 'truedamagedealt': 2103, 'truedamagedealttochampions': 539, 'participantid': 5, 'pentakills': 0, 'totalheal': 2328, 'totalminionskilled': 174, 'firstbloodkill': False, 'largestmultikill': 1, 'sightwardsboughtingame': 0, 'totaldamagedealttochampions': 18316, 'totalunitshealed': 1, 'inhibitorkills': 0, 'totalscorerank': 0, 'totaldamagetaken': 14532, 'killingsprees': 2, 'timeccingothers': 1, 'physicaldamagetaken': 7772, 'perk0': 9923, 'perk0var1': 55, 'perk0var2': 76, 'perk0var3': 0, 'perk1': 8139, 'perk1var1': 917, 'perk1var2': 0, 'perk1var3': 0, 'perk2': 8138, 'perk2var1': 18, 'perk2var2': 0, 'perk2var3': 0, 'perk3': 8135, 'perk3var1': 1857, 'perk3var2': 5, 'perk3var3': 0, 'perk4': 8009, 'perk4var1': 2757, 'perk4var2': 500, 'perk4var3': 0, 'perk5': 9103, 'perk5var1': 24, 'perk5var2': 40, 'perk5var3': 0, 'perkprimarystyle': 8100, 'perksubstyle': 8000, 'longesttimespentliving': 777, 'statperk0': 5005, 'statperk1': 5008, 'statperk2': 5002}, 'participantid': 5, 'timeline': {'lane': 'BOTTOM', 'participantid': 5, 'csdiffpermindeltas': {'10-20': 0.2, '0-10': -0.45}, 'goldpermindeltas': {'10-20': 500.9, '0-10': 289.1}, 'xpdiffpermindeltas': {'10-20': 93.75, '0-10': 6.45}, 'creepspermindeltas': {'10-20': 8.2, '0-10': 7.1}, 'xppermindeltas': {'10-20': 573.8, '0-10': 342.7}, 'role': 'DUO_CARRY', 'damagetakendiffpermindeltas': {'10-20': 63.1, '0-10': 16.75}, 'damagetakenpermindeltas': {'10-20': 568.3, '0-10': 343.1}}, 'teamid': 100, 'spell2id': 4, 'spell1id': 1, 'championid': 145}\n",
            "{'stats': {'physicaldamagedealt': 119854, 'neutralminionskilledteamjungle': 8, 'magicdamagedealt': 1643, 'totalplayerscore': 0, 'deaths': 8, 'win': True, 'neutralminionskilledenemyjungle': 6, 'largestcriticalstrike': 530, 'totaldamagedealt': 128604, 'magicdamagedealttochampions': 901, 'visionwardsboughtingame': 0, 'damagedealttoobjectives': 13208, 'largestkillingspree': 2, 'item1': 3078, 'quadrakills': 0, 'totaltimecrowdcontroldealt': 116, 'wardskilled': 2, 'firsttowerassist': False, 'firsttowerkill': False, 'item2': 3074, 'item3': 0, 'item0': 3812, 'firstbloodassist': False, 'visionscore': 10, 'wardsplaced': 7, 'item4': 1029, 'item5': 2422, 'item6': 3340, 'turretkills': 2, 'triplekills': 0, 'damageselfmitigated': 27078, 'champlevel': 14, 'goldearned': 12727, 'magicaldamagetaken': 5383, 'kills': 7, 'doublekills': 2, 'truedamagetaken': 4957, 'assists': 10, 'unrealkills': 0, 'neutralminionskilled': 20, 'objectiveplayerscore': 0, 'combatplayerscore': 0, 'damagedealttoturrets': 5877, 'physicaldamagedealttochampions': 19213, 'goldspent': 12413, 'truedamagedealt': 7106, 'truedamagedealttochampions': 3484, 'participantid': 6, 'pentakills': 0, 'totalheal': 9648, 'totalminionskilled': 150, 'firstbloodkill': False, 'largestmultikill': 2, 'sightwardsboughtingame': 0, 'totaldamagedealttochampions': 23599, 'totalunitshealed': 4, 'inhibitorkills': 0, 'totalscorerank': 0, 'totaldamagetaken': 33083, 'killingsprees': 3, 'timeccingothers': 10, 'physicaldamagetaken': 22741, 'perk0': 8010, 'perk0var1': 1652, 'perk0var2': 0, 'perk0var3': 0, 'perk1': 9111, 'perk1var1': 815, 'perk1var2': 340, 'perk1var3': 0, 'perk2': 9104, 'perk2var1': 17, 'perk2var2': 20, 'perk2var3': 0, 'perk3': 8299, 'perk3var1': 1035, 'perk3var2': 0, 'perk3var3': 0, 'perk4': 8304, 'perk4var1': 9, 'perk4var2': 4, 'perk4var3': 5, 'perk5': 8345, 'perk5var1': 3, 'perk5var2': 0, 'perk5var3': 0, 'perkprimarystyle': 8000, 'perksubstyle': 8300, 'longesttimespentliving': 460, 'statperk0': 5005, 'statperk1': 5008, 'statperk2': 5002}, 'participantid': 6, 'timeline': {'lane': 'TOP', 'participantid': 6, 'csdiffpermindeltas': {'10-20': 1.8, '0-10': 0.2}, 'goldpermindeltas': {'10-20': 548.8, '0-10': 311.6}, 'xpdiffpermindeltas': {'10-20': 51, '0-10': -47.7}, 'creepspermindeltas': {'10-20': 8, '0-10': 6.6}, 'xppermindeltas': {'10-20': 596.3, '0-10': 410.2}, 'role': 'SOLO', 'damagetakendiffpermindeltas': {'10-20': -277.8, '0-10': 110}, 'damagetakenpermindeltas': {'10-20': 1085.8, '0-10': 751.2}}, 'teamid': 200, 'spell2id': 4, 'spell1id': 12, 'championid': 114}\n",
            "{'stats': {'physicaldamagedealt': 19367, 'neutralminionskilledteamjungle': 112, 'magicdamagedealt': 95667, 'totalplayerscore': 0, 'deaths': 7, 'win': True, 'neutralminionskilledenemyjungle': 1, 'largestcriticalstrike': 0, 'totaldamagedealt': 144449, 'magicdamagedealttochampions': 12515, 'visionwardsboughtingame': 3, 'damagedealttoobjectives': 9793, 'largestkillingspree': 2, 'item1': 2031, 'quadrakills': 0, 'totaltimecrowdcontroldealt': 358, 'wardskilled': 1, 'firsttowerassist': False, 'firsttowerkill': False, 'item2': 3157, 'item3': 3151, 'item0': 1052, 'firstbloodassist': False, 'visionscore': 15, 'wardsplaced': 4, 'item4': 3009, 'item5': 1402, 'item6': 3364, 'turretkills': 0, 'triplekills': 0, 'damageselfmitigated': 10616, 'champlevel': 13, 'goldearned': 10383, 'magicaldamagetaken': 9207, 'kills': 6, 'doublekills': 1, 'truedamagetaken': 1303, 'assists': 14, 'unrealkills': 0, 'neutralminionskilled': 138, 'objectiveplayerscore': 0, 'combatplayerscore': 0, 'damagedealttoturrets': 430, 'physicaldamagedealttochampions': 534, 'goldspent': 10210, 'truedamagedealt': 29414, 'truedamagedealttochampions': 5028, 'participantid': 7, 'pentakills': 0, 'totalheal': 9816, 'totalminionskilled': 13, 'firstbloodkill': False, 'largestmultikill': 2, 'sightwardsboughtingame': 0, 'totaldamagedealttochampions': 18079, 'totalunitshealed': 1, 'inhibitorkills': 0, 'totalscorerank': 0, 'totaldamagetaken': 26769, 'killingsprees': 1, 'timeccingothers': 26, 'physicaldamagetaken': 16257, 'perk0': 8230, 'perk0var1': 14, 'perk0var2': 0, 'perk0var3': 0, 'perk1': 8275, 'perk1var1': 19, 'perk1var2': 0, 'perk1var3': 0, 'perk2': 8234, 'perk2var1': 15224, 'perk2var2': 0, 'perk2var3': 0, 'perk3': 8232, 'perk3var1': 3, 'perk3var2': 20, 'perk3var3': 0, 'perk4': 8126, 'perk4var1': 810, 'perk4var2': 0, 'perk4var3': 0, 'perk5': 8135, 'perk5var1': 5315, 'perk5var2': 5, 'perk5var3': 0, 'perkprimarystyle': 8200, 'perksubstyle': 8100, 'longesttimespentliving': 364, 'statperk0': 5007, 'statperk1': 5008, 'statperk2': 5002}, 'participantid': 7, 'timeline': {'lane': 'JUNGLE', 'participantid': 7, 'csdiffpermindeltas': {'10-20': 0.6, '0-10': -0.5}, 'goldpermindeltas': {'10-20': 393.9, '0-10': 359.2}, 'xpdiffpermindeltas': {'10-20': 24.7, '0-10': 82.9}, 'creepspermindeltas': {'10-20': 1.3, '0-10': 0}, 'xppermindeltas': {'10-20': 484.4, '0-10': 356.2}, 'role': 'NONE', 'damagetakendiffpermindeltas': {'10-20': -222.9, '0-10': 84.6}, 'damagetakenpermindeltas': {'10-20': 1196, '0-10': 823.4}}, 'teamid': 200, 'spell2id': 4, 'spell1id': 11, 'championid': 876}\n",
            "{'stats': {'physicaldamagedealt': 12596, 'neutralminionskilledteamjungle': 0, 'magicdamagedealt': 69548, 'totalplayerscore': 0, 'deaths': 4, 'win': True, 'neutralminionskilledenemyjungle': 0, 'largestcriticalstrike': 0, 'totaldamagedealt': 87186, 'magicdamagedealttochampions': 13447, 'visionwardsboughtingame': 3, 'damagedealttoobjectives': 5582, 'largestkillingspree': 2, 'item1': 3157, 'quadrakills': 0, 'totaltimecrowdcontroldealt': 73, 'wardskilled': 2, 'firsttowerassist': False, 'firsttowerkill': False, 'item2': 3027, 'item3': 3111, 'item0': 3100, 'firstbloodassist': False, 'visionscore': 20, 'wardsplaced': 10, 'item4': 0, 'item5': 0, 'item6': 3340, 'turretkills': 0, 'triplekills': 0, 'damageselfmitigated': 9446, 'champlevel': 13, 'goldearned': 10369, 'magicaldamagetaken': 10030, 'kills': 5, 'doublekills': 0, 'truedamagetaken': 438, 'assists': 12, 'unrealkills': 0, 'neutralminionskilled': 4, 'objectiveplayerscore': 0, 'combatplayerscore': 0, 'damagedealttoturrets': 2731, 'physicaldamagedealttochampions': 2558, 'goldspent': 10200, 'truedamagedealt': 5042, 'truedamagedealttochampions': 38, 'participantid': 8, 'pentakills': 0, 'totalheal': 4488, 'totalminionskilled': 146, 'firstbloodkill': False, 'largestmultikill': 1, 'sightwardsboughtingame': 0, 'totaldamagedealttochampions': 16044, 'totalunitshealed': 1, 'inhibitorkills': 0, 'totalscorerank': 0, 'totaldamagetaken': 16524, 'killingsprees': 2, 'timeccingothers': 25, 'physicaldamagetaken': 6054, 'perk0': 8360, 'perk0var1': 8, 'perk0var2': 0, 'perk0var3': 0, 'perk1': 8313, 'perk1var1': 0, 'perk1var2': 0, 'perk1var3': 0, 'perk2': 8316, 'perk2var1': 3080, 'perk2var2': 0, 'perk2var3': 0, 'perk3': 8352, 'perk3var1': 293, 'perk3var2': 1000, 'perk3var3': 825, 'perk4': 8275, 'perk4var1': 11, 'perk4var2': 0, 'perk4var3': 0, 'perk5': 8210, 'perk5var1': 0, 'perk5var2': 0, 'perk5var3': 0, 'perkprimarystyle': 8300, 'perksubstyle': 8200, 'longesttimespentliving': 787, 'statperk0': 5005, 'statperk1': 5008, 'statperk2': 5003}, 'participantid': 8, 'timeline': {'lane': 'MIDDLE', 'participantid': 8, 'csdiffpermindeltas': {'10-20': 0.8, '0-10': 0.1}, 'goldpermindeltas': {'10-20': 410.7, '0-10': 357.7}, 'xpdiffpermindeltas': {'10-20': 3.4, '0-10': 19.7}, 'creepspermindeltas': {'10-20': 6.2, '0-10': 8}, 'xppermindeltas': {'10-20': 403.5, '0-10': 454.5}, 'role': 'SOLO', 'damagetakendiffpermindeltas': {'10-20': -139.3, '0-10': -147.7}, 'damagetakenpermindeltas': {'10-20': 894.5, '0-10': 169.6}}, 'teamid': 200, 'spell2id': 4, 'spell1id': 12, 'championid': 4}\n",
            "{'stats': {'physicaldamagedealt': 7050, 'neutralminionskilledteamjungle': 0, 'magicdamagedealt': 17047, 'totalplayerscore': 0, 'deaths': 4, 'win': True, 'neutralminionskilledenemyjungle': 0, 'largestcriticalstrike': 0, 'totaldamagedealt': 30755, 'magicdamagedealttochampions': 7258, 'visionwardsboughtingame': 9, 'damagedealttoobjectives': 3536, 'largestkillingspree': 0, 'item1': 3050, 'quadrakills': 0, 'totaltimecrowdcontroldealt': 193, 'wardskilled': 5, 'firsttowerassist': False, 'firsttowerkill': False, 'item2': 0, 'item3': 3067, 'item0': 3860, 'firstbloodassist': False, 'visionscore': 47, 'wardsplaced': 25, 'item4': 1029, 'item5': 3117, 'item6': 3364, 'turretkills': 0, 'triplekills': 0, 'damageselfmitigated': 10065, 'champlevel': 11, 'goldearned': 6148, 'magicaldamagetaken': 4682, 'kills': 0, 'doublekills': 0, 'truedamagetaken': 232, 'assists': 9, 'unrealkills': 0, 'neutralminionskilled': 0, 'objectiveplayerscore': 0, 'combatplayerscore': 0, 'damagedealttoturrets': 1074, 'physicaldamagedealttochampions': 1600, 'goldspent': 5800, 'truedamagedealt': 6657, 'truedamagedealttochampions': 469, 'participantid': 9, 'pentakills': 0, 'totalheal': 3042, 'totalminionskilled': 28, 'firstbloodkill': False, 'largestmultikill': 0, 'sightwardsboughtingame': 0, 'totaldamagedealttochampions': 9327, 'totalunitshealed': 5, 'inhibitorkills': 0, 'totalscorerank': 0, 'totaldamagetaken': 12192, 'killingsprees': 0, 'timeccingothers': 42, 'physicaldamagetaken': 7278, 'perk0': 8439, 'perk0var1': 480, 'perk0var2': 0, 'perk0var3': 0, 'perk1': 8463, 'perk1var1': 678, 'perk1var2': 0, 'perk1var3': 0, 'perk2': 8473, 'perk2var1': 549, 'perk2var2': 0, 'perk2var3': 0, 'perk3': 8242, 'perk3var1': 36, 'perk3var2': 0, 'perk3var3': 0, 'perk4': 8009, 'perk4var1': 1665, 'perk4var2': 500, 'perk4var3': 0, 'perk5': 9105, 'perk5var1': 22, 'perk5var2': 50, 'perk5var3': 0, 'perkprimarystyle': 8400, 'perksubstyle': 8000, 'longesttimespentliving': 613, 'statperk0': 5005, 'statperk1': 5002, 'statperk2': 5002}, 'participantid': 9, 'timeline': {'lane': 'BOTTOM', 'participantid': 9, 'csdiffpermindeltas': {'10-20': -0.2, '0-10': 0.45}, 'goldpermindeltas': {'10-20': 227, '0-10': 170.4}, 'xpdiffpermindeltas': {'10-20': -93.75, '0-10': -6.45}, 'creepspermindeltas': {'10-20': 1.3, '0-10': 1.2}, 'xppermindeltas': {'10-20': 265.4, '0-10': 233.8}, 'role': 'DUO_SUPPORT', 'damagetakendiffpermindeltas': {'10-20': -63.1, '0-10': -16.75}, 'damagetakenpermindeltas': {'10-20': 645.9, '0-10': 347.3}}, 'teamid': 200, 'spell2id': 4, 'spell1id': 14, 'championid': 57}\n",
            "{'stats': {'physicaldamagedealt': 99898, 'neutralminionskilledteamjungle': 8, 'magicdamagedealt': 3636, 'totalplayerscore': 0, 'deaths': 3, 'win': True, 'neutralminionskilledenemyjungle': 0, 'largestcriticalstrike': 1013, 'totaldamagedealt': 105084, 'magicdamagedealttochampions': 928, 'visionwardsboughtingame': 1, 'damagedealttoobjectives': 12006, 'largestkillingspree': 6, 'item1': 3508, 'quadrakills': 0, 'totaltimecrowdcontroldealt': 154, 'wardskilled': 3, 'firsttowerassist': False, 'firsttowerkill': False, 'item2': 3031, 'item3': 3006, 'item0': 1055, 'firstbloodassist': False, 'visionscore': 15, 'wardsplaced': 10, 'item4': 1038, 'item5': 1053, 'item6': 3363, 'turretkills': 2, 'triplekills': 0, 'damageselfmitigated': 3706, 'champlevel': 13, 'goldearned': 11884, 'magicaldamagetaken': 3900, 'kills': 10, 'doublekills': 3, 'truedamagetaken': 362, 'assists': 2, 'unrealkills': 0, 'neutralminionskilled': 8, 'objectiveplayerscore': 0, 'combatplayerscore': 0, 'damagedealttoturrets': 3841, 'physicaldamagedealttochampions': 16801, 'goldspent': 10725, 'truedamagedealt': 1550, 'truedamagedealttochampions': 696, 'participantid': 10, 'pentakills': 0, 'totalheal': 969, 'totalminionskilled': 175, 'firstbloodkill': False, 'largestmultikill': 2, 'sightwardsboughtingame': 0, 'totaldamagedealttochampions': 18426, 'totalunitshealed': 3, 'inhibitorkills': 0, 'totalscorerank': 0, 'totaldamagetaken': 9754, 'killingsprees': 2, 'timeccingothers': 10, 'physicaldamagetaken': 5491, 'perk0': 8005, 'perk0var1': 1084, 'perk0var2': 879, 'perk0var3': 205, 'perk1': 8009, 'perk1var1': 1067, 'perk1var2': 500, 'perk1var3': 0, 'perk2': 9103, 'perk2var1': 24, 'perk2var2': 0, 'perk2var3': 0, 'perk3': 8017, 'perk3var1': 917, 'perk3var2': 0, 'perk3var3': 0, 'perk4': 8236, 'perk4var1': 14, 'perk4var2': 0, 'perk4var3': 0, 'perk5': 8234, 'perk5var1': 10260, 'perk5var2': 0, 'perk5var3': 0, 'perkprimarystyle': 8000, 'perksubstyle': 8200, 'longesttimespentliving': 728, 'statperk0': 5005, 'statperk1': 5008, 'statperk2': 5002}, 'participantid': 10, 'timeline': {'lane': 'BOTTOM', 'participantid': 10, 'csdiffpermindeltas': {'10-20': -0.2, '0-10': 0.45}, 'goldpermindeltas': {'10-20': 448.6, '0-10': 301.9}, 'xpdiffpermindeltas': {'10-20': -93.75, '0-10': -6.45}, 'creepspermindeltas': {'10-20': 7.6, '0-10': 7.8}, 'xppermindeltas': {'10-20': 433.6, '0-10': 318.1}, 'role': 'DUO_CARRY', 'damagetakendiffpermindeltas': {'10-20': -63.1, '0-10': -16.75}, 'damagetakenpermindeltas': {'10-20': 620.3, '0-10': 246.4}}, 'teamid': 200, 'spell2id': 7, 'spell1id': 4, 'championid': 21}\n"
          ],
          "name": "stdout"
        }
      ]
    },
    {
      "cell_type": "code",
      "metadata": {
        "colab": {
          "base_uri": "https://localhost:8080/"
        },
        "id": "maGZzGLEemmC",
        "outputId": "d1db43b8-be04-4b7d-940a-f2ca8d2216df"
      },
      "source": [
        "def check(num):\n",
        "  for i in list(data['participants'][num].keys()):\n",
        "    if type(data['participants'][num][i]) == dict:\n",
        "      print(i, ':')\n",
        "      for j in list(data['participants'][num][i].keys()):\n",
        "        print('\\t',j, ':', data['participants'][num][i][j])\n",
        "    else:\n",
        "      print(i, ':', data['participants'][num][i])\n",
        "\n",
        "check(0)"
      ],
      "execution_count": null,
      "outputs": [
        {
          "output_type": "stream",
          "text": [
            "stats :\n",
            "\t physicaldamagedealt : 14561\n",
            "\t neutralminionskilledteamjungle : 11\n",
            "\t magicdamagedealt : 54201\n",
            "\t totalplayerscore : 0\n",
            "\t deaths : 3\n",
            "\t win : False\n",
            "\t neutralminionskilledenemyjungle : 0\n",
            "\t largestcriticalstrike : 0\n",
            "\t totaldamagedealt : 70392\n",
            "\t magicdamagedealttochampions : 14450\n",
            "\t visionwardsboughtingame : 0\n",
            "\t damagedealttoobjectives : 8413\n",
            "\t largestkillingspree : 2\n",
            "\t item1 : 3003\n",
            "\t quadrakills : 0\n",
            "\t totaltimecrowdcontroldealt : 108\n",
            "\t wardskilled : 7\n",
            "\t firsttowerassist : False\n",
            "\t firsttowerkill : False\n",
            "\t item2 : 2421\n",
            "\t item3 : 3020\n",
            "\t item0 : 1054\n",
            "\t firstbloodassist : False\n",
            "\t visionscore : 20\n",
            "\t wardsplaced : 4\n",
            "\t item4 : 3027\n",
            "\t item5 : 0\n",
            "\t item6 : 3364\n",
            "\t turretkills : 0\n",
            "\t triplekills : 0\n",
            "\t damageselfmitigated : 13394\n",
            "\t champlevel : 13\n",
            "\t goldearned : 9063\n",
            "\t magicaldamagetaken : 8731\n",
            "\t kills : 4\n",
            "\t doublekills : 0\n",
            "\t truedamagetaken : 1439\n",
            "\t assists : 9\n",
            "\t unrealkills : 0\n",
            "\t neutralminionskilled : 15\n",
            "\t objectiveplayerscore : 0\n",
            "\t combatplayerscore : 0\n",
            "\t damagedealttoturrets : 1657\n",
            "\t physicaldamagedealttochampions : 1253\n",
            "\t goldspent : 8050\n",
            "\t truedamagedealt : 1629\n",
            "\t truedamagedealttochampions : 204\n",
            "\t participantid : 1\n",
            "\t pentakills : 0\n",
            "\t totalheal : 7508\n",
            "\t totalminionskilled : 134\n",
            "\t firstbloodkill : False\n",
            "\t largestmultikill : 1\n",
            "\t sightwardsboughtingame : 0\n",
            "\t totaldamagedealttochampions : 15908\n",
            "\t totalunitshealed : 1\n",
            "\t inhibitorkills : 0\n",
            "\t totalscorerank : 0\n",
            "\t totaldamagetaken : 23238\n",
            "\t killingsprees : 1\n",
            "\t timeccingothers : 13\n",
            "\t physicaldamagetaken : 13068\n",
            "\t perk0 : 8021\n",
            "\t perk0var1 : 2306\n",
            "\t perk0var2 : 0\n",
            "\t perk0var3 : 0\n",
            "\t perk1 : 8009\n",
            "\t perk1var1 : 4824\n",
            "\t perk1var2 : 500\n",
            "\t perk1var3 : 0\n",
            "\t perk2 : 9105\n",
            "\t perk2var1 : 17\n",
            "\t perk2var2 : 0\n",
            "\t perk2var3 : 0\n",
            "\t perk3 : 8014\n",
            "\t perk3var1 : 316\n",
            "\t perk3var2 : 0\n",
            "\t perk3var3 : 0\n",
            "\t perk4 : 8139\n",
            "\t perk4var1 : 629\n",
            "\t perk4var2 : 0\n",
            "\t perk4var3 : 0\n",
            "\t perk5 : 8135\n",
            "\t perk5var1 : 2101\n",
            "\t perk5var2 : 5\n",
            "\t perk5var3 : 0\n",
            "\t perkprimarystyle : 8000\n",
            "\t perksubstyle : 8100\n",
            "\t longesttimespentliving : 942\n",
            "\t statperk0 : 5008\n",
            "\t statperk1 : 5008\n",
            "\t statperk2 : 5003\n",
            "participantid : 1\n",
            "timeline :\n",
            "\t lane : MIDDLE\n",
            "\t participantid : 1\n",
            "\t csdiffpermindeltas : {'10-20': -0.8, '0-10': -0.1}\n",
            "\t goldpermindeltas : {'10-20': 386.6, '0-10': 301.8}\n",
            "\t xpdiffpermindeltas : {'10-20': -3.4, '0-10': -19.7}\n",
            "\t creepspermindeltas : {'10-20': 5.4, '0-10': 7.9}\n",
            "\t xppermindeltas : {'10-20': 400.1, '0-10': 434.8}\n",
            "\t role : SOLO\n",
            "\t damagetakendiffpermindeltas : {'10-20': 139.3, '0-10': 147.7}\n",
            "\t damagetakenpermindeltas : {'10-20': 1033.8, '0-10': 317.3}\n",
            "teamid : 100\n",
            "spell2id : 12\n",
            "spell1id : 4\n",
            "championid : 38\n"
          ],
          "name": "stdout"
        }
      ]
    },
    {
      "cell_type": "code",
      "metadata": {
        "colab": {
          "base_uri": "https://localhost:8080/"
        },
        "id": "Z8xRrrrjNyUR",
        "outputId": "b2f80457-83d9-47e5-8851-7335d00edb47"
      },
      "source": [
        "check(9)"
      ],
      "execution_count": null,
      "outputs": [
        {
          "output_type": "stream",
          "text": [
            "stats :\n",
            "\t physicaldamagedealt : 99898\n",
            "\t neutralminionskilledteamjungle : 8\n",
            "\t magicdamagedealt : 3636\n",
            "\t totalplayerscore : 0\n",
            "\t deaths : 3\n",
            "\t win : True\n",
            "\t neutralminionskilledenemyjungle : 0\n",
            "\t largestcriticalstrike : 1013\n",
            "\t totaldamagedealt : 105084\n",
            "\t magicdamagedealttochampions : 928\n",
            "\t visionwardsboughtingame : 1\n",
            "\t damagedealttoobjectives : 12006\n",
            "\t largestkillingspree : 6\n",
            "\t item1 : 3508\n",
            "\t quadrakills : 0\n",
            "\t totaltimecrowdcontroldealt : 154\n",
            "\t wardskilled : 3\n",
            "\t firsttowerassist : False\n",
            "\t firsttowerkill : False\n",
            "\t item2 : 3031\n",
            "\t item3 : 3006\n",
            "\t item0 : 1055\n",
            "\t firstbloodassist : False\n",
            "\t visionscore : 15\n",
            "\t wardsplaced : 10\n",
            "\t item4 : 1038\n",
            "\t item5 : 1053\n",
            "\t item6 : 3363\n",
            "\t turretkills : 2\n",
            "\t triplekills : 0\n",
            "\t damageselfmitigated : 3706\n",
            "\t champlevel : 13\n",
            "\t goldearned : 11884\n",
            "\t magicaldamagetaken : 3900\n",
            "\t kills : 10\n",
            "\t doublekills : 3\n",
            "\t truedamagetaken : 362\n",
            "\t assists : 2\n",
            "\t unrealkills : 0\n",
            "\t neutralminionskilled : 8\n",
            "\t objectiveplayerscore : 0\n",
            "\t combatplayerscore : 0\n",
            "\t damagedealttoturrets : 3841\n",
            "\t physicaldamagedealttochampions : 16801\n",
            "\t goldspent : 10725\n",
            "\t truedamagedealt : 1550\n",
            "\t truedamagedealttochampions : 696\n",
            "\t participantid : 10\n",
            "\t pentakills : 0\n",
            "\t totalheal : 969\n",
            "\t totalminionskilled : 175\n",
            "\t firstbloodkill : False\n",
            "\t largestmultikill : 2\n",
            "\t sightwardsboughtingame : 0\n",
            "\t totaldamagedealttochampions : 18426\n",
            "\t totalunitshealed : 3\n",
            "\t inhibitorkills : 0\n",
            "\t totalscorerank : 0\n",
            "\t totaldamagetaken : 9754\n",
            "\t killingsprees : 2\n",
            "\t timeccingothers : 10\n",
            "\t physicaldamagetaken : 5491\n",
            "\t perk0 : 8005\n",
            "\t perk0var1 : 1084\n",
            "\t perk0var2 : 879\n",
            "\t perk0var3 : 205\n",
            "\t perk1 : 8009\n",
            "\t perk1var1 : 1067\n",
            "\t perk1var2 : 500\n",
            "\t perk1var3 : 0\n",
            "\t perk2 : 9103\n",
            "\t perk2var1 : 24\n",
            "\t perk2var2 : 0\n",
            "\t perk2var3 : 0\n",
            "\t perk3 : 8017\n",
            "\t perk3var1 : 917\n",
            "\t perk3var2 : 0\n",
            "\t perk3var3 : 0\n",
            "\t perk4 : 8236\n",
            "\t perk4var1 : 14\n",
            "\t perk4var2 : 0\n",
            "\t perk4var3 : 0\n",
            "\t perk5 : 8234\n",
            "\t perk5var1 : 10260\n",
            "\t perk5var2 : 0\n",
            "\t perk5var3 : 0\n",
            "\t perkprimarystyle : 8000\n",
            "\t perksubstyle : 8200\n",
            "\t longesttimespentliving : 728\n",
            "\t statperk0 : 5005\n",
            "\t statperk1 : 5008\n",
            "\t statperk2 : 5002\n",
            "participantid : 10\n",
            "timeline :\n",
            "\t lane : BOTTOM\n",
            "\t participantid : 10\n",
            "\t csdiffpermindeltas : {'10-20': -0.2, '0-10': 0.45}\n",
            "\t goldpermindeltas : {'10-20': 448.6, '0-10': 301.9}\n",
            "\t xpdiffpermindeltas : {'10-20': -93.75, '0-10': -6.45}\n",
            "\t creepspermindeltas : {'10-20': 7.6, '0-10': 7.8}\n",
            "\t xppermindeltas : {'10-20': 433.6, '0-10': 318.1}\n",
            "\t role : DUO_CARRY\n",
            "\t damagetakendiffpermindeltas : {'10-20': -63.1, '0-10': -16.75}\n",
            "\t damagetakenpermindeltas : {'10-20': 620.3, '0-10': 246.4}\n",
            "teamid : 200\n",
            "spell2id : 7\n",
            "spell1id : 4\n",
            "championid : 21\n"
          ],
          "name": "stdout"
        }
      ]
    },
    {
      "cell_type": "code",
      "metadata": {
        "colab": {
          "base_uri": "https://localhost:8080/"
        },
        "id": "c01pGHCJeXF4",
        "outputId": "bb52e2eb-514b-4d32-cd84-53ae410b06c1"
      },
      "source": [
        "for i in data['participantextendedstats']:\n",
        "  print(i)"
      ],
      "execution_count": null,
      "outputs": [
        {
          "output_type": "stream",
          "text": [
            "{'participantid': 1, 'position': 'MID', 'tier': 'DIAMOND', 'tierrank': 'II', 'leaguepoints': 33}\n",
            "{'participantid': 2, 'position': 'SUPPORT', 'tier': 'DIAMOND', 'tierrank': 'III', 'leaguepoints': 75}\n",
            "{'participantid': 3, 'position': 'TOP', 'tier': 'DIAMOND', 'tierrank': 'III', 'leaguepoints': 100}\n",
            "{'participantid': 4, 'position': 'JUNGLE', 'tier': 'DIAMOND', 'tierrank': 'III', 'leaguepoints': 83}\n",
            "{'participantid': 5, 'position': 'ADC', 'tier': 'DIAMOND', 'tierrank': 'II', 'leaguepoints': 63}\n",
            "{'participantid': 6, 'position': 'TOP', 'tier': 'DIAMOND', 'tierrank': 'II', 'leaguepoints': 32}\n",
            "{'participantid': 7, 'position': 'JUNGLE', 'tier': 'DIAMOND', 'tierrank': 'II', 'leaguepoints': 90}\n",
            "{'participantid': 8, 'position': 'MID', 'tier': 'DIAMOND', 'tierrank': 'II', 'leaguepoints': 44}\n",
            "{'participantid': 9, 'position': 'SUPPORT', 'tier': 'DIAMOND', 'tierrank': 'II', 'leaguepoints': 57}\n",
            "{'participantid': 10, 'position': 'ADC', 'tier': 'DIAMOND', 'tierrank': 'III', 'leaguepoints': 100}\n"
          ],
          "name": "stdout"
        }
      ]
    },
    {
      "cell_type": "code",
      "metadata": {
        "id": "sPvUMP3NpMRb"
      },
      "source": [
        "df1 = []\n",
        "for i in range(50000):\n",
        "  df1.append([head[i]['gameid'],head[i]['gameduration'],head[i]['gamecreation']])"
      ],
      "execution_count": 30,
      "outputs": []
    },
    {
      "cell_type": "code",
      "metadata": {
        "id": "oPXHm2fmrPyP"
      },
      "source": [
        "Game = pd.DataFrame(df1, columns=['gameid', 'gameduration', 'gamecreation'])\n",
        "# gameid, gameduration, gamecreation을 col으로 가지는 game 데이터 프레임을 만든다."
      ],
      "execution_count": 31,
      "outputs": []
    },
    {
      "cell_type": "code",
      "metadata": {
        "colab": {
          "base_uri": "https://localhost:8080/",
          "height": 423
        },
        "id": "GaJLOmtf0aJB",
        "outputId": "cb9774b4-8cf3-44b7-d6b0-06a97823c058"
      },
      "source": [
        "Game"
      ],
      "execution_count": 32,
      "outputs": [
        {
          "output_type": "execute_result",
          "data": {
            "text/html": [
              "<div>\n",
              "<style scoped>\n",
              "    .dataframe tbody tr th:only-of-type {\n",
              "        vertical-align: middle;\n",
              "    }\n",
              "\n",
              "    .dataframe tbody tr th {\n",
              "        vertical-align: top;\n",
              "    }\n",
              "\n",
              "    .dataframe thead th {\n",
              "        text-align: right;\n",
              "    }\n",
              "</style>\n",
              "<table border=\"1\" class=\"dataframe\">\n",
              "  <thead>\n",
              "    <tr style=\"text-align: right;\">\n",
              "      <th></th>\n",
              "      <th>gameid</th>\n",
              "      <th>gameduration</th>\n",
              "      <th>gamecreation</th>\n",
              "    </tr>\n",
              "  </thead>\n",
              "  <tbody>\n",
              "    <tr>\n",
              "      <th>0</th>\n",
              "      <td>4621713273</td>\n",
              "      <td>1514</td>\n",
              "      <td>1599158094</td>\n",
              "    </tr>\n",
              "    <tr>\n",
              "      <th>1</th>\n",
              "      <td>4621713359</td>\n",
              "      <td>2004</td>\n",
              "      <td>1599158200</td>\n",
              "    </tr>\n",
              "    <tr>\n",
              "      <th>2</th>\n",
              "      <td>4621713434</td>\n",
              "      <td>1610</td>\n",
              "      <td>1599158271</td>\n",
              "    </tr>\n",
              "    <tr>\n",
              "      <th>3</th>\n",
              "      <td>4621713607</td>\n",
              "      <td>1119</td>\n",
              "      <td>1599158478</td>\n",
              "    </tr>\n",
              "    <tr>\n",
              "      <th>4</th>\n",
              "      <td>4621713720</td>\n",
              "      <td>2003</td>\n",
              "      <td>1599158571</td>\n",
              "    </tr>\n",
              "    <tr>\n",
              "      <th>...</th>\n",
              "      <td>...</td>\n",
              "      <td>...</td>\n",
              "      <td>...</td>\n",
              "    </tr>\n",
              "    <tr>\n",
              "      <th>49995</th>\n",
              "      <td>4622633878</td>\n",
              "      <td>818</td>\n",
              "      <td>1599206078</td>\n",
              "    </tr>\n",
              "    <tr>\n",
              "      <th>49996</th>\n",
              "      <td>4622633911</td>\n",
              "      <td>2034</td>\n",
              "      <td>1599206105</td>\n",
              "    </tr>\n",
              "    <tr>\n",
              "      <th>49997</th>\n",
              "      <td>4622633987</td>\n",
              "      <td>1927</td>\n",
              "      <td>1599206092</td>\n",
              "    </tr>\n",
              "    <tr>\n",
              "      <th>49998</th>\n",
              "      <td>4622633997</td>\n",
              "      <td>1705</td>\n",
              "      <td>1599206085</td>\n",
              "    </tr>\n",
              "    <tr>\n",
              "      <th>49999</th>\n",
              "      <td>4622634010</td>\n",
              "      <td>1254</td>\n",
              "      <td>1599206091</td>\n",
              "    </tr>\n",
              "  </tbody>\n",
              "</table>\n",
              "<p>50000 rows × 3 columns</p>\n",
              "</div>"
            ],
            "text/plain": [
              "           gameid  gameduration  gamecreation\n",
              "0      4621713273          1514    1599158094\n",
              "1      4621713359          2004    1599158200\n",
              "2      4621713434          1610    1599158271\n",
              "3      4621713607          1119    1599158478\n",
              "4      4621713720          2003    1599158571\n",
              "...           ...           ...           ...\n",
              "49995  4622633878           818    1599206078\n",
              "49996  4622633911          2034    1599206105\n",
              "49997  4622633987          1927    1599206092\n",
              "49998  4622633997          1705    1599206085\n",
              "49999  4622634010          1254    1599206091\n",
              "\n",
              "[50000 rows x 3 columns]"
            ]
          },
          "metadata": {
            "tags": []
          },
          "execution_count": 32
        }
      ]
    },
    {
      "cell_type": "code",
      "metadata": {
        "id": "s4DneLR2rcHR"
      },
      "source": [
        "df2 = []\n",
        "for i in range(50000):\n",
        "  data = head[i]\n",
        "  gameid = data['gameid']\n",
        "  part = data['participantidentities']\n",
        "  part2 = data['participantextendedstats']\n",
        "  team = data['teams']\n",
        "  position = data['participantextendedstats']\n",
        "  champ = data['participants']\n",
        "  for j in range(10):\n",
        "    df2.append([gameid, part[j]['participantid'], part[j]['player']['summonerid'], team[j//5]['teamid'],\n",
        "                team[j//5]['bans'][j%5]['championid'], champ[j]['championid'], champ[j]['timeline']['role'], position[j]['position']])"
      ],
      "execution_count": 24,
      "outputs": []
    },
    {
      "cell_type": "code",
      "metadata": {
        "id": "vt8l5BrqubQk"
      },
      "source": [
        "User = pd.DataFrame(df2, columns=['gameid', 'participantid', 'summonerid', 'teamid','banid', 'pickid', 'role', 'lane'])\n",
        "# gameid, participantid, summonerid, teamid, banid, pickid, position를 col으로 가지는 user 데이터 프레임을 만든다."
      ],
      "execution_count": 26,
      "outputs": []
    },
    {
      "cell_type": "code",
      "metadata": {
        "colab": {
          "base_uri": "https://localhost:8080/",
          "height": 423
        },
        "id": "tu-JSLx10XE7",
        "outputId": "62b1a3ed-530b-4088-a684-e639a3d4ecd1"
      },
      "source": [
        "User"
      ],
      "execution_count": 27,
      "outputs": [
        {
          "output_type": "execute_result",
          "data": {
            "text/html": [
              "<div>\n",
              "<style scoped>\n",
              "    .dataframe tbody tr th:only-of-type {\n",
              "        vertical-align: middle;\n",
              "    }\n",
              "\n",
              "    .dataframe tbody tr th {\n",
              "        vertical-align: top;\n",
              "    }\n",
              "\n",
              "    .dataframe thead th {\n",
              "        text-align: right;\n",
              "    }\n",
              "</style>\n",
              "<table border=\"1\" class=\"dataframe\">\n",
              "  <thead>\n",
              "    <tr style=\"text-align: right;\">\n",
              "      <th></th>\n",
              "      <th>gameid</th>\n",
              "      <th>participantid</th>\n",
              "      <th>summonerid</th>\n",
              "      <th>teamid</th>\n",
              "      <th>banid</th>\n",
              "      <th>pickid</th>\n",
              "      <th>role</th>\n",
              "      <th>position</th>\n",
              "    </tr>\n",
              "  </thead>\n",
              "  <tbody>\n",
              "    <tr>\n",
              "      <th>0</th>\n",
              "      <td>4621713273</td>\n",
              "      <td>1</td>\n",
              "      <td>PF7wuKbEjIH7bUEivDRsJbiah9EF9EzRPO-LFLucLai7avA</td>\n",
              "      <td>100</td>\n",
              "      <td>104</td>\n",
              "      <td>38</td>\n",
              "      <td>SOLO</td>\n",
              "      <td>MID</td>\n",
              "    </tr>\n",
              "    <tr>\n",
              "      <th>1</th>\n",
              "      <td>4621713273</td>\n",
              "      <td>2</td>\n",
              "      <td>JRuCiFpuzcsnQ9Gadn5A_0bm66-PrFaA3WKP5juhgetrx3Y</td>\n",
              "      <td>100</td>\n",
              "      <td>51</td>\n",
              "      <td>497</td>\n",
              "      <td>DUO_SUPPORT</td>\n",
              "      <td>SUPPORT</td>\n",
              "    </tr>\n",
              "    <tr>\n",
              "      <th>2</th>\n",
              "      <td>4621713273</td>\n",
              "      <td>3</td>\n",
              "      <td>o5ZjlQkLgDZzDG_dkT0GVL7X34kp51abqkUN6P7K2WPeY1dy</td>\n",
              "      <td>100</td>\n",
              "      <td>58</td>\n",
              "      <td>164</td>\n",
              "      <td>SOLO</td>\n",
              "      <td>TOP</td>\n",
              "    </tr>\n",
              "    <tr>\n",
              "      <th>3</th>\n",
              "      <td>4621713273</td>\n",
              "      <td>4</td>\n",
              "      <td>TUdiT-gEHdtkmr9JkhqvtNy5L_nutzsw2oH23kgO71NSsA</td>\n",
              "      <td>100</td>\n",
              "      <td>80</td>\n",
              "      <td>19</td>\n",
              "      <td>NONE</td>\n",
              "      <td>JUNGLE</td>\n",
              "    </tr>\n",
              "    <tr>\n",
              "      <th>4</th>\n",
              "      <td>4621713273</td>\n",
              "      <td>5</td>\n",
              "      <td>qmcY1AJTdznK_aTgW2e1qwCY1uwbam9HU09Wsa7nI9Wt5sYQ</td>\n",
              "      <td>100</td>\n",
              "      <td>777</td>\n",
              "      <td>145</td>\n",
              "      <td>DUO_CARRY</td>\n",
              "      <td>ADC</td>\n",
              "    </tr>\n",
              "    <tr>\n",
              "      <th>...</th>\n",
              "      <td>...</td>\n",
              "      <td>...</td>\n",
              "      <td>...</td>\n",
              "      <td>...</td>\n",
              "      <td>...</td>\n",
              "      <td>...</td>\n",
              "      <td>...</td>\n",
              "      <td>...</td>\n",
              "    </tr>\n",
              "    <tr>\n",
              "      <th>499995</th>\n",
              "      <td>4622634010</td>\n",
              "      <td>6</td>\n",
              "      <td>MBeOxVqTseMAoDvr6pXpABqiWNgZPYj-xqTwsMTPQzpIzzs</td>\n",
              "      <td>200</td>\n",
              "      <td>30</td>\n",
              "      <td>76</td>\n",
              "      <td>NONE</td>\n",
              "      <td>JUNGLE</td>\n",
              "    </tr>\n",
              "    <tr>\n",
              "      <th>499996</th>\n",
              "      <td>4622634010</td>\n",
              "      <td>7</td>\n",
              "      <td>3ZK5oy4Sp1iXUCjGqZwVxxdipu2DDrHI14U9L0fXEEMC7P0</td>\n",
              "      <td>200</td>\n",
              "      <td>51</td>\n",
              "      <td>114</td>\n",
              "      <td>SOLO</td>\n",
              "      <td>TOP</td>\n",
              "    </tr>\n",
              "    <tr>\n",
              "      <th>499997</th>\n",
              "      <td>4622634010</td>\n",
              "      <td>8</td>\n",
              "      <td>EqZgtCxYd5MqQiRypqDJCwGaGneuFF_5eQRo9wq3nJFW4Q</td>\n",
              "      <td>200</td>\n",
              "      <td>25</td>\n",
              "      <td>53</td>\n",
              "      <td>DUO_SUPPORT</td>\n",
              "      <td>SUPPORT</td>\n",
              "    </tr>\n",
              "    <tr>\n",
              "      <th>499998</th>\n",
              "      <td>4622634010</td>\n",
              "      <td>9</td>\n",
              "      <td>a_dqCx7bUOtfGOjdF2n8o1XZ6FQNpa7PO6JPpzKWHSeBx4Y</td>\n",
              "      <td>200</td>\n",
              "      <td>58</td>\n",
              "      <td>238</td>\n",
              "      <td>SOLO</td>\n",
              "      <td>MID</td>\n",
              "    </tr>\n",
              "    <tr>\n",
              "      <th>499999</th>\n",
              "      <td>4622634010</td>\n",
              "      <td>10</td>\n",
              "      <td>e3eb_pu7V4wnEnG7QQjFlrdaKp_PgVtkjNrODhN1SBtmjUM</td>\n",
              "      <td>200</td>\n",
              "      <td>517</td>\n",
              "      <td>236</td>\n",
              "      <td>DUO_CARRY</td>\n",
              "      <td>ADC</td>\n",
              "    </tr>\n",
              "  </tbody>\n",
              "</table>\n",
              "<p>500000 rows × 8 columns</p>\n",
              "</div>"
            ],
            "text/plain": [
              "            gameid  participantid  ...         role  position\n",
              "0       4621713273              1  ...         SOLO       MID\n",
              "1       4621713273              2  ...  DUO_SUPPORT   SUPPORT\n",
              "2       4621713273              3  ...         SOLO       TOP\n",
              "3       4621713273              4  ...         NONE    JUNGLE\n",
              "4       4621713273              5  ...    DUO_CARRY       ADC\n",
              "...            ...            ...  ...          ...       ...\n",
              "499995  4622634010              6  ...         NONE    JUNGLE\n",
              "499996  4622634010              7  ...         SOLO       TOP\n",
              "499997  4622634010              8  ...  DUO_SUPPORT   SUPPORT\n",
              "499998  4622634010              9  ...         SOLO       MID\n",
              "499999  4622634010             10  ...    DUO_CARRY       ADC\n",
              "\n",
              "[500000 rows x 8 columns]"
            ]
          },
          "metadata": {
            "tags": []
          },
          "execution_count": 27
        }
      ]
    },
    {
      "cell_type": "code",
      "metadata": {
        "id": "CkE5Famuuoep"
      },
      "source": [
        "df3 = []\n",
        "for i in range(50000):\n",
        "  data = head[i]['participants']\n",
        "  gameid =head[i]['gameid']\n",
        "  for j in range(10):\n",
        "    stats = data[j]['stats']\n",
        "    df3.append([gameid, data[j]['participantid'], stats['kills'], stats['assists'], stats['deaths'], stats['goldearned'],\n",
        "                stats['totalminionskilled'], stats['largestmultikill'], stats['largestkillingspree'], stats['longesttimespentliving'],\n",
        "                stats['totaldamagedealt'], stats['totaldamagedealttochampions'], stats['damagedealttoturrets'], \n",
        "                stats['damageselfmitigated'], stats['totaldamagetaken'], stats['timeccingothers'], stats['totaltimecrowdcontroldealt'],\n",
        "                stats['visionwardsboughtingame'], stats['wardskilled'], stats['visionscore'], stats['wardsplaced']])"
      ],
      "execution_count": null,
      "outputs": []
    },
    {
      "cell_type": "code",
      "metadata": {
        "id": "pxFTxm-g68eg"
      },
      "source": [
        "Stats = pd.DataFrame(df3, columns=['gameid','participantid','kills', 'assists','deaths','goldearned','totalminionskilled',\n",
        "                                   'largestmultikill','largestkillingspree', 'longesttimespentliving', 'totaldamagedealt',\n",
        "                                   'totaldamagedealttochampions','damagedealttoturrets','damageselfmitigated','totaldamagetaken',\n",
        "                                   'timeccingothers','totaltimecrowdcontroldealt','visionwardsboughtingame','wardskilled','visionscore',\n",
        "                                   'wardsplaced'])\n",
        "# gameid,participantid,kills, assistS,deaths,goldearned,totalminionskilled,largestmultikill,largestkillingspree, longesttimespentliving, totaldamagedealt,\n",
        "# totaldamagedealttochampions,damagedealttoturrets,damageselfmitigated,totaldamagetaken,timeccingothers,totaltimecrowdcontroldealt,visionwardsboughtingame,\n",
        "# wardskilled,visionscore,wardsplaced 를  col으로 가지는 stats 데이터 프레임을 만든다."
      ],
      "execution_count": 43,
      "outputs": []
    },
    {
      "cell_type": "code",
      "metadata": {
        "colab": {
          "base_uri": "https://localhost:8080/",
          "height": 443
        },
        "id": "20Xo4kcsAJFX",
        "outputId": "337c42eb-32f2-4271-dcbd-159f4667d20a"
      },
      "source": [
        "Stats"
      ],
      "execution_count": 44,
      "outputs": [
        {
          "output_type": "execute_result",
          "data": {
            "text/html": [
              "<div>\n",
              "<style scoped>\n",
              "    .dataframe tbody tr th:only-of-type {\n",
              "        vertical-align: middle;\n",
              "    }\n",
              "\n",
              "    .dataframe tbody tr th {\n",
              "        vertical-align: top;\n",
              "    }\n",
              "\n",
              "    .dataframe thead th {\n",
              "        text-align: right;\n",
              "    }\n",
              "</style>\n",
              "<table border=\"1\" class=\"dataframe\">\n",
              "  <thead>\n",
              "    <tr style=\"text-align: right;\">\n",
              "      <th></th>\n",
              "      <th>gameid</th>\n",
              "      <th>participantid</th>\n",
              "      <th>kills</th>\n",
              "      <th>assists</th>\n",
              "      <th>deaths</th>\n",
              "      <th>goldearned</th>\n",
              "      <th>totalminionskilled</th>\n",
              "      <th>largestmultikill</th>\n",
              "      <th>largestkillingspree</th>\n",
              "      <th>longesttimespentliving</th>\n",
              "      <th>totaldamagedealt</th>\n",
              "      <th>totaldamagedealttochampions</th>\n",
              "      <th>damagedealttoturrets</th>\n",
              "      <th>damageselfmitigated</th>\n",
              "      <th>totaldamagetaken</th>\n",
              "      <th>timeccingothers</th>\n",
              "      <th>totaltimecrowdcontroldealt</th>\n",
              "      <th>visionwardsboughtingame</th>\n",
              "      <th>wardskilled</th>\n",
              "      <th>visionscore</th>\n",
              "      <th>wardsplaced</th>\n",
              "    </tr>\n",
              "  </thead>\n",
              "  <tbody>\n",
              "    <tr>\n",
              "      <th>0</th>\n",
              "      <td>4621713273</td>\n",
              "      <td>1</td>\n",
              "      <td>4</td>\n",
              "      <td>9</td>\n",
              "      <td>3</td>\n",
              "      <td>9063</td>\n",
              "      <td>134</td>\n",
              "      <td>1</td>\n",
              "      <td>2</td>\n",
              "      <td>942</td>\n",
              "      <td>70392</td>\n",
              "      <td>15908</td>\n",
              "      <td>1657</td>\n",
              "      <td>13394</td>\n",
              "      <td>23238</td>\n",
              "      <td>13</td>\n",
              "      <td>108</td>\n",
              "      <td>0</td>\n",
              "      <td>7</td>\n",
              "      <td>20</td>\n",
              "      <td>4</td>\n",
              "    </tr>\n",
              "    <tr>\n",
              "      <th>1</th>\n",
              "      <td>4621713273</td>\n",
              "      <td>2</td>\n",
              "      <td>3</td>\n",
              "      <td>12</td>\n",
              "      <td>7</td>\n",
              "      <td>7032</td>\n",
              "      <td>23</td>\n",
              "      <td>1</td>\n",
              "      <td>2</td>\n",
              "      <td>617</td>\n",
              "      <td>14066</td>\n",
              "      <td>5469</td>\n",
              "      <td>0</td>\n",
              "      <td>16913</td>\n",
              "      <td>18367</td>\n",
              "      <td>22</td>\n",
              "      <td>83</td>\n",
              "      <td>3</td>\n",
              "      <td>7</td>\n",
              "      <td>58</td>\n",
              "      <td>29</td>\n",
              "    </tr>\n",
              "    <tr>\n",
              "      <th>2</th>\n",
              "      <td>4621713273</td>\n",
              "      <td>3</td>\n",
              "      <td>8</td>\n",
              "      <td>4</td>\n",
              "      <td>6</td>\n",
              "      <td>10692</td>\n",
              "      <td>129</td>\n",
              "      <td>2</td>\n",
              "      <td>4</td>\n",
              "      <td>819</td>\n",
              "      <td>89119</td>\n",
              "      <td>22046</td>\n",
              "      <td>2741</td>\n",
              "      <td>23139</td>\n",
              "      <td>29863</td>\n",
              "      <td>13</td>\n",
              "      <td>168</td>\n",
              "      <td>1</td>\n",
              "      <td>0</td>\n",
              "      <td>16</td>\n",
              "      <td>6</td>\n",
              "    </tr>\n",
              "    <tr>\n",
              "      <th>3</th>\n",
              "      <td>4621713273</td>\n",
              "      <td>4</td>\n",
              "      <td>2</td>\n",
              "      <td>7</td>\n",
              "      <td>9</td>\n",
              "      <td>8167</td>\n",
              "      <td>31</td>\n",
              "      <td>1</td>\n",
              "      <td>0</td>\n",
              "      <td>309</td>\n",
              "      <td>129234</td>\n",
              "      <td>7308</td>\n",
              "      <td>580</td>\n",
              "      <td>16768</td>\n",
              "      <td>30215</td>\n",
              "      <td>17</td>\n",
              "      <td>186</td>\n",
              "      <td>3</td>\n",
              "      <td>4</td>\n",
              "      <td>19</td>\n",
              "      <td>3</td>\n",
              "    </tr>\n",
              "    <tr>\n",
              "      <th>4</th>\n",
              "      <td>4621713273</td>\n",
              "      <td>5</td>\n",
              "      <td>9</td>\n",
              "      <td>5</td>\n",
              "      <td>3</td>\n",
              "      <td>10777</td>\n",
              "      <td>174</td>\n",
              "      <td>1</td>\n",
              "      <td>6</td>\n",
              "      <td>777</td>\n",
              "      <td>106915</td>\n",
              "      <td>18316</td>\n",
              "      <td>0</td>\n",
              "      <td>8360</td>\n",
              "      <td>14532</td>\n",
              "      <td>1</td>\n",
              "      <td>14</td>\n",
              "      <td>0</td>\n",
              "      <td>5</td>\n",
              "      <td>23</td>\n",
              "      <td>8</td>\n",
              "    </tr>\n",
              "    <tr>\n",
              "      <th>...</th>\n",
              "      <td>...</td>\n",
              "      <td>...</td>\n",
              "      <td>...</td>\n",
              "      <td>...</td>\n",
              "      <td>...</td>\n",
              "      <td>...</td>\n",
              "      <td>...</td>\n",
              "      <td>...</td>\n",
              "      <td>...</td>\n",
              "      <td>...</td>\n",
              "      <td>...</td>\n",
              "      <td>...</td>\n",
              "      <td>...</td>\n",
              "      <td>...</td>\n",
              "      <td>...</td>\n",
              "      <td>...</td>\n",
              "      <td>...</td>\n",
              "      <td>...</td>\n",
              "      <td>...</td>\n",
              "      <td>...</td>\n",
              "      <td>...</td>\n",
              "    </tr>\n",
              "    <tr>\n",
              "      <th>499995</th>\n",
              "      <td>4622634010</td>\n",
              "      <td>6</td>\n",
              "      <td>3</td>\n",
              "      <td>0</td>\n",
              "      <td>4</td>\n",
              "      <td>7357</td>\n",
              "      <td>18</td>\n",
              "      <td>2</td>\n",
              "      <td>3</td>\n",
              "      <td>535</td>\n",
              "      <td>115055</td>\n",
              "      <td>6752</td>\n",
              "      <td>0</td>\n",
              "      <td>8382</td>\n",
              "      <td>18595</td>\n",
              "      <td>2</td>\n",
              "      <td>50</td>\n",
              "      <td>0</td>\n",
              "      <td>4</td>\n",
              "      <td>19</td>\n",
              "      <td>4</td>\n",
              "    </tr>\n",
              "    <tr>\n",
              "      <th>499996</th>\n",
              "      <td>4622634010</td>\n",
              "      <td>7</td>\n",
              "      <td>0</td>\n",
              "      <td>1</td>\n",
              "      <td>5</td>\n",
              "      <td>5130</td>\n",
              "      <td>92</td>\n",
              "      <td>0</td>\n",
              "      <td>0</td>\n",
              "      <td>576</td>\n",
              "      <td>43981</td>\n",
              "      <td>4298</td>\n",
              "      <td>0</td>\n",
              "      <td>9726</td>\n",
              "      <td>12636</td>\n",
              "      <td>2</td>\n",
              "      <td>50</td>\n",
              "      <td>2</td>\n",
              "      <td>1</td>\n",
              "      <td>10</td>\n",
              "      <td>8</td>\n",
              "    </tr>\n",
              "    <tr>\n",
              "      <th>499997</th>\n",
              "      <td>4622634010</td>\n",
              "      <td>8</td>\n",
              "      <td>1</td>\n",
              "      <td>9</td>\n",
              "      <td>7</td>\n",
              "      <td>5556</td>\n",
              "      <td>24</td>\n",
              "      <td>1</td>\n",
              "      <td>0</td>\n",
              "      <td>438</td>\n",
              "      <td>15810</td>\n",
              "      <td>6519</td>\n",
              "      <td>0</td>\n",
              "      <td>13557</td>\n",
              "      <td>15148</td>\n",
              "      <td>25</td>\n",
              "      <td>72</td>\n",
              "      <td>1</td>\n",
              "      <td>3</td>\n",
              "      <td>17</td>\n",
              "      <td>7</td>\n",
              "    </tr>\n",
              "    <tr>\n",
              "      <th>499998</th>\n",
              "      <td>4622634010</td>\n",
              "      <td>9</td>\n",
              "      <td>5</td>\n",
              "      <td>3</td>\n",
              "      <td>3</td>\n",
              "      <td>7259</td>\n",
              "      <td>125</td>\n",
              "      <td>1</td>\n",
              "      <td>2</td>\n",
              "      <td>620</td>\n",
              "      <td>58566</td>\n",
              "      <td>10124</td>\n",
              "      <td>0</td>\n",
              "      <td>6639</td>\n",
              "      <td>11635</td>\n",
              "      <td>3</td>\n",
              "      <td>65</td>\n",
              "      <td>2</td>\n",
              "      <td>0</td>\n",
              "      <td>11</td>\n",
              "      <td>6</td>\n",
              "    </tr>\n",
              "    <tr>\n",
              "      <th>499999</th>\n",
              "      <td>4622634010</td>\n",
              "      <td>10</td>\n",
              "      <td>4</td>\n",
              "      <td>2</td>\n",
              "      <td>9</td>\n",
              "      <td>7963</td>\n",
              "      <td>138</td>\n",
              "      <td>1</td>\n",
              "      <td>2</td>\n",
              "      <td>312</td>\n",
              "      <td>75651</td>\n",
              "      <td>11309</td>\n",
              "      <td>1128</td>\n",
              "      <td>8496</td>\n",
              "      <td>17165</td>\n",
              "      <td>2</td>\n",
              "      <td>14</td>\n",
              "      <td>0</td>\n",
              "      <td>1</td>\n",
              "      <td>11</td>\n",
              "      <td>6</td>\n",
              "    </tr>\n",
              "  </tbody>\n",
              "</table>\n",
              "<p>500000 rows × 21 columns</p>\n",
              "</div>"
            ],
            "text/plain": [
              "            gameid  participantid  kills  ...  wardskilled  visionscore  wardsplaced\n",
              "0       4621713273              1      4  ...            7           20            4\n",
              "1       4621713273              2      3  ...            7           58           29\n",
              "2       4621713273              3      8  ...            0           16            6\n",
              "3       4621713273              4      2  ...            4           19            3\n",
              "4       4621713273              5      9  ...            5           23            8\n",
              "...            ...            ...    ...  ...          ...          ...          ...\n",
              "499995  4622634010              6      3  ...            4           19            4\n",
              "499996  4622634010              7      0  ...            1           10            8\n",
              "499997  4622634010              8      1  ...            3           17            7\n",
              "499998  4622634010              9      5  ...            0           11            6\n",
              "499999  4622634010             10      4  ...            1           11            6\n",
              "\n",
              "[500000 rows x 21 columns]"
            ]
          },
          "metadata": {
            "tags": []
          },
          "execution_count": 44
        }
      ]
    },
    {
      "cell_type": "code",
      "metadata": {
        "id": "_EwYfAaVXJJq"
      },
      "source": [
        "df4 # 팀 내용이 없다.\n",
        "# teams 값을 보다 더 잘 살피기 위해 첫 참가자의 내용만 가져온다.\n",
        "# 이중에서 유의미한 변수는 밴과 팀아이디, 승리여부, 파괴한 억제기의 수이다."
      ],
      "execution_count": null,
      "outputs": []
    },
    {
      "cell_type": "code",
      "metadata": {
        "id": "61yEbx4-UGla"
      },
      "source": [
        "#활용 가능한 데이터 : paricipantidentities , teams , participants, gameduration , gamecreation"
      ],
      "execution_count": null,
      "outputs": []
    },
    {
      "cell_type": "code",
      "metadata": {
        "id": "BU4oMiqc57I3"
      },
      "source": [
        "# 포지션 추천을 위한 데이터 분석"
      ],
      "execution_count": null,
      "outputs": []
    },
    {
      "cell_type": "code",
      "metadata": {
        "id": "QLfmL6MkJCxJ"
      },
      "source": [
        "# 모델학습의 과정\n",
        "\n",
        "# 데이터 타겟 설정과 모델 설정\n",
        "# 데이터 분류에 대한 타겟 : \n",
        "# 타겟을 구하기 위한 칼럼 : "
      ],
      "execution_count": null,
      "outputs": []
    }
  ]
}