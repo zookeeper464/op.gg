{
  "nbformat": 4,
  "nbformat_minor": 0,
  "metadata": {
    "colab": {
      "name": "Untitled42.ipynb",
      "provenance": [],
      "mount_file_id": "1RxmHw35B8mAZ9tGsnyxsUxQIWwV0iInK",
      "authorship_tag": "ABX9TyNspe2mD/MTXvXzDGkpjqBk",
      "include_colab_link": true
    },
    "kernelspec": {
      "name": "python3",
      "display_name": "Python 3"
    },
    "language_info": {
      "name": "python"
    }
  },
  "cells": [
    {
      "cell_type": "markdown",
      "metadata": {
        "id": "view-in-github",
        "colab_type": "text"
      },
      "source": [
        "<a href=\"https://colab.research.google.com/github/zookeeper464/op.gg/blob/main/lol_data_analysis.ipynb\" target=\"_parent\"><img src=\"https://colab.research.google.com/assets/colab-badge.svg\" alt=\"Open In Colab\"/></a>"
      ]
    },
    {
      "cell_type": "code",
      "metadata": {
        "id": "BDVHydjvSPX0"
      },
      "source": [
        "# 데이터 분석에 필요한 모듈을 호출합니다.\n",
        "\n",
        "import json\n",
        "import pandas as pd"
      ],
      "execution_count": 2,
      "outputs": []
    },
    {
      "cell_type": "code",
      "metadata": {
        "id": "eTqXroikn6pU"
      },
      "source": [
        "url = '/content/drive/MyDrive/op.gg/champions.json'\n",
        "with open(url) as myfile:\n",
        "    champ = json.loads(myfile.read())"
      ],
      "execution_count": 3,
      "outputs": []
    },
    {
      "cell_type": "code",
      "metadata": {
        "colab": {
          "base_uri": "https://localhost:8080/"
        },
        "id": "ywFYRd56qF_y",
        "outputId": "6a7ecc6d-90ed-4d8c-8d91-2b85162f6080"
      },
      "source": [
        "champ[0]"
      ],
      "execution_count": 4,
      "outputs": [
        {
          "output_type": "execute_result",
          "data": {
            "text/plain": [
              "{'description': 'Once honored defenders of Shurima against the Void, Aatrox and his brethren would eventually become an even greater threat to Runeterra, and were defeated only by cunning mortal sorcery. But after centuries of imprisonment, Aatrox was the first to find...',\n",
              " 'icon': 'http://ddragon.leagueoflegends.com/cdn/10.23.1/img/champion/Aatrox.png',\n",
              " 'id': 'aatrox',\n",
              " 'key': '266',\n",
              " 'name': 'Aatrox',\n",
              " 'sprite': {'url': 'http://ddragon.leagueoflegends.com/cdn/10.23.1/img/sprite/champion0.png',\n",
              "  'x': 0,\n",
              "  'y': 0},\n",
              " 'stats': {'armor': 38,\n",
              "  'armorperlevel': 3.25,\n",
              "  'attackdamage': 60,\n",
              "  'attackdamageperlevel': 5,\n",
              "  'attackrange': 175,\n",
              "  'attackspeed': 0.651,\n",
              "  'attackspeedperlevel': 2.5,\n",
              "  'crit': 0,\n",
              "  'critperlevel': 0,\n",
              "  'hp': 580,\n",
              "  'hpperlevel': 90,\n",
              "  'hpregen': 3,\n",
              "  'hpregenperlevel': 1,\n",
              "  'movespeed': 345,\n",
              "  'mp': 0,\n",
              "  'mpperlevel': 0,\n",
              "  'mpregen': 0,\n",
              "  'mpregenperlevel': 0,\n",
              "  'spellblock': 32.1,\n",
              "  'spellblockperlevel': 1.25},\n",
              " 'tags': ['Fighter', 'Tank'],\n",
              " 'title': 'the Darkin Blade'}"
            ]
          },
          "metadata": {
            "tags": []
          },
          "execution_count": 4
        }
      ]
    },
    {
      "cell_type": "code",
      "metadata": {
        "id": "KpEHcQCgql4-"
      },
      "source": [
        "champ_type = set()\n",
        "for chmp in champ:\n",
        "  champ_type = champ_type|(set(chmp['tags']))"
      ],
      "execution_count": 5,
      "outputs": []
    },
    {
      "cell_type": "code",
      "metadata": {
        "colab": {
          "base_uri": "https://localhost:8080/"
        },
        "id": "W8cY_LHLq89b",
        "outputId": "6f864f05-ad44-4288-c6dc-a9202fcde069"
      },
      "source": [
        "# 챔프에 대한 테그를 찾고 이 태그에 따라서 분석을 하려 한다.\n",
        "# 순서대로 탱커, 원딜, 브루져, 암살자, 서폿, 메이지로 부른다.\n",
        "\n",
        "champ_type = list(champ_type)\n",
        "champ_type"
      ],
      "execution_count": 6,
      "outputs": [
        {
          "output_type": "execute_result",
          "data": {
            "text/plain": [
              "['Support', 'Tank', 'Assassin', 'Mage', 'Fighter', 'Marksman']"
            ]
          },
          "metadata": {
            "tags": []
          },
          "execution_count": 6
        }
      ]
    },
    {
      "cell_type": "code",
      "metadata": {
        "id": "S2UDPmN2r2y4"
      },
      "source": [
        "df0 = []\n",
        "for i in champ:\n",
        "  temp = set(i['tags'])\n",
        "  df0.append([i['key'],i['id'],len(temp&set(['Tank'])),len(temp&set(['Marksman'])),len(temp&set(['Fighter'])),len(temp&set(['Assassin'])),\n",
        "              len(temp&set(['Support'])), len(temp&set(['Mage']))])"
      ],
      "execution_count": 7,
      "outputs": []
    },
    {
      "cell_type": "code",
      "metadata": {
        "id": "Hf90pw7k3Ofc"
      },
      "source": [
        "Champion = pd.DataFrame(df0, columns=['championid', 'championname', 'Tank', 'Marksman', 'Fighter', 'Assassin', 'Support', 'Mage'])"
      ],
      "execution_count": 8,
      "outputs": []
    },
    {
      "cell_type": "code",
      "metadata": {
        "id": "JHRnyS7Jlggq"
      },
      "source": [
        "Champion['championid'] = Champion['championid'].astype('int64')"
      ],
      "execution_count": 9,
      "outputs": []
    },
    {
      "cell_type": "code",
      "metadata": {
        "colab": {
          "base_uri": "https://localhost:8080/",
          "height": 423
        },
        "id": "eHLV7UWq3Iqx",
        "outputId": "e038ac29-eb61-411e-f11d-a32b29554d7d"
      },
      "source": [
        "Champion"
      ],
      "execution_count": 10,
      "outputs": [
        {
          "output_type": "execute_result",
          "data": {
            "text/html": [
              "<div>\n",
              "<style scoped>\n",
              "    .dataframe tbody tr th:only-of-type {\n",
              "        vertical-align: middle;\n",
              "    }\n",
              "\n",
              "    .dataframe tbody tr th {\n",
              "        vertical-align: top;\n",
              "    }\n",
              "\n",
              "    .dataframe thead th {\n",
              "        text-align: right;\n",
              "    }\n",
              "</style>\n",
              "<table border=\"1\" class=\"dataframe\">\n",
              "  <thead>\n",
              "    <tr style=\"text-align: right;\">\n",
              "      <th></th>\n",
              "      <th>championid</th>\n",
              "      <th>championname</th>\n",
              "      <th>Tank</th>\n",
              "      <th>Marksman</th>\n",
              "      <th>Fighter</th>\n",
              "      <th>Assassin</th>\n",
              "      <th>Support</th>\n",
              "      <th>Mage</th>\n",
              "    </tr>\n",
              "  </thead>\n",
              "  <tbody>\n",
              "    <tr>\n",
              "      <th>0</th>\n",
              "      <td>266</td>\n",
              "      <td>aatrox</td>\n",
              "      <td>1</td>\n",
              "      <td>0</td>\n",
              "      <td>1</td>\n",
              "      <td>0</td>\n",
              "      <td>0</td>\n",
              "      <td>0</td>\n",
              "    </tr>\n",
              "    <tr>\n",
              "      <th>1</th>\n",
              "      <td>103</td>\n",
              "      <td>ahri</td>\n",
              "      <td>0</td>\n",
              "      <td>0</td>\n",
              "      <td>0</td>\n",
              "      <td>1</td>\n",
              "      <td>0</td>\n",
              "      <td>1</td>\n",
              "    </tr>\n",
              "    <tr>\n",
              "      <th>2</th>\n",
              "      <td>84</td>\n",
              "      <td>akali</td>\n",
              "      <td>0</td>\n",
              "      <td>0</td>\n",
              "      <td>0</td>\n",
              "      <td>1</td>\n",
              "      <td>0</td>\n",
              "      <td>0</td>\n",
              "    </tr>\n",
              "    <tr>\n",
              "      <th>3</th>\n",
              "      <td>12</td>\n",
              "      <td>alistar</td>\n",
              "      <td>1</td>\n",
              "      <td>0</td>\n",
              "      <td>0</td>\n",
              "      <td>0</td>\n",
              "      <td>1</td>\n",
              "      <td>0</td>\n",
              "    </tr>\n",
              "    <tr>\n",
              "      <th>4</th>\n",
              "      <td>32</td>\n",
              "      <td>amumu</td>\n",
              "      <td>1</td>\n",
              "      <td>0</td>\n",
              "      <td>0</td>\n",
              "      <td>0</td>\n",
              "      <td>0</td>\n",
              "      <td>1</td>\n",
              "    </tr>\n",
              "    <tr>\n",
              "      <th>...</th>\n",
              "      <td>...</td>\n",
              "      <td>...</td>\n",
              "      <td>...</td>\n",
              "      <td>...</td>\n",
              "      <td>...</td>\n",
              "      <td>...</td>\n",
              "      <td>...</td>\n",
              "      <td>...</td>\n",
              "    </tr>\n",
              "    <tr>\n",
              "      <th>147</th>\n",
              "      <td>238</td>\n",
              "      <td>zed</td>\n",
              "      <td>0</td>\n",
              "      <td>0</td>\n",
              "      <td>0</td>\n",
              "      <td>1</td>\n",
              "      <td>0</td>\n",
              "      <td>0</td>\n",
              "    </tr>\n",
              "    <tr>\n",
              "      <th>148</th>\n",
              "      <td>115</td>\n",
              "      <td>ziggs</td>\n",
              "      <td>0</td>\n",
              "      <td>0</td>\n",
              "      <td>0</td>\n",
              "      <td>0</td>\n",
              "      <td>0</td>\n",
              "      <td>1</td>\n",
              "    </tr>\n",
              "    <tr>\n",
              "      <th>149</th>\n",
              "      <td>26</td>\n",
              "      <td>zilean</td>\n",
              "      <td>0</td>\n",
              "      <td>0</td>\n",
              "      <td>0</td>\n",
              "      <td>0</td>\n",
              "      <td>1</td>\n",
              "      <td>1</td>\n",
              "    </tr>\n",
              "    <tr>\n",
              "      <th>150</th>\n",
              "      <td>142</td>\n",
              "      <td>zoe</td>\n",
              "      <td>0</td>\n",
              "      <td>0</td>\n",
              "      <td>0</td>\n",
              "      <td>0</td>\n",
              "      <td>1</td>\n",
              "      <td>1</td>\n",
              "    </tr>\n",
              "    <tr>\n",
              "      <th>151</th>\n",
              "      <td>143</td>\n",
              "      <td>zyra</td>\n",
              "      <td>0</td>\n",
              "      <td>0</td>\n",
              "      <td>0</td>\n",
              "      <td>0</td>\n",
              "      <td>1</td>\n",
              "      <td>1</td>\n",
              "    </tr>\n",
              "  </tbody>\n",
              "</table>\n",
              "<p>152 rows × 8 columns</p>\n",
              "</div>"
            ],
            "text/plain": [
              "     championid championname  Tank  Marksman  Fighter  Assassin  Support  Mage\n",
              "0           266       aatrox     1         0        1         0        0     0\n",
              "1           103         ahri     0         0        0         1        0     1\n",
              "2            84        akali     0         0        0         1        0     0\n",
              "3            12      alistar     1         0        0         0        1     0\n",
              "4            32        amumu     1         0        0         0        0     1\n",
              "..          ...          ...   ...       ...      ...       ...      ...   ...\n",
              "147         238          zed     0         0        0         1        0     0\n",
              "148         115        ziggs     0         0        0         0        0     1\n",
              "149          26       zilean     0         0        0         0        1     1\n",
              "150         142          zoe     0         0        0         0        1     1\n",
              "151         143         zyra     0         0        0         0        1     1\n",
              "\n",
              "[152 rows x 8 columns]"
            ]
          },
          "metadata": {
            "tags": []
          },
          "execution_count": 10
        }
      ]
    },
    {
      "cell_type": "code",
      "metadata": {
        "id": "HsnKZQ3nUey-"
      },
      "source": [
        "#컴퓨터 용량의 한계로 데이터를 전부 불러오지 못하고 부분만 불러왔습니다."
      ],
      "execution_count": 11,
      "outputs": []
    },
    {
      "cell_type": "code",
      "metadata": {
        "id": "DVYmB8dIdvQ0"
      },
      "source": [
        "# 약 16.8만개의 데이터 중 6만개의 게임 데이터를 불러옵니다.\n",
        "# 불러옴과 동시에 데이터 처리를 보다 효율적으로 하기 위해 json데이터 형태에서 dictionary형태로 변환합니다.\n",
        "\n",
        "N = 60000\n",
        "with open('/content/drive/MyDrive/op.gg/op_gg.json', encoding='utf-8') as myfile:\n",
        "    head = [json.loads(next(myfile)) for _ in range(N)]"
      ],
      "execution_count": 12,
      "outputs": []
    },
    {
      "cell_type": "code",
      "metadata": {
        "id": "-KbuLBsagwL_"
      },
      "source": [
        "# 데이터를 분석하기 위해 첫 번째, 게임의 데이터와 그 데이터가 가지고 있는 키들을 변수설정합니다.\n",
        "\n",
        "data = head[0]\n",
        "lst = list(data.keys())"
      ],
      "execution_count": 13,
      "outputs": []
    },
    {
      "cell_type": "code",
      "metadata": {
        "colab": {
          "base_uri": "https://localhost:8080/"
        },
        "id": "z6omvRN5cbrp",
        "outputId": "4d569ca3-aa7d-400c-86d4-afd4a215ddaf"
      },
      "source": [
        "# 각 키와 그 키가 가지고 있는 값들을 매칭하여 나타냅니다.\n",
        "\n",
        "for i in lst:\n",
        "  print(i, ':', data[i])"
      ],
      "execution_count": 14,
      "outputs": [
        {
          "output_type": "stream",
          "text": [
            "seasonid : 13\n",
            "queueid : 420\n",
            "gameid : 4621713273\n",
            "participantidentities : [{'player': {'currentplatformid': 'KR', 'matchhistoryuri': '/v1/stats/player_history/KR/2384460278402912', 'platformid': 'KR', 'profileicon': 23, 'summonerid': 'PF7wuKbEjIH7bUEivDRsJbiah9EF9EzRPO-LFLucLai7avA'}, 'participantid': 1}, {'player': {'currentplatformid': 'KR', 'matchhistoryuri': '/v1/stats/player_history/KR/206928168', 'platformid': 'KR', 'profileicon': 4568, 'summonerid': 'JRuCiFpuzcsnQ9Gadn5A_0bm66-PrFaA3WKP5juhgetrx3Y'}, 'participantid': 2}, {'player': {'currentplatformid': 'KR', 'matchhistoryuri': '/v1/stats/player_history/KR/2481287071728960', 'platformid': 'KR', 'profileicon': 7, 'summonerid': 'o5ZjlQkLgDZzDG_dkT0GVL7X34kp51abqkUN6P7K2WPeY1dy'}, 'participantid': 3}, {'player': {'currentplatformid': 'KR', 'matchhistoryuri': '/v1/stats/player_history/KR/3380059', 'platformid': 'KR', 'profileicon': 4236, 'summonerid': 'TUdiT-gEHdtkmr9JkhqvtNy5L_nutzsw2oH23kgO71NSsA'}, 'participantid': 4}, {'player': {'currentplatformid': 'KR', 'matchhistoryuri': '/v1/stats/player_history/KR/2478293106361536', 'platformid': 'KR', 'profileicon': 4629, 'summonerid': 'qmcY1AJTdznK_aTgW2e1qwCY1uwbam9HU09Wsa7nI9Wt5sYQ'}, 'participantid': 5}, {'player': {'currentplatformid': 'KR', 'matchhistoryuri': '/v1/stats/player_history/KR/206082506', 'platformid': 'KR', 'profileicon': 3507, 'summonerid': 'aVkF6jW3XX09jGt89jlrksun1mjDSPDGgaG6aMerUoJHsZw'}, 'participantid': 6}, {'player': {'currentplatformid': 'KR', 'matchhistoryuri': '/v1/stats/player_history/KR/208199342', 'platformid': 'KR', 'profileicon': 7, 'summonerid': 'NdcS9dgPtAbN_Vb_o6dXQGrK6sX_1Ne2rcVfhSenZMfytjs'}, 'participantid': 7}, {'player': {'currentplatformid': 'KR', 'matchhistoryuri': '/v1/stats/player_history/KR/2413955723586816', 'platformid': 'KR', 'profileicon': 4653, 'summonerid': 'tFNs6Vhs0xyWMh8_9A9Lx3MwfKqBSWjaHM3hP7miUQSH46A'}, 'participantid': 8}, {'player': {'currentplatformid': 'KR', 'matchhistoryuri': '/v1/stats/player_history/kr/210499367', 'platformid': 'kr', 'profileicon': 3790, 'summonerid': 'oZOstqygth7G6p98xlcllvatNasCsluMixZhQYQ8WJnoDtA'}, 'participantid': 9}, {'player': {'currentplatformid': 'KR', 'matchhistoryuri': '/v1/stats/player_history/KR/206929328', 'platformid': 'KR', 'profileicon': 4666, 'summonerid': 'ELOByFaP_AyaYWEYTvcrUQF0X43qvrJWYK-nWKCEtbCwB_c'}, 'participantid': 10}]\n",
            "gameversion : 10.18.333.8889\n",
            "platformid : KR\n",
            "gamemode : CLASSIC\n",
            "mapid : 11\n",
            "gametype : MATCHED_GAME\n",
            "teams : [{'firstdragon': False, 'firstinhibitor': False, 'bans': [{'pickturn': 1, 'championid': 104}, {'pickturn': 2, 'championid': 51}, {'pickturn': 3, 'championid': 58}, {'pickturn': 4, 'championid': 80}, {'pickturn': 5, 'championid': 777}], 'baronkills': 0, 'firstriftherald': True, 'firstbaron': False, 'riftheraldkills': 2, 'firstblood': True, 'teamid': 100, 'firsttower': True, 'vilemawkills': 0, 'inhibitorkills': 0, 'towerkills': 2, 'dominionvictoryscore': 0, 'win': 'Fail', 'dragonkills': 1}, {'firstdragon': True, 'firstinhibitor': False, 'bans': [{'pickturn': 6, 'championid': 120}, {'pickturn': 7, 'championid': 104}, {'pickturn': 8, 'championid': 236}, {'pickturn': 9, 'championid': 89}, {'pickturn': 10, 'championid': 245}], 'baronkills': 1, 'firstriftherald': False, 'firstbaron': True, 'riftheraldkills': 0, 'firstblood': False, 'teamid': 200, 'firsttower': False, 'vilemawkills': 0, 'inhibitorkills': 0, 'towerkills': 5, 'dominionvictoryscore': 0, 'win': 'Win', 'dragonkills': 2}]\n",
            "participants : [{'stats': {'physicaldamagedealt': 14561, 'neutralminionskilledteamjungle': 11, 'magicdamagedealt': 54201, 'totalplayerscore': 0, 'deaths': 3, 'win': False, 'neutralminionskilledenemyjungle': 0, 'largestcriticalstrike': 0, 'totaldamagedealt': 70392, 'magicdamagedealttochampions': 14450, 'visionwardsboughtingame': 0, 'damagedealttoobjectives': 8413, 'largestkillingspree': 2, 'item1': 3003, 'quadrakills': 0, 'totaltimecrowdcontroldealt': 108, 'wardskilled': 7, 'firsttowerassist': False, 'firsttowerkill': False, 'item2': 2421, 'item3': 3020, 'item0': 1054, 'firstbloodassist': False, 'visionscore': 20, 'wardsplaced': 4, 'item4': 3027, 'item5': 0, 'item6': 3364, 'turretkills': 0, 'triplekills': 0, 'damageselfmitigated': 13394, 'champlevel': 13, 'goldearned': 9063, 'magicaldamagetaken': 8731, 'kills': 4, 'doublekills': 0, 'truedamagetaken': 1439, 'assists': 9, 'unrealkills': 0, 'neutralminionskilled': 15, 'objectiveplayerscore': 0, 'combatplayerscore': 0, 'damagedealttoturrets': 1657, 'physicaldamagedealttochampions': 1253, 'goldspent': 8050, 'truedamagedealt': 1629, 'truedamagedealttochampions': 204, 'participantid': 1, 'pentakills': 0, 'totalheal': 7508, 'totalminionskilled': 134, 'firstbloodkill': False, 'largestmultikill': 1, 'sightwardsboughtingame': 0, 'totaldamagedealttochampions': 15908, 'totalunitshealed': 1, 'inhibitorkills': 0, 'totalscorerank': 0, 'totaldamagetaken': 23238, 'killingsprees': 1, 'timeccingothers': 13, 'physicaldamagetaken': 13068, 'perk0': 8021, 'perk0var1': 2306, 'perk0var2': 0, 'perk0var3': 0, 'perk1': 8009, 'perk1var1': 4824, 'perk1var2': 500, 'perk1var3': 0, 'perk2': 9105, 'perk2var1': 17, 'perk2var2': 0, 'perk2var3': 0, 'perk3': 8014, 'perk3var1': 316, 'perk3var2': 0, 'perk3var3': 0, 'perk4': 8139, 'perk4var1': 629, 'perk4var2': 0, 'perk4var3': 0, 'perk5': 8135, 'perk5var1': 2101, 'perk5var2': 5, 'perk5var3': 0, 'perkprimarystyle': 8000, 'perksubstyle': 8100, 'longesttimespentliving': 942, 'statperk0': 5008, 'statperk1': 5008, 'statperk2': 5003}, 'participantid': 1, 'timeline': {'lane': 'MIDDLE', 'participantid': 1, 'csdiffpermindeltas': {'10-20': -0.8, '0-10': -0.1}, 'goldpermindeltas': {'10-20': 386.6, '0-10': 301.8}, 'xpdiffpermindeltas': {'10-20': -3.4, '0-10': -19.7}, 'creepspermindeltas': {'10-20': 5.4, '0-10': 7.9}, 'xppermindeltas': {'10-20': 400.1, '0-10': 434.8}, 'role': 'SOLO', 'damagetakendiffpermindeltas': {'10-20': 139.3, '0-10': 147.7}, 'damagetakenpermindeltas': {'10-20': 1033.8, '0-10': 317.3}}, 'teamid': 100, 'spell2id': 12, 'spell1id': 4, 'championid': 38}, {'stats': {'physicaldamagedealt': 3704, 'neutralminionskilledteamjungle': 0, 'magicdamagedealt': 5015, 'totalplayerscore': 0, 'deaths': 7, 'win': False, 'neutralminionskilledenemyjungle': 0, 'largestcriticalstrike': 0, 'totaldamagedealt': 14066, 'magicdamagedealttochampions': 3730, 'visionwardsboughtingame': 3, 'damagedealttoobjectives': 3250, 'largestkillingspree': 2, 'item1': 3109, 'quadrakills': 0, 'totaltimecrowdcontroldealt': 83, 'wardskilled': 7, 'firsttowerassist': False, 'firsttowerkill': False, 'item2': 3859, 'item3': 0, 'item0': 2065, 'firstbloodassist': False, 'visionscore': 58, 'wardsplaced': 29, 'item4': 0, 'item5': 3117, 'item6': 3364, 'turretkills': 0, 'triplekills': 0, 'damageselfmitigated': 16913, 'champlevel': 11, 'goldearned': 7032, 'magicaldamagetaken': 7670, 'kills': 3, 'doublekills': 0, 'truedamagetaken': 1281, 'assists': 12, 'unrealkills': 0, 'neutralminionskilled': 0, 'objectiveplayerscore': 0, 'combatplayerscore': 0, 'damagedealttoturrets': 0, 'physicaldamagedealttochampions': 1152, 'goldspent': 5975, 'truedamagedealt': 5345, 'truedamagedealttochampions': 587, 'participantid': 2, 'pentakills': 0, 'totalheal': 2962, 'totalminionskilled': 23, 'firstbloodkill': False, 'largestmultikill': 1, 'sightwardsboughtingame': 0, 'totaldamagedealttochampions': 5469, 'totalunitshealed': 5, 'inhibitorkills': 0, 'totalscorerank': 0, 'totaldamagetaken': 18367, 'killingsprees': 1, 'timeccingothers': 22, 'physicaldamagetaken': 9414, 'perk0': 8465, 'perk0var1': 3196, 'perk0var2': 0, 'perk0var3': 0, 'perk1': 8463, 'perk1var1': 659, 'perk1var2': 0, 'perk1var3': 0, 'perk2': 8444, 'perk2var1': 775, 'perk2var2': 0, 'perk2var3': 0, 'perk3': 8453, 'perk3var1': 322, 'perk3var2': 482, 'perk3var3': 0, 'perk4': 8106, 'perk4var1': 5, 'perk4var2': 0, 'perk4var3': 0, 'perk5': 8136, 'perk5var1': 11, 'perk5var2': 30, 'perk5var3': 0, 'perkprimarystyle': 8400, 'perksubstyle': 8100, 'longesttimespentliving': 617, 'statperk0': 5007, 'statperk1': 5003, 'statperk2': 5002}, 'participantid': 2, 'timeline': {'lane': 'BOTTOM', 'participantid': 2, 'csdiffpermindeltas': {'10-20': 0.2, '0-10': -0.45}, 'goldpermindeltas': {'10-20': 288.2, '0-10': 249.2}, 'xpdiffpermindeltas': {'10-20': 93.75, '0-10': 6.45}, 'creepspermindeltas': {'10-20': 1.1, '0-10': 1}, 'xppermindeltas': {'10-20': 312.7, '0-10': 222.1}, 'role': 'DUO_SUPPORT', 'damagetakendiffpermindeltas': {'10-20': 63.1, '0-10': 16.75}, 'damagetakenpermindeltas': {'10-20': 824.1, '0-10': 284.1}}, 'teamid': 100, 'spell2id': 4, 'spell1id': 14, 'championid': 497}, {'stats': {'physicaldamagedealt': 73712, 'neutralminionskilledteamjungle': 0, 'magicdamagedealt': 1359, 'totalplayerscore': 0, 'deaths': 6, 'win': False, 'neutralminionskilledenemyjungle': 0, 'largestcriticalstrike': 0, 'totaldamagedealt': 89119, 'magicdamagedealttochampions': 1359, 'visionwardsboughtingame': 1, 'damagedealttoobjectives': 8305, 'largestkillingspree': 4, 'item1': 3105, 'quadrakills': 0, 'totaltimecrowdcontroldealt': 168, 'wardskilled': 0, 'firsttowerassist': False, 'firsttowerkill': False, 'item2': 3078, 'item3': 3158, 'item0': 1055, 'firstbloodassist': False, 'visionscore': 16, 'wardsplaced': 6, 'item4': 1036, 'item5': 3074, 'item6': 3340, 'turretkills': 1, 'triplekills': 0, 'damageselfmitigated': 23139, 'champlevel': 13, 'goldearned': 10692, 'magicaldamagetaken': 7015, 'kills': 8, 'doublekills': 1, 'truedamagetaken': 3807, 'assists': 4, 'unrealkills': 0, 'neutralminionskilled': 4, 'objectiveplayerscore': 0, 'combatplayerscore': 0, 'damagedealttoturrets': 2741, 'physicaldamagedealttochampions': 15219, 'goldspent': 10508, 'truedamagedealt': 14047, 'truedamagedealttochampions': 5467, 'participantid': 3, 'pentakills': 0, 'totalheal': 1837, 'totalminionskilled': 129, 'firstbloodkill': True, 'largestmultikill': 2, 'sightwardsboughtingame': 0, 'totaldamagedealttochampions': 22046, 'totalunitshealed': 1, 'inhibitorkills': 0, 'totalscorerank': 0, 'totaldamagetaken': 29863, 'killingsprees': 2, 'timeccingothers': 13, 'physicaldamagetaken': 19040, 'perk0': 8437, 'perk0var1': 829, 'perk0var2': 595, 'perk0var3': 0, 'perk1': 8401, 'perk1var1': 923, 'perk1var2': 0, 'perk1var3': 0, 'perk2': 8444, 'perk2var1': 1478, 'perk2var2': 0, 'perk2var3': 0, 'perk3': 8451, 'perk3var1': 145, 'perk3var2': 0, 'perk3var3': 0, 'perk4': 8304, 'perk4var1': 9, 'perk4var2': 4, 'perk4var3': 5, 'perk5': 8345, 'perk5var1': 3, 'perk5var2': 0, 'perk5var3': 0, 'perkprimarystyle': 8400, 'perksubstyle': 8300, 'longesttimespentliving': 819, 'statperk0': 5005, 'statperk1': 5008, 'statperk2': 5002}, 'participantid': 3, 'timeline': {'lane': 'TOP', 'participantid': 3, 'csdiffpermindeltas': {'10-20': -1.8, '0-10': -0.2}, 'goldpermindeltas': {'10-20': 566.7, '0-10': 315.3}, 'xpdiffpermindeltas': {'10-20': -51, '0-10': 47.7}, 'creepspermindeltas': {'10-20': 6.2, '0-10': 6.4}, 'xppermindeltas': {'10-20': 545.3, '0-10': 457.9}, 'role': 'SOLO', 'damagetakendiffpermindeltas': {'10-20': 277.8, '0-10': -110}, 'damagetakenpermindeltas': {'10-20': 1363.6, '0-10': 641.2}}, 'teamid': 100, 'spell2id': 12, 'spell1id': 4, 'championid': 164}, {'stats': {'physicaldamagedealt': 82341, 'neutralminionskilledteamjungle': 87, 'magicdamagedealt': 33008, 'totalplayerscore': 0, 'deaths': 9, 'win': False, 'neutralminionskilledenemyjungle': 4, 'largestcriticalstrike': 0, 'totaldamagedealt': 129234, 'magicdamagedealttochampions': 3892, 'visionwardsboughtingame': 3, 'damagedealttoobjectives': 17285, 'largestkillingspree': 0, 'item1': 3748, 'quadrakills': 0, 'totaltimecrowdcontroldealt': 186, 'wardskilled': 4, 'firsttowerassist': False, 'firsttowerkill': False, 'item2': 2055, 'item3': 1028, 'item0': 1413, 'firstbloodassist': False, 'visionscore': 19, 'wardsplaced': 3, 'item4': 3009, 'item5': 1029, 'item6': 3364, 'turretkills': 1, 'triplekills': 0, 'damageselfmitigated': 16768, 'champlevel': 12, 'goldearned': 8167, 'magicaldamagetaken': 8862, 'kills': 2, 'doublekills': 0, 'truedamagetaken': 2254, 'assists': 7, 'unrealkills': 0, 'neutralminionskilled': 111, 'objectiveplayerscore': 0, 'combatplayerscore': 0, 'damagedealttoturrets': 580, 'physicaldamagedealttochampions': 3029, 'goldspent': 7825, 'truedamagedealt': 13884, 'truedamagedealttochampions': 386, 'participantid': 4, 'pentakills': 0, 'totalheal': 13310, 'totalminionskilled': 31, 'firstbloodkill': False, 'largestmultikill': 1, 'sightwardsboughtingame': 0, 'totaldamagedealttochampions': 7308, 'totalunitshealed': 1, 'inhibitorkills': 0, 'totalscorerank': 0, 'totaldamagetaken': 30215, 'killingsprees': 0, 'timeccingothers': 17, 'physicaldamagetaken': 19098, 'perk0': 8005, 'perk0var1': 829, 'perk0var2': 427, 'perk0var3': 402, 'perk1': 9111, 'perk1var1': 332, 'perk1var2': 180, 'perk1var3': 0, 'perk2': 9105, 'perk2var1': 14, 'perk2var2': 30, 'perk2var3': 0, 'perk3': 8299, 'perk3var1': 211, 'perk3var2': 0, 'perk3var3': 0, 'perk4': 8234, 'perk4var1': 10068, 'perk4var2': 0, 'perk4var3': 0, 'perk5': 8232, 'perk5var1': 4, 'perk5var2': 50, 'perk5var3': 0, 'perkprimarystyle': 8000, 'perksubstyle': 8200, 'longesttimespentliving': 309, 'statperk0': 5005, 'statperk1': 5008, 'statperk2': 5002}, 'participantid': 4, 'timeline': {'lane': 'JUNGLE', 'participantid': 4, 'csdiffpermindeltas': {'10-20': -0.6, '0-10': 0.5}, 'goldpermindeltas': {'10-20': 390.2, '0-10': 235.3}, 'xpdiffpermindeltas': {'10-20': -24.7, '0-10': -82.9}, 'creepspermindeltas': {'10-20': 0.7, '0-10': 0.5}, 'xppermindeltas': {'10-20': 459.7, '0-10': 273.3}, 'role': 'NONE', 'damagetakendiffpermindeltas': {'10-20': 222.9, '0-10': -84.6}, 'damagetakenpermindeltas': {'10-20': 1418.9, '0-10': 738.8}}, 'teamid': 100, 'spell2id': 4, 'spell1id': 11, 'championid': 19}, {'stats': {'physicaldamagedealt': 95118, 'neutralminionskilledteamjungle': 12, 'magicdamagedealt': 9692, 'totalplayerscore': 0, 'deaths': 3, 'win': False, 'neutralminionskilledenemyjungle': 0, 'largestcriticalstrike': 499, 'totaldamagedealt': 106915, 'magicdamagedealttochampions': 5394, 'visionwardsboughtingame': 0, 'damagedealttoobjectives': 4834, 'largestkillingspree': 6, 'item1': 1052, 'quadrakills': 0, 'totaltimecrowdcontroldealt': 14, 'wardskilled': 5, 'firsttowerassist': False, 'firsttowerkill': False, 'item2': 3134, 'item3': 3508, 'item0': 1055, 'firstbloodassist': False, 'visionscore': 23, 'wardsplaced': 8, 'item4': 3006, 'item5': 3115, 'item6': 3363, 'turretkills': 0, 'triplekills': 0, 'damageselfmitigated': 8360, 'champlevel': 13, 'goldearned': 10777, 'magicaldamagetaken': 5827, 'kills': 9, 'doublekills': 0, 'truedamagetaken': 932, 'assists': 5, 'unrealkills': 0, 'neutralminionskilled': 16, 'objectiveplayerscore': 0, 'combatplayerscore': 0, 'damagedealttoturrets': 0, 'physicaldamagedealttochampions': 12381, 'goldspent': 9585, 'truedamagedealt': 2103, 'truedamagedealttochampions': 539, 'participantid': 5, 'pentakills': 0, 'totalheal': 2328, 'totalminionskilled': 174, 'firstbloodkill': False, 'largestmultikill': 1, 'sightwardsboughtingame': 0, 'totaldamagedealttochampions': 18316, 'totalunitshealed': 1, 'inhibitorkills': 0, 'totalscorerank': 0, 'totaldamagetaken': 14532, 'killingsprees': 2, 'timeccingothers': 1, 'physicaldamagetaken': 7772, 'perk0': 9923, 'perk0var1': 55, 'perk0var2': 76, 'perk0var3': 0, 'perk1': 8139, 'perk1var1': 917, 'perk1var2': 0, 'perk1var3': 0, 'perk2': 8138, 'perk2var1': 18, 'perk2var2': 0, 'perk2var3': 0, 'perk3': 8135, 'perk3var1': 1857, 'perk3var2': 5, 'perk3var3': 0, 'perk4': 8009, 'perk4var1': 2757, 'perk4var2': 500, 'perk4var3': 0, 'perk5': 9103, 'perk5var1': 24, 'perk5var2': 40, 'perk5var3': 0, 'perkprimarystyle': 8100, 'perksubstyle': 8000, 'longesttimespentliving': 777, 'statperk0': 5005, 'statperk1': 5008, 'statperk2': 5002}, 'participantid': 5, 'timeline': {'lane': 'BOTTOM', 'participantid': 5, 'csdiffpermindeltas': {'10-20': 0.2, '0-10': -0.45}, 'goldpermindeltas': {'10-20': 500.9, '0-10': 289.1}, 'xpdiffpermindeltas': {'10-20': 93.75, '0-10': 6.45}, 'creepspermindeltas': {'10-20': 8.2, '0-10': 7.1}, 'xppermindeltas': {'10-20': 573.8, '0-10': 342.7}, 'role': 'DUO_CARRY', 'damagetakendiffpermindeltas': {'10-20': 63.1, '0-10': 16.75}, 'damagetakenpermindeltas': {'10-20': 568.3, '0-10': 343.1}}, 'teamid': 100, 'spell2id': 4, 'spell1id': 1, 'championid': 145}, {'stats': {'physicaldamagedealt': 119854, 'neutralminionskilledteamjungle': 8, 'magicdamagedealt': 1643, 'totalplayerscore': 0, 'deaths': 8, 'win': True, 'neutralminionskilledenemyjungle': 6, 'largestcriticalstrike': 530, 'totaldamagedealt': 128604, 'magicdamagedealttochampions': 901, 'visionwardsboughtingame': 0, 'damagedealttoobjectives': 13208, 'largestkillingspree': 2, 'item1': 3078, 'quadrakills': 0, 'totaltimecrowdcontroldealt': 116, 'wardskilled': 2, 'firsttowerassist': False, 'firsttowerkill': False, 'item2': 3074, 'item3': 0, 'item0': 3812, 'firstbloodassist': False, 'visionscore': 10, 'wardsplaced': 7, 'item4': 1029, 'item5': 2422, 'item6': 3340, 'turretkills': 2, 'triplekills': 0, 'damageselfmitigated': 27078, 'champlevel': 14, 'goldearned': 12727, 'magicaldamagetaken': 5383, 'kills': 7, 'doublekills': 2, 'truedamagetaken': 4957, 'assists': 10, 'unrealkills': 0, 'neutralminionskilled': 20, 'objectiveplayerscore': 0, 'combatplayerscore': 0, 'damagedealttoturrets': 5877, 'physicaldamagedealttochampions': 19213, 'goldspent': 12413, 'truedamagedealt': 7106, 'truedamagedealttochampions': 3484, 'participantid': 6, 'pentakills': 0, 'totalheal': 9648, 'totalminionskilled': 150, 'firstbloodkill': False, 'largestmultikill': 2, 'sightwardsboughtingame': 0, 'totaldamagedealttochampions': 23599, 'totalunitshealed': 4, 'inhibitorkills': 0, 'totalscorerank': 0, 'totaldamagetaken': 33083, 'killingsprees': 3, 'timeccingothers': 10, 'physicaldamagetaken': 22741, 'perk0': 8010, 'perk0var1': 1652, 'perk0var2': 0, 'perk0var3': 0, 'perk1': 9111, 'perk1var1': 815, 'perk1var2': 340, 'perk1var3': 0, 'perk2': 9104, 'perk2var1': 17, 'perk2var2': 20, 'perk2var3': 0, 'perk3': 8299, 'perk3var1': 1035, 'perk3var2': 0, 'perk3var3': 0, 'perk4': 8304, 'perk4var1': 9, 'perk4var2': 4, 'perk4var3': 5, 'perk5': 8345, 'perk5var1': 3, 'perk5var2': 0, 'perk5var3': 0, 'perkprimarystyle': 8000, 'perksubstyle': 8300, 'longesttimespentliving': 460, 'statperk0': 5005, 'statperk1': 5008, 'statperk2': 5002}, 'participantid': 6, 'timeline': {'lane': 'TOP', 'participantid': 6, 'csdiffpermindeltas': {'10-20': 1.8, '0-10': 0.2}, 'goldpermindeltas': {'10-20': 548.8, '0-10': 311.6}, 'xpdiffpermindeltas': {'10-20': 51, '0-10': -47.7}, 'creepspermindeltas': {'10-20': 8, '0-10': 6.6}, 'xppermindeltas': {'10-20': 596.3, '0-10': 410.2}, 'role': 'SOLO', 'damagetakendiffpermindeltas': {'10-20': -277.8, '0-10': 110}, 'damagetakenpermindeltas': {'10-20': 1085.8, '0-10': 751.2}}, 'teamid': 200, 'spell2id': 4, 'spell1id': 12, 'championid': 114}, {'stats': {'physicaldamagedealt': 19367, 'neutralminionskilledteamjungle': 112, 'magicdamagedealt': 95667, 'totalplayerscore': 0, 'deaths': 7, 'win': True, 'neutralminionskilledenemyjungle': 1, 'largestcriticalstrike': 0, 'totaldamagedealt': 144449, 'magicdamagedealttochampions': 12515, 'visionwardsboughtingame': 3, 'damagedealttoobjectives': 9793, 'largestkillingspree': 2, 'item1': 2031, 'quadrakills': 0, 'totaltimecrowdcontroldealt': 358, 'wardskilled': 1, 'firsttowerassist': False, 'firsttowerkill': False, 'item2': 3157, 'item3': 3151, 'item0': 1052, 'firstbloodassist': False, 'visionscore': 15, 'wardsplaced': 4, 'item4': 3009, 'item5': 1402, 'item6': 3364, 'turretkills': 0, 'triplekills': 0, 'damageselfmitigated': 10616, 'champlevel': 13, 'goldearned': 10383, 'magicaldamagetaken': 9207, 'kills': 6, 'doublekills': 1, 'truedamagetaken': 1303, 'assists': 14, 'unrealkills': 0, 'neutralminionskilled': 138, 'objectiveplayerscore': 0, 'combatplayerscore': 0, 'damagedealttoturrets': 430, 'physicaldamagedealttochampions': 534, 'goldspent': 10210, 'truedamagedealt': 29414, 'truedamagedealttochampions': 5028, 'participantid': 7, 'pentakills': 0, 'totalheal': 9816, 'totalminionskilled': 13, 'firstbloodkill': False, 'largestmultikill': 2, 'sightwardsboughtingame': 0, 'totaldamagedealttochampions': 18079, 'totalunitshealed': 1, 'inhibitorkills': 0, 'totalscorerank': 0, 'totaldamagetaken': 26769, 'killingsprees': 1, 'timeccingothers': 26, 'physicaldamagetaken': 16257, 'perk0': 8230, 'perk0var1': 14, 'perk0var2': 0, 'perk0var3': 0, 'perk1': 8275, 'perk1var1': 19, 'perk1var2': 0, 'perk1var3': 0, 'perk2': 8234, 'perk2var1': 15224, 'perk2var2': 0, 'perk2var3': 0, 'perk3': 8232, 'perk3var1': 3, 'perk3var2': 20, 'perk3var3': 0, 'perk4': 8126, 'perk4var1': 810, 'perk4var2': 0, 'perk4var3': 0, 'perk5': 8135, 'perk5var1': 5315, 'perk5var2': 5, 'perk5var3': 0, 'perkprimarystyle': 8200, 'perksubstyle': 8100, 'longesttimespentliving': 364, 'statperk0': 5007, 'statperk1': 5008, 'statperk2': 5002}, 'participantid': 7, 'timeline': {'lane': 'JUNGLE', 'participantid': 7, 'csdiffpermindeltas': {'10-20': 0.6, '0-10': -0.5}, 'goldpermindeltas': {'10-20': 393.9, '0-10': 359.2}, 'xpdiffpermindeltas': {'10-20': 24.7, '0-10': 82.9}, 'creepspermindeltas': {'10-20': 1.3, '0-10': 0}, 'xppermindeltas': {'10-20': 484.4, '0-10': 356.2}, 'role': 'NONE', 'damagetakendiffpermindeltas': {'10-20': -222.9, '0-10': 84.6}, 'damagetakenpermindeltas': {'10-20': 1196, '0-10': 823.4}}, 'teamid': 200, 'spell2id': 4, 'spell1id': 11, 'championid': 876}, {'stats': {'physicaldamagedealt': 12596, 'neutralminionskilledteamjungle': 0, 'magicdamagedealt': 69548, 'totalplayerscore': 0, 'deaths': 4, 'win': True, 'neutralminionskilledenemyjungle': 0, 'largestcriticalstrike': 0, 'totaldamagedealt': 87186, 'magicdamagedealttochampions': 13447, 'visionwardsboughtingame': 3, 'damagedealttoobjectives': 5582, 'largestkillingspree': 2, 'item1': 3157, 'quadrakills': 0, 'totaltimecrowdcontroldealt': 73, 'wardskilled': 2, 'firsttowerassist': False, 'firsttowerkill': False, 'item2': 3027, 'item3': 3111, 'item0': 3100, 'firstbloodassist': False, 'visionscore': 20, 'wardsplaced': 10, 'item4': 0, 'item5': 0, 'item6': 3340, 'turretkills': 0, 'triplekills': 0, 'damageselfmitigated': 9446, 'champlevel': 13, 'goldearned': 10369, 'magicaldamagetaken': 10030, 'kills': 5, 'doublekills': 0, 'truedamagetaken': 438, 'assists': 12, 'unrealkills': 0, 'neutralminionskilled': 4, 'objectiveplayerscore': 0, 'combatplayerscore': 0, 'damagedealttoturrets': 2731, 'physicaldamagedealttochampions': 2558, 'goldspent': 10200, 'truedamagedealt': 5042, 'truedamagedealttochampions': 38, 'participantid': 8, 'pentakills': 0, 'totalheal': 4488, 'totalminionskilled': 146, 'firstbloodkill': False, 'largestmultikill': 1, 'sightwardsboughtingame': 0, 'totaldamagedealttochampions': 16044, 'totalunitshealed': 1, 'inhibitorkills': 0, 'totalscorerank': 0, 'totaldamagetaken': 16524, 'killingsprees': 2, 'timeccingothers': 25, 'physicaldamagetaken': 6054, 'perk0': 8360, 'perk0var1': 8, 'perk0var2': 0, 'perk0var3': 0, 'perk1': 8313, 'perk1var1': 0, 'perk1var2': 0, 'perk1var3': 0, 'perk2': 8316, 'perk2var1': 3080, 'perk2var2': 0, 'perk2var3': 0, 'perk3': 8352, 'perk3var1': 293, 'perk3var2': 1000, 'perk3var3': 825, 'perk4': 8275, 'perk4var1': 11, 'perk4var2': 0, 'perk4var3': 0, 'perk5': 8210, 'perk5var1': 0, 'perk5var2': 0, 'perk5var3': 0, 'perkprimarystyle': 8300, 'perksubstyle': 8200, 'longesttimespentliving': 787, 'statperk0': 5005, 'statperk1': 5008, 'statperk2': 5003}, 'participantid': 8, 'timeline': {'lane': 'MIDDLE', 'participantid': 8, 'csdiffpermindeltas': {'10-20': 0.8, '0-10': 0.1}, 'goldpermindeltas': {'10-20': 410.7, '0-10': 357.7}, 'xpdiffpermindeltas': {'10-20': 3.4, '0-10': 19.7}, 'creepspermindeltas': {'10-20': 6.2, '0-10': 8}, 'xppermindeltas': {'10-20': 403.5, '0-10': 454.5}, 'role': 'SOLO', 'damagetakendiffpermindeltas': {'10-20': -139.3, '0-10': -147.7}, 'damagetakenpermindeltas': {'10-20': 894.5, '0-10': 169.6}}, 'teamid': 200, 'spell2id': 4, 'spell1id': 12, 'championid': 4}, {'stats': {'physicaldamagedealt': 7050, 'neutralminionskilledteamjungle': 0, 'magicdamagedealt': 17047, 'totalplayerscore': 0, 'deaths': 4, 'win': True, 'neutralminionskilledenemyjungle': 0, 'largestcriticalstrike': 0, 'totaldamagedealt': 30755, 'magicdamagedealttochampions': 7258, 'visionwardsboughtingame': 9, 'damagedealttoobjectives': 3536, 'largestkillingspree': 0, 'item1': 3050, 'quadrakills': 0, 'totaltimecrowdcontroldealt': 193, 'wardskilled': 5, 'firsttowerassist': False, 'firsttowerkill': False, 'item2': 0, 'item3': 3067, 'item0': 3860, 'firstbloodassist': False, 'visionscore': 47, 'wardsplaced': 25, 'item4': 1029, 'item5': 3117, 'item6': 3364, 'turretkills': 0, 'triplekills': 0, 'damageselfmitigated': 10065, 'champlevel': 11, 'goldearned': 6148, 'magicaldamagetaken': 4682, 'kills': 0, 'doublekills': 0, 'truedamagetaken': 232, 'assists': 9, 'unrealkills': 0, 'neutralminionskilled': 0, 'objectiveplayerscore': 0, 'combatplayerscore': 0, 'damagedealttoturrets': 1074, 'physicaldamagedealttochampions': 1600, 'goldspent': 5800, 'truedamagedealt': 6657, 'truedamagedealttochampions': 469, 'participantid': 9, 'pentakills': 0, 'totalheal': 3042, 'totalminionskilled': 28, 'firstbloodkill': False, 'largestmultikill': 0, 'sightwardsboughtingame': 0, 'totaldamagedealttochampions': 9327, 'totalunitshealed': 5, 'inhibitorkills': 0, 'totalscorerank': 0, 'totaldamagetaken': 12192, 'killingsprees': 0, 'timeccingothers': 42, 'physicaldamagetaken': 7278, 'perk0': 8439, 'perk0var1': 480, 'perk0var2': 0, 'perk0var3': 0, 'perk1': 8463, 'perk1var1': 678, 'perk1var2': 0, 'perk1var3': 0, 'perk2': 8473, 'perk2var1': 549, 'perk2var2': 0, 'perk2var3': 0, 'perk3': 8242, 'perk3var1': 36, 'perk3var2': 0, 'perk3var3': 0, 'perk4': 8009, 'perk4var1': 1665, 'perk4var2': 500, 'perk4var3': 0, 'perk5': 9105, 'perk5var1': 22, 'perk5var2': 50, 'perk5var3': 0, 'perkprimarystyle': 8400, 'perksubstyle': 8000, 'longesttimespentliving': 613, 'statperk0': 5005, 'statperk1': 5002, 'statperk2': 5002}, 'participantid': 9, 'timeline': {'lane': 'BOTTOM', 'participantid': 9, 'csdiffpermindeltas': {'10-20': -0.2, '0-10': 0.45}, 'goldpermindeltas': {'10-20': 227, '0-10': 170.4}, 'xpdiffpermindeltas': {'10-20': -93.75, '0-10': -6.45}, 'creepspermindeltas': {'10-20': 1.3, '0-10': 1.2}, 'xppermindeltas': {'10-20': 265.4, '0-10': 233.8}, 'role': 'DUO_SUPPORT', 'damagetakendiffpermindeltas': {'10-20': -63.1, '0-10': -16.75}, 'damagetakenpermindeltas': {'10-20': 645.9, '0-10': 347.3}}, 'teamid': 200, 'spell2id': 4, 'spell1id': 14, 'championid': 57}, {'stats': {'physicaldamagedealt': 99898, 'neutralminionskilledteamjungle': 8, 'magicdamagedealt': 3636, 'totalplayerscore': 0, 'deaths': 3, 'win': True, 'neutralminionskilledenemyjungle': 0, 'largestcriticalstrike': 1013, 'totaldamagedealt': 105084, 'magicdamagedealttochampions': 928, 'visionwardsboughtingame': 1, 'damagedealttoobjectives': 12006, 'largestkillingspree': 6, 'item1': 3508, 'quadrakills': 0, 'totaltimecrowdcontroldealt': 154, 'wardskilled': 3, 'firsttowerassist': False, 'firsttowerkill': False, 'item2': 3031, 'item3': 3006, 'item0': 1055, 'firstbloodassist': False, 'visionscore': 15, 'wardsplaced': 10, 'item4': 1038, 'item5': 1053, 'item6': 3363, 'turretkills': 2, 'triplekills': 0, 'damageselfmitigated': 3706, 'champlevel': 13, 'goldearned': 11884, 'magicaldamagetaken': 3900, 'kills': 10, 'doublekills': 3, 'truedamagetaken': 362, 'assists': 2, 'unrealkills': 0, 'neutralminionskilled': 8, 'objectiveplayerscore': 0, 'combatplayerscore': 0, 'damagedealttoturrets': 3841, 'physicaldamagedealttochampions': 16801, 'goldspent': 10725, 'truedamagedealt': 1550, 'truedamagedealttochampions': 696, 'participantid': 10, 'pentakills': 0, 'totalheal': 969, 'totalminionskilled': 175, 'firstbloodkill': False, 'largestmultikill': 2, 'sightwardsboughtingame': 0, 'totaldamagedealttochampions': 18426, 'totalunitshealed': 3, 'inhibitorkills': 0, 'totalscorerank': 0, 'totaldamagetaken': 9754, 'killingsprees': 2, 'timeccingothers': 10, 'physicaldamagetaken': 5491, 'perk0': 8005, 'perk0var1': 1084, 'perk0var2': 879, 'perk0var3': 205, 'perk1': 8009, 'perk1var1': 1067, 'perk1var2': 500, 'perk1var3': 0, 'perk2': 9103, 'perk2var1': 24, 'perk2var2': 0, 'perk2var3': 0, 'perk3': 8017, 'perk3var1': 917, 'perk3var2': 0, 'perk3var3': 0, 'perk4': 8236, 'perk4var1': 14, 'perk4var2': 0, 'perk4var3': 0, 'perk5': 8234, 'perk5var1': 10260, 'perk5var2': 0, 'perk5var3': 0, 'perkprimarystyle': 8000, 'perksubstyle': 8200, 'longesttimespentliving': 728, 'statperk0': 5005, 'statperk1': 5008, 'statperk2': 5002}, 'participantid': 10, 'timeline': {'lane': 'BOTTOM', 'participantid': 10, 'csdiffpermindeltas': {'10-20': -0.2, '0-10': 0.45}, 'goldpermindeltas': {'10-20': 448.6, '0-10': 301.9}, 'xpdiffpermindeltas': {'10-20': -93.75, '0-10': -6.45}, 'creepspermindeltas': {'10-20': 7.6, '0-10': 7.8}, 'xppermindeltas': {'10-20': 433.6, '0-10': 318.1}, 'role': 'DUO_CARRY', 'damagetakendiffpermindeltas': {'10-20': -63.1, '0-10': -16.75}, 'damagetakenpermindeltas': {'10-20': 620.3, '0-10': 246.4}}, 'teamid': 200, 'spell2id': 7, 'spell1id': 4, 'championid': 21}]\n",
            "gameduration : 1514\n",
            "gamecreation : 1599158094\n",
            "participantextendedstats : [{'participantid': 1, 'position': 'MID', 'tier': 'DIAMOND', 'tierrank': 'II', 'leaguepoints': 33}, {'participantid': 2, 'position': 'SUPPORT', 'tier': 'DIAMOND', 'tierrank': 'III', 'leaguepoints': 75}, {'participantid': 3, 'position': 'TOP', 'tier': 'DIAMOND', 'tierrank': 'III', 'leaguepoints': 100}, {'participantid': 4, 'position': 'JUNGLE', 'tier': 'DIAMOND', 'tierrank': 'III', 'leaguepoints': 83}, {'participantid': 5, 'position': 'ADC', 'tier': 'DIAMOND', 'tierrank': 'II', 'leaguepoints': 63}, {'participantid': 6, 'position': 'TOP', 'tier': 'DIAMOND', 'tierrank': 'II', 'leaguepoints': 32}, {'participantid': 7, 'position': 'JUNGLE', 'tier': 'DIAMOND', 'tierrank': 'II', 'leaguepoints': 90}, {'participantid': 8, 'position': 'MID', 'tier': 'DIAMOND', 'tierrank': 'II', 'leaguepoints': 44}, {'participantid': 9, 'position': 'SUPPORT', 'tier': 'DIAMOND', 'tierrank': 'II', 'leaguepoints': 57}, {'participantid': 10, 'position': 'ADC', 'tier': 'DIAMOND', 'tierrank': 'III', 'leaguepoints': 100}]\n"
          ],
          "name": "stdout"
        }
      ]
    },
    {
      "cell_type": "code",
      "metadata": {
        "id": "CCXZKFm9yxK7"
      },
      "source": [
        "# 데이터에서 활용 가능한 키는 gameid, participantidentities, teams, participants, gameduration, gamecreation, participantextendedstats이다."
      ],
      "execution_count": 15,
      "outputs": []
    },
    {
      "cell_type": "code",
      "metadata": {
        "id": "GzlHkITVVuHk"
      },
      "source": [
        "# 나타낸 데이터 중 list 형태이거나 dictionary 형태인 데이터는 따로 출력하여 분석한다."
      ],
      "execution_count": 16,
      "outputs": []
    },
    {
      "cell_type": "code",
      "metadata": {
        "colab": {
          "base_uri": "https://localhost:8080/"
        },
        "id": "OMJQbepedV8Y",
        "outputId": "db745360-32e3-415c-c0ab-65c46ed29636"
      },
      "source": [
        "# participantidentities 키의 값을 호출하여 데이터가 어떤 내용을 담고 있는지 분석한다.\n",
        "\n",
        "for i in data['participantidentities']:\n",
        "  print(i)"
      ],
      "execution_count": 17,
      "outputs": [
        {
          "output_type": "stream",
          "text": [
            "{'player': {'currentplatformid': 'KR', 'matchhistoryuri': '/v1/stats/player_history/KR/2384460278402912', 'platformid': 'KR', 'profileicon': 23, 'summonerid': 'PF7wuKbEjIH7bUEivDRsJbiah9EF9EzRPO-LFLucLai7avA'}, 'participantid': 1}\n",
            "{'player': {'currentplatformid': 'KR', 'matchhistoryuri': '/v1/stats/player_history/KR/206928168', 'platformid': 'KR', 'profileicon': 4568, 'summonerid': 'JRuCiFpuzcsnQ9Gadn5A_0bm66-PrFaA3WKP5juhgetrx3Y'}, 'participantid': 2}\n",
            "{'player': {'currentplatformid': 'KR', 'matchhistoryuri': '/v1/stats/player_history/KR/2481287071728960', 'platformid': 'KR', 'profileicon': 7, 'summonerid': 'o5ZjlQkLgDZzDG_dkT0GVL7X34kp51abqkUN6P7K2WPeY1dy'}, 'participantid': 3}\n",
            "{'player': {'currentplatformid': 'KR', 'matchhistoryuri': '/v1/stats/player_history/KR/3380059', 'platformid': 'KR', 'profileicon': 4236, 'summonerid': 'TUdiT-gEHdtkmr9JkhqvtNy5L_nutzsw2oH23kgO71NSsA'}, 'participantid': 4}\n",
            "{'player': {'currentplatformid': 'KR', 'matchhistoryuri': '/v1/stats/player_history/KR/2478293106361536', 'platformid': 'KR', 'profileicon': 4629, 'summonerid': 'qmcY1AJTdznK_aTgW2e1qwCY1uwbam9HU09Wsa7nI9Wt5sYQ'}, 'participantid': 5}\n",
            "{'player': {'currentplatformid': 'KR', 'matchhistoryuri': '/v1/stats/player_history/KR/206082506', 'platformid': 'KR', 'profileicon': 3507, 'summonerid': 'aVkF6jW3XX09jGt89jlrksun1mjDSPDGgaG6aMerUoJHsZw'}, 'participantid': 6}\n",
            "{'player': {'currentplatformid': 'KR', 'matchhistoryuri': '/v1/stats/player_history/KR/208199342', 'platformid': 'KR', 'profileicon': 7, 'summonerid': 'NdcS9dgPtAbN_Vb_o6dXQGrK6sX_1Ne2rcVfhSenZMfytjs'}, 'participantid': 7}\n",
            "{'player': {'currentplatformid': 'KR', 'matchhistoryuri': '/v1/stats/player_history/KR/2413955723586816', 'platformid': 'KR', 'profileicon': 4653, 'summonerid': 'tFNs6Vhs0xyWMh8_9A9Lx3MwfKqBSWjaHM3hP7miUQSH46A'}, 'participantid': 8}\n",
            "{'player': {'currentplatformid': 'KR', 'matchhistoryuri': '/v1/stats/player_history/kr/210499367', 'platformid': 'kr', 'profileicon': 3790, 'summonerid': 'oZOstqygth7G6p98xlcllvatNasCsluMixZhQYQ8WJnoDtA'}, 'participantid': 9}\n",
            "{'player': {'currentplatformid': 'KR', 'matchhistoryuri': '/v1/stats/player_history/KR/206929328', 'platformid': 'KR', 'profileicon': 4666, 'summonerid': 'ELOByFaP_AyaYWEYTvcrUQF0X43qvrJWYK-nWKCEtbCwB_c'}, 'participantid': 10}\n"
          ],
          "name": "stdout"
        }
      ]
    },
    {
      "cell_type": "code",
      "metadata": {
        "colab": {
          "base_uri": "https://localhost:8080/"
        },
        "id": "aIsTk0mdVZUZ",
        "outputId": "f1a09cd1-68c8-44d3-f89f-c5e960bde1d3"
      },
      "source": [
        "# participantidentities의 값을 보다 더 잘 살피기 위해 첫 참가자의 내용만 가져온다.\n",
        "# 이중에서 유의미한 변수는 소환사 아이디와 참가 아이디이다.\n",
        "\n",
        "for i in list(data['participantidentities'][0]['player'].keys()):\n",
        "  print(i, ':', data['participantidentities'][0]['player'][i])"
      ],
      "execution_count": 18,
      "outputs": [
        {
          "output_type": "stream",
          "text": [
            "currentplatformid : KR\n",
            "matchhistoryuri : /v1/stats/player_history/KR/2384460278402912\n",
            "platformid : KR\n",
            "profileicon : 23\n",
            "summonerid : PF7wuKbEjIH7bUEivDRsJbiah9EF9EzRPO-LFLucLai7avA\n"
          ],
          "name": "stdout"
        }
      ]
    },
    {
      "cell_type": "code",
      "metadata": {
        "colab": {
          "base_uri": "https://localhost:8080/"
        },
        "id": "RwWrUXsAdkc4",
        "outputId": "08b8d192-7d61-4f55-afa6-f302329b672d"
      },
      "source": [
        "# teams 키의 값을 호출하여 데이터가 어떤 내용을 담고 있는지 분석한다.\n",
        "\n",
        "for i in data['teams']:\n",
        "  print(i)"
      ],
      "execution_count": 19,
      "outputs": [
        {
          "output_type": "stream",
          "text": [
            "{'firstdragon': False, 'firstinhibitor': False, 'bans': [{'pickturn': 1, 'championid': 104}, {'pickturn': 2, 'championid': 51}, {'pickturn': 3, 'championid': 58}, {'pickturn': 4, 'championid': 80}, {'pickturn': 5, 'championid': 777}], 'baronkills': 0, 'firstriftherald': True, 'firstbaron': False, 'riftheraldkills': 2, 'firstblood': True, 'teamid': 100, 'firsttower': True, 'vilemawkills': 0, 'inhibitorkills': 0, 'towerkills': 2, 'dominionvictoryscore': 0, 'win': 'Fail', 'dragonkills': 1}\n",
            "{'firstdragon': True, 'firstinhibitor': False, 'bans': [{'pickturn': 6, 'championid': 120}, {'pickturn': 7, 'championid': 104}, {'pickturn': 8, 'championid': 236}, {'pickturn': 9, 'championid': 89}, {'pickturn': 10, 'championid': 245}], 'baronkills': 1, 'firstriftherald': False, 'firstbaron': True, 'riftheraldkills': 0, 'firstblood': False, 'teamid': 200, 'firsttower': False, 'vilemawkills': 0, 'inhibitorkills': 0, 'towerkills': 5, 'dominionvictoryscore': 0, 'win': 'Win', 'dragonkills': 2}\n"
          ],
          "name": "stdout"
        }
      ]
    },
    {
      "cell_type": "code",
      "metadata": {
        "colab": {
          "base_uri": "https://localhost:8080/"
        },
        "id": "hXH7verhV4OH",
        "outputId": "3ca4e430-d597-4de0-c338-c6ed7cf7cdb7"
      },
      "source": [
        "# teams 값을 보다 더 잘 살피기 위해 첫 참가자의 내용만 가져온다.\n",
        "# 이중에서 유의미한 변수는 밴과 팀아이디, 승리여부, 파괴한 억제기의 수이다.\n",
        "\n",
        "for i in list(data['teams'][0].keys()):\n",
        "  if type(data['teams'][0][i]) == list:\n",
        "    print(i, ':')\n",
        "    for j in data['teams'][0][i]:\n",
        "      print('\\t',j)\n",
        "  else:\n",
        "    print(i, ':', data['teams'][0][i])"
      ],
      "execution_count": 20,
      "outputs": [
        {
          "output_type": "stream",
          "text": [
            "firstdragon : False\n",
            "firstinhibitor : False\n",
            "bans :\n",
            "\t {'pickturn': 1, 'championid': 104}\n",
            "\t {'pickturn': 2, 'championid': 51}\n",
            "\t {'pickturn': 3, 'championid': 58}\n",
            "\t {'pickturn': 4, 'championid': 80}\n",
            "\t {'pickturn': 5, 'championid': 777}\n",
            "baronkills : 0\n",
            "firstriftherald : True\n",
            "firstbaron : False\n",
            "riftheraldkills : 2\n",
            "firstblood : True\n",
            "teamid : 100\n",
            "firsttower : True\n",
            "vilemawkills : 0\n",
            "inhibitorkills : 0\n",
            "towerkills : 2\n",
            "dominionvictoryscore : 0\n",
            "win : Fail\n",
            "dragonkills : 1\n"
          ],
          "name": "stdout"
        }
      ]
    },
    {
      "cell_type": "code",
      "metadata": {
        "colab": {
          "base_uri": "https://localhost:8080/"
        },
        "id": "wCs_q04weXM7",
        "outputId": "0a7dd97c-7396-463b-be9d-597ce3bcee87"
      },
      "source": [
        "# participants 키의 값을 호출하여 데이터가 어떤 내용을 담고 있는지 분석한다.\n",
        "\n",
        "for i in data['participants']:\n",
        "  print(i)"
      ],
      "execution_count": 21,
      "outputs": [
        {
          "output_type": "stream",
          "text": [
            "{'stats': {'physicaldamagedealt': 14561, 'neutralminionskilledteamjungle': 11, 'magicdamagedealt': 54201, 'totalplayerscore': 0, 'deaths': 3, 'win': False, 'neutralminionskilledenemyjungle': 0, 'largestcriticalstrike': 0, 'totaldamagedealt': 70392, 'magicdamagedealttochampions': 14450, 'visionwardsboughtingame': 0, 'damagedealttoobjectives': 8413, 'largestkillingspree': 2, 'item1': 3003, 'quadrakills': 0, 'totaltimecrowdcontroldealt': 108, 'wardskilled': 7, 'firsttowerassist': False, 'firsttowerkill': False, 'item2': 2421, 'item3': 3020, 'item0': 1054, 'firstbloodassist': False, 'visionscore': 20, 'wardsplaced': 4, 'item4': 3027, 'item5': 0, 'item6': 3364, 'turretkills': 0, 'triplekills': 0, 'damageselfmitigated': 13394, 'champlevel': 13, 'goldearned': 9063, 'magicaldamagetaken': 8731, 'kills': 4, 'doublekills': 0, 'truedamagetaken': 1439, 'assists': 9, 'unrealkills': 0, 'neutralminionskilled': 15, 'objectiveplayerscore': 0, 'combatplayerscore': 0, 'damagedealttoturrets': 1657, 'physicaldamagedealttochampions': 1253, 'goldspent': 8050, 'truedamagedealt': 1629, 'truedamagedealttochampions': 204, 'participantid': 1, 'pentakills': 0, 'totalheal': 7508, 'totalminionskilled': 134, 'firstbloodkill': False, 'largestmultikill': 1, 'sightwardsboughtingame': 0, 'totaldamagedealttochampions': 15908, 'totalunitshealed': 1, 'inhibitorkills': 0, 'totalscorerank': 0, 'totaldamagetaken': 23238, 'killingsprees': 1, 'timeccingothers': 13, 'physicaldamagetaken': 13068, 'perk0': 8021, 'perk0var1': 2306, 'perk0var2': 0, 'perk0var3': 0, 'perk1': 8009, 'perk1var1': 4824, 'perk1var2': 500, 'perk1var3': 0, 'perk2': 9105, 'perk2var1': 17, 'perk2var2': 0, 'perk2var3': 0, 'perk3': 8014, 'perk3var1': 316, 'perk3var2': 0, 'perk3var3': 0, 'perk4': 8139, 'perk4var1': 629, 'perk4var2': 0, 'perk4var3': 0, 'perk5': 8135, 'perk5var1': 2101, 'perk5var2': 5, 'perk5var3': 0, 'perkprimarystyle': 8000, 'perksubstyle': 8100, 'longesttimespentliving': 942, 'statperk0': 5008, 'statperk1': 5008, 'statperk2': 5003}, 'participantid': 1, 'timeline': {'lane': 'MIDDLE', 'participantid': 1, 'csdiffpermindeltas': {'10-20': -0.8, '0-10': -0.1}, 'goldpermindeltas': {'10-20': 386.6, '0-10': 301.8}, 'xpdiffpermindeltas': {'10-20': -3.4, '0-10': -19.7}, 'creepspermindeltas': {'10-20': 5.4, '0-10': 7.9}, 'xppermindeltas': {'10-20': 400.1, '0-10': 434.8}, 'role': 'SOLO', 'damagetakendiffpermindeltas': {'10-20': 139.3, '0-10': 147.7}, 'damagetakenpermindeltas': {'10-20': 1033.8, '0-10': 317.3}}, 'teamid': 100, 'spell2id': 12, 'spell1id': 4, 'championid': 38}\n",
            "{'stats': {'physicaldamagedealt': 3704, 'neutralminionskilledteamjungle': 0, 'magicdamagedealt': 5015, 'totalplayerscore': 0, 'deaths': 7, 'win': False, 'neutralminionskilledenemyjungle': 0, 'largestcriticalstrike': 0, 'totaldamagedealt': 14066, 'magicdamagedealttochampions': 3730, 'visionwardsboughtingame': 3, 'damagedealttoobjectives': 3250, 'largestkillingspree': 2, 'item1': 3109, 'quadrakills': 0, 'totaltimecrowdcontroldealt': 83, 'wardskilled': 7, 'firsttowerassist': False, 'firsttowerkill': False, 'item2': 3859, 'item3': 0, 'item0': 2065, 'firstbloodassist': False, 'visionscore': 58, 'wardsplaced': 29, 'item4': 0, 'item5': 3117, 'item6': 3364, 'turretkills': 0, 'triplekills': 0, 'damageselfmitigated': 16913, 'champlevel': 11, 'goldearned': 7032, 'magicaldamagetaken': 7670, 'kills': 3, 'doublekills': 0, 'truedamagetaken': 1281, 'assists': 12, 'unrealkills': 0, 'neutralminionskilled': 0, 'objectiveplayerscore': 0, 'combatplayerscore': 0, 'damagedealttoturrets': 0, 'physicaldamagedealttochampions': 1152, 'goldspent': 5975, 'truedamagedealt': 5345, 'truedamagedealttochampions': 587, 'participantid': 2, 'pentakills': 0, 'totalheal': 2962, 'totalminionskilled': 23, 'firstbloodkill': False, 'largestmultikill': 1, 'sightwardsboughtingame': 0, 'totaldamagedealttochampions': 5469, 'totalunitshealed': 5, 'inhibitorkills': 0, 'totalscorerank': 0, 'totaldamagetaken': 18367, 'killingsprees': 1, 'timeccingothers': 22, 'physicaldamagetaken': 9414, 'perk0': 8465, 'perk0var1': 3196, 'perk0var2': 0, 'perk0var3': 0, 'perk1': 8463, 'perk1var1': 659, 'perk1var2': 0, 'perk1var3': 0, 'perk2': 8444, 'perk2var1': 775, 'perk2var2': 0, 'perk2var3': 0, 'perk3': 8453, 'perk3var1': 322, 'perk3var2': 482, 'perk3var3': 0, 'perk4': 8106, 'perk4var1': 5, 'perk4var2': 0, 'perk4var3': 0, 'perk5': 8136, 'perk5var1': 11, 'perk5var2': 30, 'perk5var3': 0, 'perkprimarystyle': 8400, 'perksubstyle': 8100, 'longesttimespentliving': 617, 'statperk0': 5007, 'statperk1': 5003, 'statperk2': 5002}, 'participantid': 2, 'timeline': {'lane': 'BOTTOM', 'participantid': 2, 'csdiffpermindeltas': {'10-20': 0.2, '0-10': -0.45}, 'goldpermindeltas': {'10-20': 288.2, '0-10': 249.2}, 'xpdiffpermindeltas': {'10-20': 93.75, '0-10': 6.45}, 'creepspermindeltas': {'10-20': 1.1, '0-10': 1}, 'xppermindeltas': {'10-20': 312.7, '0-10': 222.1}, 'role': 'DUO_SUPPORT', 'damagetakendiffpermindeltas': {'10-20': 63.1, '0-10': 16.75}, 'damagetakenpermindeltas': {'10-20': 824.1, '0-10': 284.1}}, 'teamid': 100, 'spell2id': 4, 'spell1id': 14, 'championid': 497}\n",
            "{'stats': {'physicaldamagedealt': 73712, 'neutralminionskilledteamjungle': 0, 'magicdamagedealt': 1359, 'totalplayerscore': 0, 'deaths': 6, 'win': False, 'neutralminionskilledenemyjungle': 0, 'largestcriticalstrike': 0, 'totaldamagedealt': 89119, 'magicdamagedealttochampions': 1359, 'visionwardsboughtingame': 1, 'damagedealttoobjectives': 8305, 'largestkillingspree': 4, 'item1': 3105, 'quadrakills': 0, 'totaltimecrowdcontroldealt': 168, 'wardskilled': 0, 'firsttowerassist': False, 'firsttowerkill': False, 'item2': 3078, 'item3': 3158, 'item0': 1055, 'firstbloodassist': False, 'visionscore': 16, 'wardsplaced': 6, 'item4': 1036, 'item5': 3074, 'item6': 3340, 'turretkills': 1, 'triplekills': 0, 'damageselfmitigated': 23139, 'champlevel': 13, 'goldearned': 10692, 'magicaldamagetaken': 7015, 'kills': 8, 'doublekills': 1, 'truedamagetaken': 3807, 'assists': 4, 'unrealkills': 0, 'neutralminionskilled': 4, 'objectiveplayerscore': 0, 'combatplayerscore': 0, 'damagedealttoturrets': 2741, 'physicaldamagedealttochampions': 15219, 'goldspent': 10508, 'truedamagedealt': 14047, 'truedamagedealttochampions': 5467, 'participantid': 3, 'pentakills': 0, 'totalheal': 1837, 'totalminionskilled': 129, 'firstbloodkill': True, 'largestmultikill': 2, 'sightwardsboughtingame': 0, 'totaldamagedealttochampions': 22046, 'totalunitshealed': 1, 'inhibitorkills': 0, 'totalscorerank': 0, 'totaldamagetaken': 29863, 'killingsprees': 2, 'timeccingothers': 13, 'physicaldamagetaken': 19040, 'perk0': 8437, 'perk0var1': 829, 'perk0var2': 595, 'perk0var3': 0, 'perk1': 8401, 'perk1var1': 923, 'perk1var2': 0, 'perk1var3': 0, 'perk2': 8444, 'perk2var1': 1478, 'perk2var2': 0, 'perk2var3': 0, 'perk3': 8451, 'perk3var1': 145, 'perk3var2': 0, 'perk3var3': 0, 'perk4': 8304, 'perk4var1': 9, 'perk4var2': 4, 'perk4var3': 5, 'perk5': 8345, 'perk5var1': 3, 'perk5var2': 0, 'perk5var3': 0, 'perkprimarystyle': 8400, 'perksubstyle': 8300, 'longesttimespentliving': 819, 'statperk0': 5005, 'statperk1': 5008, 'statperk2': 5002}, 'participantid': 3, 'timeline': {'lane': 'TOP', 'participantid': 3, 'csdiffpermindeltas': {'10-20': -1.8, '0-10': -0.2}, 'goldpermindeltas': {'10-20': 566.7, '0-10': 315.3}, 'xpdiffpermindeltas': {'10-20': -51, '0-10': 47.7}, 'creepspermindeltas': {'10-20': 6.2, '0-10': 6.4}, 'xppermindeltas': {'10-20': 545.3, '0-10': 457.9}, 'role': 'SOLO', 'damagetakendiffpermindeltas': {'10-20': 277.8, '0-10': -110}, 'damagetakenpermindeltas': {'10-20': 1363.6, '0-10': 641.2}}, 'teamid': 100, 'spell2id': 12, 'spell1id': 4, 'championid': 164}\n",
            "{'stats': {'physicaldamagedealt': 82341, 'neutralminionskilledteamjungle': 87, 'magicdamagedealt': 33008, 'totalplayerscore': 0, 'deaths': 9, 'win': False, 'neutralminionskilledenemyjungle': 4, 'largestcriticalstrike': 0, 'totaldamagedealt': 129234, 'magicdamagedealttochampions': 3892, 'visionwardsboughtingame': 3, 'damagedealttoobjectives': 17285, 'largestkillingspree': 0, 'item1': 3748, 'quadrakills': 0, 'totaltimecrowdcontroldealt': 186, 'wardskilled': 4, 'firsttowerassist': False, 'firsttowerkill': False, 'item2': 2055, 'item3': 1028, 'item0': 1413, 'firstbloodassist': False, 'visionscore': 19, 'wardsplaced': 3, 'item4': 3009, 'item5': 1029, 'item6': 3364, 'turretkills': 1, 'triplekills': 0, 'damageselfmitigated': 16768, 'champlevel': 12, 'goldearned': 8167, 'magicaldamagetaken': 8862, 'kills': 2, 'doublekills': 0, 'truedamagetaken': 2254, 'assists': 7, 'unrealkills': 0, 'neutralminionskilled': 111, 'objectiveplayerscore': 0, 'combatplayerscore': 0, 'damagedealttoturrets': 580, 'physicaldamagedealttochampions': 3029, 'goldspent': 7825, 'truedamagedealt': 13884, 'truedamagedealttochampions': 386, 'participantid': 4, 'pentakills': 0, 'totalheal': 13310, 'totalminionskilled': 31, 'firstbloodkill': False, 'largestmultikill': 1, 'sightwardsboughtingame': 0, 'totaldamagedealttochampions': 7308, 'totalunitshealed': 1, 'inhibitorkills': 0, 'totalscorerank': 0, 'totaldamagetaken': 30215, 'killingsprees': 0, 'timeccingothers': 17, 'physicaldamagetaken': 19098, 'perk0': 8005, 'perk0var1': 829, 'perk0var2': 427, 'perk0var3': 402, 'perk1': 9111, 'perk1var1': 332, 'perk1var2': 180, 'perk1var3': 0, 'perk2': 9105, 'perk2var1': 14, 'perk2var2': 30, 'perk2var3': 0, 'perk3': 8299, 'perk3var1': 211, 'perk3var2': 0, 'perk3var3': 0, 'perk4': 8234, 'perk4var1': 10068, 'perk4var2': 0, 'perk4var3': 0, 'perk5': 8232, 'perk5var1': 4, 'perk5var2': 50, 'perk5var3': 0, 'perkprimarystyle': 8000, 'perksubstyle': 8200, 'longesttimespentliving': 309, 'statperk0': 5005, 'statperk1': 5008, 'statperk2': 5002}, 'participantid': 4, 'timeline': {'lane': 'JUNGLE', 'participantid': 4, 'csdiffpermindeltas': {'10-20': -0.6, '0-10': 0.5}, 'goldpermindeltas': {'10-20': 390.2, '0-10': 235.3}, 'xpdiffpermindeltas': {'10-20': -24.7, '0-10': -82.9}, 'creepspermindeltas': {'10-20': 0.7, '0-10': 0.5}, 'xppermindeltas': {'10-20': 459.7, '0-10': 273.3}, 'role': 'NONE', 'damagetakendiffpermindeltas': {'10-20': 222.9, '0-10': -84.6}, 'damagetakenpermindeltas': {'10-20': 1418.9, '0-10': 738.8}}, 'teamid': 100, 'spell2id': 4, 'spell1id': 11, 'championid': 19}\n",
            "{'stats': {'physicaldamagedealt': 95118, 'neutralminionskilledteamjungle': 12, 'magicdamagedealt': 9692, 'totalplayerscore': 0, 'deaths': 3, 'win': False, 'neutralminionskilledenemyjungle': 0, 'largestcriticalstrike': 499, 'totaldamagedealt': 106915, 'magicdamagedealttochampions': 5394, 'visionwardsboughtingame': 0, 'damagedealttoobjectives': 4834, 'largestkillingspree': 6, 'item1': 1052, 'quadrakills': 0, 'totaltimecrowdcontroldealt': 14, 'wardskilled': 5, 'firsttowerassist': False, 'firsttowerkill': False, 'item2': 3134, 'item3': 3508, 'item0': 1055, 'firstbloodassist': False, 'visionscore': 23, 'wardsplaced': 8, 'item4': 3006, 'item5': 3115, 'item6': 3363, 'turretkills': 0, 'triplekills': 0, 'damageselfmitigated': 8360, 'champlevel': 13, 'goldearned': 10777, 'magicaldamagetaken': 5827, 'kills': 9, 'doublekills': 0, 'truedamagetaken': 932, 'assists': 5, 'unrealkills': 0, 'neutralminionskilled': 16, 'objectiveplayerscore': 0, 'combatplayerscore': 0, 'damagedealttoturrets': 0, 'physicaldamagedealttochampions': 12381, 'goldspent': 9585, 'truedamagedealt': 2103, 'truedamagedealttochampions': 539, 'participantid': 5, 'pentakills': 0, 'totalheal': 2328, 'totalminionskilled': 174, 'firstbloodkill': False, 'largestmultikill': 1, 'sightwardsboughtingame': 0, 'totaldamagedealttochampions': 18316, 'totalunitshealed': 1, 'inhibitorkills': 0, 'totalscorerank': 0, 'totaldamagetaken': 14532, 'killingsprees': 2, 'timeccingothers': 1, 'physicaldamagetaken': 7772, 'perk0': 9923, 'perk0var1': 55, 'perk0var2': 76, 'perk0var3': 0, 'perk1': 8139, 'perk1var1': 917, 'perk1var2': 0, 'perk1var3': 0, 'perk2': 8138, 'perk2var1': 18, 'perk2var2': 0, 'perk2var3': 0, 'perk3': 8135, 'perk3var1': 1857, 'perk3var2': 5, 'perk3var3': 0, 'perk4': 8009, 'perk4var1': 2757, 'perk4var2': 500, 'perk4var3': 0, 'perk5': 9103, 'perk5var1': 24, 'perk5var2': 40, 'perk5var3': 0, 'perkprimarystyle': 8100, 'perksubstyle': 8000, 'longesttimespentliving': 777, 'statperk0': 5005, 'statperk1': 5008, 'statperk2': 5002}, 'participantid': 5, 'timeline': {'lane': 'BOTTOM', 'participantid': 5, 'csdiffpermindeltas': {'10-20': 0.2, '0-10': -0.45}, 'goldpermindeltas': {'10-20': 500.9, '0-10': 289.1}, 'xpdiffpermindeltas': {'10-20': 93.75, '0-10': 6.45}, 'creepspermindeltas': {'10-20': 8.2, '0-10': 7.1}, 'xppermindeltas': {'10-20': 573.8, '0-10': 342.7}, 'role': 'DUO_CARRY', 'damagetakendiffpermindeltas': {'10-20': 63.1, '0-10': 16.75}, 'damagetakenpermindeltas': {'10-20': 568.3, '0-10': 343.1}}, 'teamid': 100, 'spell2id': 4, 'spell1id': 1, 'championid': 145}\n",
            "{'stats': {'physicaldamagedealt': 119854, 'neutralminionskilledteamjungle': 8, 'magicdamagedealt': 1643, 'totalplayerscore': 0, 'deaths': 8, 'win': True, 'neutralminionskilledenemyjungle': 6, 'largestcriticalstrike': 530, 'totaldamagedealt': 128604, 'magicdamagedealttochampions': 901, 'visionwardsboughtingame': 0, 'damagedealttoobjectives': 13208, 'largestkillingspree': 2, 'item1': 3078, 'quadrakills': 0, 'totaltimecrowdcontroldealt': 116, 'wardskilled': 2, 'firsttowerassist': False, 'firsttowerkill': False, 'item2': 3074, 'item3': 0, 'item0': 3812, 'firstbloodassist': False, 'visionscore': 10, 'wardsplaced': 7, 'item4': 1029, 'item5': 2422, 'item6': 3340, 'turretkills': 2, 'triplekills': 0, 'damageselfmitigated': 27078, 'champlevel': 14, 'goldearned': 12727, 'magicaldamagetaken': 5383, 'kills': 7, 'doublekills': 2, 'truedamagetaken': 4957, 'assists': 10, 'unrealkills': 0, 'neutralminionskilled': 20, 'objectiveplayerscore': 0, 'combatplayerscore': 0, 'damagedealttoturrets': 5877, 'physicaldamagedealttochampions': 19213, 'goldspent': 12413, 'truedamagedealt': 7106, 'truedamagedealttochampions': 3484, 'participantid': 6, 'pentakills': 0, 'totalheal': 9648, 'totalminionskilled': 150, 'firstbloodkill': False, 'largestmultikill': 2, 'sightwardsboughtingame': 0, 'totaldamagedealttochampions': 23599, 'totalunitshealed': 4, 'inhibitorkills': 0, 'totalscorerank': 0, 'totaldamagetaken': 33083, 'killingsprees': 3, 'timeccingothers': 10, 'physicaldamagetaken': 22741, 'perk0': 8010, 'perk0var1': 1652, 'perk0var2': 0, 'perk0var3': 0, 'perk1': 9111, 'perk1var1': 815, 'perk1var2': 340, 'perk1var3': 0, 'perk2': 9104, 'perk2var1': 17, 'perk2var2': 20, 'perk2var3': 0, 'perk3': 8299, 'perk3var1': 1035, 'perk3var2': 0, 'perk3var3': 0, 'perk4': 8304, 'perk4var1': 9, 'perk4var2': 4, 'perk4var3': 5, 'perk5': 8345, 'perk5var1': 3, 'perk5var2': 0, 'perk5var3': 0, 'perkprimarystyle': 8000, 'perksubstyle': 8300, 'longesttimespentliving': 460, 'statperk0': 5005, 'statperk1': 5008, 'statperk2': 5002}, 'participantid': 6, 'timeline': {'lane': 'TOP', 'participantid': 6, 'csdiffpermindeltas': {'10-20': 1.8, '0-10': 0.2}, 'goldpermindeltas': {'10-20': 548.8, '0-10': 311.6}, 'xpdiffpermindeltas': {'10-20': 51, '0-10': -47.7}, 'creepspermindeltas': {'10-20': 8, '0-10': 6.6}, 'xppermindeltas': {'10-20': 596.3, '0-10': 410.2}, 'role': 'SOLO', 'damagetakendiffpermindeltas': {'10-20': -277.8, '0-10': 110}, 'damagetakenpermindeltas': {'10-20': 1085.8, '0-10': 751.2}}, 'teamid': 200, 'spell2id': 4, 'spell1id': 12, 'championid': 114}\n",
            "{'stats': {'physicaldamagedealt': 19367, 'neutralminionskilledteamjungle': 112, 'magicdamagedealt': 95667, 'totalplayerscore': 0, 'deaths': 7, 'win': True, 'neutralminionskilledenemyjungle': 1, 'largestcriticalstrike': 0, 'totaldamagedealt': 144449, 'magicdamagedealttochampions': 12515, 'visionwardsboughtingame': 3, 'damagedealttoobjectives': 9793, 'largestkillingspree': 2, 'item1': 2031, 'quadrakills': 0, 'totaltimecrowdcontroldealt': 358, 'wardskilled': 1, 'firsttowerassist': False, 'firsttowerkill': False, 'item2': 3157, 'item3': 3151, 'item0': 1052, 'firstbloodassist': False, 'visionscore': 15, 'wardsplaced': 4, 'item4': 3009, 'item5': 1402, 'item6': 3364, 'turretkills': 0, 'triplekills': 0, 'damageselfmitigated': 10616, 'champlevel': 13, 'goldearned': 10383, 'magicaldamagetaken': 9207, 'kills': 6, 'doublekills': 1, 'truedamagetaken': 1303, 'assists': 14, 'unrealkills': 0, 'neutralminionskilled': 138, 'objectiveplayerscore': 0, 'combatplayerscore': 0, 'damagedealttoturrets': 430, 'physicaldamagedealttochampions': 534, 'goldspent': 10210, 'truedamagedealt': 29414, 'truedamagedealttochampions': 5028, 'participantid': 7, 'pentakills': 0, 'totalheal': 9816, 'totalminionskilled': 13, 'firstbloodkill': False, 'largestmultikill': 2, 'sightwardsboughtingame': 0, 'totaldamagedealttochampions': 18079, 'totalunitshealed': 1, 'inhibitorkills': 0, 'totalscorerank': 0, 'totaldamagetaken': 26769, 'killingsprees': 1, 'timeccingothers': 26, 'physicaldamagetaken': 16257, 'perk0': 8230, 'perk0var1': 14, 'perk0var2': 0, 'perk0var3': 0, 'perk1': 8275, 'perk1var1': 19, 'perk1var2': 0, 'perk1var3': 0, 'perk2': 8234, 'perk2var1': 15224, 'perk2var2': 0, 'perk2var3': 0, 'perk3': 8232, 'perk3var1': 3, 'perk3var2': 20, 'perk3var3': 0, 'perk4': 8126, 'perk4var1': 810, 'perk4var2': 0, 'perk4var3': 0, 'perk5': 8135, 'perk5var1': 5315, 'perk5var2': 5, 'perk5var3': 0, 'perkprimarystyle': 8200, 'perksubstyle': 8100, 'longesttimespentliving': 364, 'statperk0': 5007, 'statperk1': 5008, 'statperk2': 5002}, 'participantid': 7, 'timeline': {'lane': 'JUNGLE', 'participantid': 7, 'csdiffpermindeltas': {'10-20': 0.6, '0-10': -0.5}, 'goldpermindeltas': {'10-20': 393.9, '0-10': 359.2}, 'xpdiffpermindeltas': {'10-20': 24.7, '0-10': 82.9}, 'creepspermindeltas': {'10-20': 1.3, '0-10': 0}, 'xppermindeltas': {'10-20': 484.4, '0-10': 356.2}, 'role': 'NONE', 'damagetakendiffpermindeltas': {'10-20': -222.9, '0-10': 84.6}, 'damagetakenpermindeltas': {'10-20': 1196, '0-10': 823.4}}, 'teamid': 200, 'spell2id': 4, 'spell1id': 11, 'championid': 876}\n",
            "{'stats': {'physicaldamagedealt': 12596, 'neutralminionskilledteamjungle': 0, 'magicdamagedealt': 69548, 'totalplayerscore': 0, 'deaths': 4, 'win': True, 'neutralminionskilledenemyjungle': 0, 'largestcriticalstrike': 0, 'totaldamagedealt': 87186, 'magicdamagedealttochampions': 13447, 'visionwardsboughtingame': 3, 'damagedealttoobjectives': 5582, 'largestkillingspree': 2, 'item1': 3157, 'quadrakills': 0, 'totaltimecrowdcontroldealt': 73, 'wardskilled': 2, 'firsttowerassist': False, 'firsttowerkill': False, 'item2': 3027, 'item3': 3111, 'item0': 3100, 'firstbloodassist': False, 'visionscore': 20, 'wardsplaced': 10, 'item4': 0, 'item5': 0, 'item6': 3340, 'turretkills': 0, 'triplekills': 0, 'damageselfmitigated': 9446, 'champlevel': 13, 'goldearned': 10369, 'magicaldamagetaken': 10030, 'kills': 5, 'doublekills': 0, 'truedamagetaken': 438, 'assists': 12, 'unrealkills': 0, 'neutralminionskilled': 4, 'objectiveplayerscore': 0, 'combatplayerscore': 0, 'damagedealttoturrets': 2731, 'physicaldamagedealttochampions': 2558, 'goldspent': 10200, 'truedamagedealt': 5042, 'truedamagedealttochampions': 38, 'participantid': 8, 'pentakills': 0, 'totalheal': 4488, 'totalminionskilled': 146, 'firstbloodkill': False, 'largestmultikill': 1, 'sightwardsboughtingame': 0, 'totaldamagedealttochampions': 16044, 'totalunitshealed': 1, 'inhibitorkills': 0, 'totalscorerank': 0, 'totaldamagetaken': 16524, 'killingsprees': 2, 'timeccingothers': 25, 'physicaldamagetaken': 6054, 'perk0': 8360, 'perk0var1': 8, 'perk0var2': 0, 'perk0var3': 0, 'perk1': 8313, 'perk1var1': 0, 'perk1var2': 0, 'perk1var3': 0, 'perk2': 8316, 'perk2var1': 3080, 'perk2var2': 0, 'perk2var3': 0, 'perk3': 8352, 'perk3var1': 293, 'perk3var2': 1000, 'perk3var3': 825, 'perk4': 8275, 'perk4var1': 11, 'perk4var2': 0, 'perk4var3': 0, 'perk5': 8210, 'perk5var1': 0, 'perk5var2': 0, 'perk5var3': 0, 'perkprimarystyle': 8300, 'perksubstyle': 8200, 'longesttimespentliving': 787, 'statperk0': 5005, 'statperk1': 5008, 'statperk2': 5003}, 'participantid': 8, 'timeline': {'lane': 'MIDDLE', 'participantid': 8, 'csdiffpermindeltas': {'10-20': 0.8, '0-10': 0.1}, 'goldpermindeltas': {'10-20': 410.7, '0-10': 357.7}, 'xpdiffpermindeltas': {'10-20': 3.4, '0-10': 19.7}, 'creepspermindeltas': {'10-20': 6.2, '0-10': 8}, 'xppermindeltas': {'10-20': 403.5, '0-10': 454.5}, 'role': 'SOLO', 'damagetakendiffpermindeltas': {'10-20': -139.3, '0-10': -147.7}, 'damagetakenpermindeltas': {'10-20': 894.5, '0-10': 169.6}}, 'teamid': 200, 'spell2id': 4, 'spell1id': 12, 'championid': 4}\n",
            "{'stats': {'physicaldamagedealt': 7050, 'neutralminionskilledteamjungle': 0, 'magicdamagedealt': 17047, 'totalplayerscore': 0, 'deaths': 4, 'win': True, 'neutralminionskilledenemyjungle': 0, 'largestcriticalstrike': 0, 'totaldamagedealt': 30755, 'magicdamagedealttochampions': 7258, 'visionwardsboughtingame': 9, 'damagedealttoobjectives': 3536, 'largestkillingspree': 0, 'item1': 3050, 'quadrakills': 0, 'totaltimecrowdcontroldealt': 193, 'wardskilled': 5, 'firsttowerassist': False, 'firsttowerkill': False, 'item2': 0, 'item3': 3067, 'item0': 3860, 'firstbloodassist': False, 'visionscore': 47, 'wardsplaced': 25, 'item4': 1029, 'item5': 3117, 'item6': 3364, 'turretkills': 0, 'triplekills': 0, 'damageselfmitigated': 10065, 'champlevel': 11, 'goldearned': 6148, 'magicaldamagetaken': 4682, 'kills': 0, 'doublekills': 0, 'truedamagetaken': 232, 'assists': 9, 'unrealkills': 0, 'neutralminionskilled': 0, 'objectiveplayerscore': 0, 'combatplayerscore': 0, 'damagedealttoturrets': 1074, 'physicaldamagedealttochampions': 1600, 'goldspent': 5800, 'truedamagedealt': 6657, 'truedamagedealttochampions': 469, 'participantid': 9, 'pentakills': 0, 'totalheal': 3042, 'totalminionskilled': 28, 'firstbloodkill': False, 'largestmultikill': 0, 'sightwardsboughtingame': 0, 'totaldamagedealttochampions': 9327, 'totalunitshealed': 5, 'inhibitorkills': 0, 'totalscorerank': 0, 'totaldamagetaken': 12192, 'killingsprees': 0, 'timeccingothers': 42, 'physicaldamagetaken': 7278, 'perk0': 8439, 'perk0var1': 480, 'perk0var2': 0, 'perk0var3': 0, 'perk1': 8463, 'perk1var1': 678, 'perk1var2': 0, 'perk1var3': 0, 'perk2': 8473, 'perk2var1': 549, 'perk2var2': 0, 'perk2var3': 0, 'perk3': 8242, 'perk3var1': 36, 'perk3var2': 0, 'perk3var3': 0, 'perk4': 8009, 'perk4var1': 1665, 'perk4var2': 500, 'perk4var3': 0, 'perk5': 9105, 'perk5var1': 22, 'perk5var2': 50, 'perk5var3': 0, 'perkprimarystyle': 8400, 'perksubstyle': 8000, 'longesttimespentliving': 613, 'statperk0': 5005, 'statperk1': 5002, 'statperk2': 5002}, 'participantid': 9, 'timeline': {'lane': 'BOTTOM', 'participantid': 9, 'csdiffpermindeltas': {'10-20': -0.2, '0-10': 0.45}, 'goldpermindeltas': {'10-20': 227, '0-10': 170.4}, 'xpdiffpermindeltas': {'10-20': -93.75, '0-10': -6.45}, 'creepspermindeltas': {'10-20': 1.3, '0-10': 1.2}, 'xppermindeltas': {'10-20': 265.4, '0-10': 233.8}, 'role': 'DUO_SUPPORT', 'damagetakendiffpermindeltas': {'10-20': -63.1, '0-10': -16.75}, 'damagetakenpermindeltas': {'10-20': 645.9, '0-10': 347.3}}, 'teamid': 200, 'spell2id': 4, 'spell1id': 14, 'championid': 57}\n",
            "{'stats': {'physicaldamagedealt': 99898, 'neutralminionskilledteamjungle': 8, 'magicdamagedealt': 3636, 'totalplayerscore': 0, 'deaths': 3, 'win': True, 'neutralminionskilledenemyjungle': 0, 'largestcriticalstrike': 1013, 'totaldamagedealt': 105084, 'magicdamagedealttochampions': 928, 'visionwardsboughtingame': 1, 'damagedealttoobjectives': 12006, 'largestkillingspree': 6, 'item1': 3508, 'quadrakills': 0, 'totaltimecrowdcontroldealt': 154, 'wardskilled': 3, 'firsttowerassist': False, 'firsttowerkill': False, 'item2': 3031, 'item3': 3006, 'item0': 1055, 'firstbloodassist': False, 'visionscore': 15, 'wardsplaced': 10, 'item4': 1038, 'item5': 1053, 'item6': 3363, 'turretkills': 2, 'triplekills': 0, 'damageselfmitigated': 3706, 'champlevel': 13, 'goldearned': 11884, 'magicaldamagetaken': 3900, 'kills': 10, 'doublekills': 3, 'truedamagetaken': 362, 'assists': 2, 'unrealkills': 0, 'neutralminionskilled': 8, 'objectiveplayerscore': 0, 'combatplayerscore': 0, 'damagedealttoturrets': 3841, 'physicaldamagedealttochampions': 16801, 'goldspent': 10725, 'truedamagedealt': 1550, 'truedamagedealttochampions': 696, 'participantid': 10, 'pentakills': 0, 'totalheal': 969, 'totalminionskilled': 175, 'firstbloodkill': False, 'largestmultikill': 2, 'sightwardsboughtingame': 0, 'totaldamagedealttochampions': 18426, 'totalunitshealed': 3, 'inhibitorkills': 0, 'totalscorerank': 0, 'totaldamagetaken': 9754, 'killingsprees': 2, 'timeccingothers': 10, 'physicaldamagetaken': 5491, 'perk0': 8005, 'perk0var1': 1084, 'perk0var2': 879, 'perk0var3': 205, 'perk1': 8009, 'perk1var1': 1067, 'perk1var2': 500, 'perk1var3': 0, 'perk2': 9103, 'perk2var1': 24, 'perk2var2': 0, 'perk2var3': 0, 'perk3': 8017, 'perk3var1': 917, 'perk3var2': 0, 'perk3var3': 0, 'perk4': 8236, 'perk4var1': 14, 'perk4var2': 0, 'perk4var3': 0, 'perk5': 8234, 'perk5var1': 10260, 'perk5var2': 0, 'perk5var3': 0, 'perkprimarystyle': 8000, 'perksubstyle': 8200, 'longesttimespentliving': 728, 'statperk0': 5005, 'statperk1': 5008, 'statperk2': 5002}, 'participantid': 10, 'timeline': {'lane': 'BOTTOM', 'participantid': 10, 'csdiffpermindeltas': {'10-20': -0.2, '0-10': 0.45}, 'goldpermindeltas': {'10-20': 448.6, '0-10': 301.9}, 'xpdiffpermindeltas': {'10-20': -93.75, '0-10': -6.45}, 'creepspermindeltas': {'10-20': 7.6, '0-10': 7.8}, 'xppermindeltas': {'10-20': 433.6, '0-10': 318.1}, 'role': 'DUO_CARRY', 'damagetakendiffpermindeltas': {'10-20': -63.1, '0-10': -16.75}, 'damagetakenpermindeltas': {'10-20': 620.3, '0-10': 246.4}}, 'teamid': 200, 'spell2id': 7, 'spell1id': 4, 'championid': 21}\n"
          ],
          "name": "stdout"
        }
      ]
    },
    {
      "cell_type": "code",
      "metadata": {
        "colab": {
          "base_uri": "https://localhost:8080/"
        },
        "id": "maGZzGLEemmC",
        "outputId": "df71219b-0ad1-40fe-83a3-269938b24dbc"
      },
      "source": [
        "# participants 값을 보다 더 잘 살피기 위해 첫 참가자의 내용만 가져온다.\n",
        "# 이중에서 유의미한 변수는 가한 피해량, 가한 cc, 받은 피해, 감소한 피해, 시야장악관련 능력 등이 있다.\n",
        "\n",
        "def check(num):\n",
        "  for i in list(data['participants'][num].keys()):\n",
        "    if type(data['participants'][num][i]) == dict:\n",
        "      print(i, ':')\n",
        "      for j in list(data['participants'][num][i].keys()):\n",
        "        print('\\t',j, ':', data['participants'][num][i][j])\n",
        "    else:\n",
        "      print(i, ':', data['participants'][num][i])\n",
        "\n",
        "check(0)"
      ],
      "execution_count": 22,
      "outputs": [
        {
          "output_type": "stream",
          "text": [
            "stats :\n",
            "\t physicaldamagedealt : 14561\n",
            "\t neutralminionskilledteamjungle : 11\n",
            "\t magicdamagedealt : 54201\n",
            "\t totalplayerscore : 0\n",
            "\t deaths : 3\n",
            "\t win : False\n",
            "\t neutralminionskilledenemyjungle : 0\n",
            "\t largestcriticalstrike : 0\n",
            "\t totaldamagedealt : 70392\n",
            "\t magicdamagedealttochampions : 14450\n",
            "\t visionwardsboughtingame : 0\n",
            "\t damagedealttoobjectives : 8413\n",
            "\t largestkillingspree : 2\n",
            "\t item1 : 3003\n",
            "\t quadrakills : 0\n",
            "\t totaltimecrowdcontroldealt : 108\n",
            "\t wardskilled : 7\n",
            "\t firsttowerassist : False\n",
            "\t firsttowerkill : False\n",
            "\t item2 : 2421\n",
            "\t item3 : 3020\n",
            "\t item0 : 1054\n",
            "\t firstbloodassist : False\n",
            "\t visionscore : 20\n",
            "\t wardsplaced : 4\n",
            "\t item4 : 3027\n",
            "\t item5 : 0\n",
            "\t item6 : 3364\n",
            "\t turretkills : 0\n",
            "\t triplekills : 0\n",
            "\t damageselfmitigated : 13394\n",
            "\t champlevel : 13\n",
            "\t goldearned : 9063\n",
            "\t magicaldamagetaken : 8731\n",
            "\t kills : 4\n",
            "\t doublekills : 0\n",
            "\t truedamagetaken : 1439\n",
            "\t assists : 9\n",
            "\t unrealkills : 0\n",
            "\t neutralminionskilled : 15\n",
            "\t objectiveplayerscore : 0\n",
            "\t combatplayerscore : 0\n",
            "\t damagedealttoturrets : 1657\n",
            "\t physicaldamagedealttochampions : 1253\n",
            "\t goldspent : 8050\n",
            "\t truedamagedealt : 1629\n",
            "\t truedamagedealttochampions : 204\n",
            "\t participantid : 1\n",
            "\t pentakills : 0\n",
            "\t totalheal : 7508\n",
            "\t totalminionskilled : 134\n",
            "\t firstbloodkill : False\n",
            "\t largestmultikill : 1\n",
            "\t sightwardsboughtingame : 0\n",
            "\t totaldamagedealttochampions : 15908\n",
            "\t totalunitshealed : 1\n",
            "\t inhibitorkills : 0\n",
            "\t totalscorerank : 0\n",
            "\t totaldamagetaken : 23238\n",
            "\t killingsprees : 1\n",
            "\t timeccingothers : 13\n",
            "\t physicaldamagetaken : 13068\n",
            "\t perk0 : 8021\n",
            "\t perk0var1 : 2306\n",
            "\t perk0var2 : 0\n",
            "\t perk0var3 : 0\n",
            "\t perk1 : 8009\n",
            "\t perk1var1 : 4824\n",
            "\t perk1var2 : 500\n",
            "\t perk1var3 : 0\n",
            "\t perk2 : 9105\n",
            "\t perk2var1 : 17\n",
            "\t perk2var2 : 0\n",
            "\t perk2var3 : 0\n",
            "\t perk3 : 8014\n",
            "\t perk3var1 : 316\n",
            "\t perk3var2 : 0\n",
            "\t perk3var3 : 0\n",
            "\t perk4 : 8139\n",
            "\t perk4var1 : 629\n",
            "\t perk4var2 : 0\n",
            "\t perk4var3 : 0\n",
            "\t perk5 : 8135\n",
            "\t perk5var1 : 2101\n",
            "\t perk5var2 : 5\n",
            "\t perk5var3 : 0\n",
            "\t perkprimarystyle : 8000\n",
            "\t perksubstyle : 8100\n",
            "\t longesttimespentliving : 942\n",
            "\t statperk0 : 5008\n",
            "\t statperk1 : 5008\n",
            "\t statperk2 : 5003\n",
            "participantid : 1\n",
            "timeline :\n",
            "\t lane : MIDDLE\n",
            "\t participantid : 1\n",
            "\t csdiffpermindeltas : {'10-20': -0.8, '0-10': -0.1}\n",
            "\t goldpermindeltas : {'10-20': 386.6, '0-10': 301.8}\n",
            "\t xpdiffpermindeltas : {'10-20': -3.4, '0-10': -19.7}\n",
            "\t creepspermindeltas : {'10-20': 5.4, '0-10': 7.9}\n",
            "\t xppermindeltas : {'10-20': 400.1, '0-10': 434.8}\n",
            "\t role : SOLO\n",
            "\t damagetakendiffpermindeltas : {'10-20': 139.3, '0-10': 147.7}\n",
            "\t damagetakenpermindeltas : {'10-20': 1033.8, '0-10': 317.3}\n",
            "teamid : 100\n",
            "spell2id : 12\n",
            "spell1id : 4\n",
            "championid : 38\n"
          ],
          "name": "stdout"
        }
      ]
    },
    {
      "cell_type": "code",
      "metadata": {
        "colab": {
          "base_uri": "https://localhost:8080/"
        },
        "id": "Z8xRrrrjNyUR",
        "outputId": "c989ed2f-ee97-4d6d-b6db-73db593c3149"
      },
      "source": [
        "# 데이터가 너무 많아 비교를 위해 다른 참가자의 데이터도 가져왔다.\n",
        "\n",
        "check(9)"
      ],
      "execution_count": 23,
      "outputs": [
        {
          "output_type": "stream",
          "text": [
            "stats :\n",
            "\t physicaldamagedealt : 99898\n",
            "\t neutralminionskilledteamjungle : 8\n",
            "\t magicdamagedealt : 3636\n",
            "\t totalplayerscore : 0\n",
            "\t deaths : 3\n",
            "\t win : True\n",
            "\t neutralminionskilledenemyjungle : 0\n",
            "\t largestcriticalstrike : 1013\n",
            "\t totaldamagedealt : 105084\n",
            "\t magicdamagedealttochampions : 928\n",
            "\t visionwardsboughtingame : 1\n",
            "\t damagedealttoobjectives : 12006\n",
            "\t largestkillingspree : 6\n",
            "\t item1 : 3508\n",
            "\t quadrakills : 0\n",
            "\t totaltimecrowdcontroldealt : 154\n",
            "\t wardskilled : 3\n",
            "\t firsttowerassist : False\n",
            "\t firsttowerkill : False\n",
            "\t item2 : 3031\n",
            "\t item3 : 3006\n",
            "\t item0 : 1055\n",
            "\t firstbloodassist : False\n",
            "\t visionscore : 15\n",
            "\t wardsplaced : 10\n",
            "\t item4 : 1038\n",
            "\t item5 : 1053\n",
            "\t item6 : 3363\n",
            "\t turretkills : 2\n",
            "\t triplekills : 0\n",
            "\t damageselfmitigated : 3706\n",
            "\t champlevel : 13\n",
            "\t goldearned : 11884\n",
            "\t magicaldamagetaken : 3900\n",
            "\t kills : 10\n",
            "\t doublekills : 3\n",
            "\t truedamagetaken : 362\n",
            "\t assists : 2\n",
            "\t unrealkills : 0\n",
            "\t neutralminionskilled : 8\n",
            "\t objectiveplayerscore : 0\n",
            "\t combatplayerscore : 0\n",
            "\t damagedealttoturrets : 3841\n",
            "\t physicaldamagedealttochampions : 16801\n",
            "\t goldspent : 10725\n",
            "\t truedamagedealt : 1550\n",
            "\t truedamagedealttochampions : 696\n",
            "\t participantid : 10\n",
            "\t pentakills : 0\n",
            "\t totalheal : 969\n",
            "\t totalminionskilled : 175\n",
            "\t firstbloodkill : False\n",
            "\t largestmultikill : 2\n",
            "\t sightwardsboughtingame : 0\n",
            "\t totaldamagedealttochampions : 18426\n",
            "\t totalunitshealed : 3\n",
            "\t inhibitorkills : 0\n",
            "\t totalscorerank : 0\n",
            "\t totaldamagetaken : 9754\n",
            "\t killingsprees : 2\n",
            "\t timeccingothers : 10\n",
            "\t physicaldamagetaken : 5491\n",
            "\t perk0 : 8005\n",
            "\t perk0var1 : 1084\n",
            "\t perk0var2 : 879\n",
            "\t perk0var3 : 205\n",
            "\t perk1 : 8009\n",
            "\t perk1var1 : 1067\n",
            "\t perk1var2 : 500\n",
            "\t perk1var3 : 0\n",
            "\t perk2 : 9103\n",
            "\t perk2var1 : 24\n",
            "\t perk2var2 : 0\n",
            "\t perk2var3 : 0\n",
            "\t perk3 : 8017\n",
            "\t perk3var1 : 917\n",
            "\t perk3var2 : 0\n",
            "\t perk3var3 : 0\n",
            "\t perk4 : 8236\n",
            "\t perk4var1 : 14\n",
            "\t perk4var2 : 0\n",
            "\t perk4var3 : 0\n",
            "\t perk5 : 8234\n",
            "\t perk5var1 : 10260\n",
            "\t perk5var2 : 0\n",
            "\t perk5var3 : 0\n",
            "\t perkprimarystyle : 8000\n",
            "\t perksubstyle : 8200\n",
            "\t longesttimespentliving : 728\n",
            "\t statperk0 : 5005\n",
            "\t statperk1 : 5008\n",
            "\t statperk2 : 5002\n",
            "participantid : 10\n",
            "timeline :\n",
            "\t lane : BOTTOM\n",
            "\t participantid : 10\n",
            "\t csdiffpermindeltas : {'10-20': -0.2, '0-10': 0.45}\n",
            "\t goldpermindeltas : {'10-20': 448.6, '0-10': 301.9}\n",
            "\t xpdiffpermindeltas : {'10-20': -93.75, '0-10': -6.45}\n",
            "\t creepspermindeltas : {'10-20': 7.6, '0-10': 7.8}\n",
            "\t xppermindeltas : {'10-20': 433.6, '0-10': 318.1}\n",
            "\t role : DUO_CARRY\n",
            "\t damagetakendiffpermindeltas : {'10-20': -63.1, '0-10': -16.75}\n",
            "\t damagetakenpermindeltas : {'10-20': 620.3, '0-10': 246.4}\n",
            "teamid : 200\n",
            "spell2id : 7\n",
            "spell1id : 4\n",
            "championid : 21\n"
          ],
          "name": "stdout"
        }
      ]
    },
    {
      "cell_type": "code",
      "metadata": {
        "colab": {
          "base_uri": "https://localhost:8080/"
        },
        "id": "c01pGHCJeXF4",
        "outputId": "dde08ba3-66ff-4505-e228-049c745211b9"
      },
      "source": [
        "# participantextendedstats 키의 값을 호출하여 데이터가 어떤 내용을 담고 있는지 분석한다.\n",
        "\n",
        "for i in data['participantextendedstats']:\n",
        "  print(i)"
      ],
      "execution_count": 24,
      "outputs": [
        {
          "output_type": "stream",
          "text": [
            "{'participantid': 1, 'position': 'MID', 'tier': 'DIAMOND', 'tierrank': 'II', 'leaguepoints': 33}\n",
            "{'participantid': 2, 'position': 'SUPPORT', 'tier': 'DIAMOND', 'tierrank': 'III', 'leaguepoints': 75}\n",
            "{'participantid': 3, 'position': 'TOP', 'tier': 'DIAMOND', 'tierrank': 'III', 'leaguepoints': 100}\n",
            "{'participantid': 4, 'position': 'JUNGLE', 'tier': 'DIAMOND', 'tierrank': 'III', 'leaguepoints': 83}\n",
            "{'participantid': 5, 'position': 'ADC', 'tier': 'DIAMOND', 'tierrank': 'II', 'leaguepoints': 63}\n",
            "{'participantid': 6, 'position': 'TOP', 'tier': 'DIAMOND', 'tierrank': 'II', 'leaguepoints': 32}\n",
            "{'participantid': 7, 'position': 'JUNGLE', 'tier': 'DIAMOND', 'tierrank': 'II', 'leaguepoints': 90}\n",
            "{'participantid': 8, 'position': 'MID', 'tier': 'DIAMOND', 'tierrank': 'II', 'leaguepoints': 44}\n",
            "{'participantid': 9, 'position': 'SUPPORT', 'tier': 'DIAMOND', 'tierrank': 'II', 'leaguepoints': 57}\n",
            "{'participantid': 10, 'position': 'ADC', 'tier': 'DIAMOND', 'tierrank': 'III', 'leaguepoints': 100}\n"
          ],
          "name": "stdout"
        }
      ]
    },
    {
      "cell_type": "code",
      "metadata": {
        "id": "MsjFwpecZEpn"
      },
      "source": [
        "# 데이터를 dataframe으로 바꾸어 분석을 용이하게 하기 위해 변환과정을 거친다."
      ],
      "execution_count": 25,
      "outputs": []
    },
    {
      "cell_type": "code",
      "metadata": {
        "id": "sPvUMP3NpMRb"
      },
      "source": [
        "df1 = []\n",
        "for i in range(60000):\n",
        "  df1.append([head[i]['gameid'],head[i]['gameduration'],head[i]['gamecreation']])"
      ],
      "execution_count": 26,
      "outputs": []
    },
    {
      "cell_type": "code",
      "metadata": {
        "id": "oPXHm2fmrPyP"
      },
      "source": [
        "Game = pd.DataFrame(df1, columns=['gameid', 'gameduration', 'gamecreation'])\n",
        "# gameid, gameduration, gamecreation을 col으로 가지는 game 데이터 프레임을 만든다."
      ],
      "execution_count": 27,
      "outputs": []
    },
    {
      "cell_type": "code",
      "metadata": {
        "colab": {
          "base_uri": "https://localhost:8080/",
          "height": 423
        },
        "id": "GaJLOmtf0aJB",
        "outputId": "44639c07-6fa9-4db5-b904-841096706084"
      },
      "source": [
        "# 게임 데이터 프레임을 생성하여 게임 별 상황에 대한 데이터를 따로 넣고 필요한 경우에만 가져올 수 있도록 바꾸었다.\n",
        "\n",
        "Game"
      ],
      "execution_count": 28,
      "outputs": [
        {
          "output_type": "execute_result",
          "data": {
            "text/html": [
              "<div>\n",
              "<style scoped>\n",
              "    .dataframe tbody tr th:only-of-type {\n",
              "        vertical-align: middle;\n",
              "    }\n",
              "\n",
              "    .dataframe tbody tr th {\n",
              "        vertical-align: top;\n",
              "    }\n",
              "\n",
              "    .dataframe thead th {\n",
              "        text-align: right;\n",
              "    }\n",
              "</style>\n",
              "<table border=\"1\" class=\"dataframe\">\n",
              "  <thead>\n",
              "    <tr style=\"text-align: right;\">\n",
              "      <th></th>\n",
              "      <th>gameid</th>\n",
              "      <th>gameduration</th>\n",
              "      <th>gamecreation</th>\n",
              "    </tr>\n",
              "  </thead>\n",
              "  <tbody>\n",
              "    <tr>\n",
              "      <th>0</th>\n",
              "      <td>4621713273</td>\n",
              "      <td>1514</td>\n",
              "      <td>1599158094</td>\n",
              "    </tr>\n",
              "    <tr>\n",
              "      <th>1</th>\n",
              "      <td>4621713359</td>\n",
              "      <td>2004</td>\n",
              "      <td>1599158200</td>\n",
              "    </tr>\n",
              "    <tr>\n",
              "      <th>2</th>\n",
              "      <td>4621713434</td>\n",
              "      <td>1610</td>\n",
              "      <td>1599158271</td>\n",
              "    </tr>\n",
              "    <tr>\n",
              "      <th>3</th>\n",
              "      <td>4621713607</td>\n",
              "      <td>1119</td>\n",
              "      <td>1599158478</td>\n",
              "    </tr>\n",
              "    <tr>\n",
              "      <th>4</th>\n",
              "      <td>4621713720</td>\n",
              "      <td>2003</td>\n",
              "      <td>1599158571</td>\n",
              "    </tr>\n",
              "    <tr>\n",
              "      <th>...</th>\n",
              "      <td>...</td>\n",
              "      <td>...</td>\n",
              "      <td>...</td>\n",
              "    </tr>\n",
              "    <tr>\n",
              "      <th>59995</th>\n",
              "      <td>4637087434</td>\n",
              "      <td>1177</td>\n",
              "      <td>1599747459</td>\n",
              "    </tr>\n",
              "    <tr>\n",
              "      <th>59996</th>\n",
              "      <td>4637087838</td>\n",
              "      <td>836</td>\n",
              "      <td>1599747582</td>\n",
              "    </tr>\n",
              "    <tr>\n",
              "      <th>59997</th>\n",
              "      <td>4637088062</td>\n",
              "      <td>1265</td>\n",
              "      <td>1599747688</td>\n",
              "    </tr>\n",
              "    <tr>\n",
              "      <th>59998</th>\n",
              "      <td>4637088065</td>\n",
              "      <td>1820</td>\n",
              "      <td>1599747610</td>\n",
              "    </tr>\n",
              "    <tr>\n",
              "      <th>59999</th>\n",
              "      <td>4637088178</td>\n",
              "      <td>1346</td>\n",
              "      <td>1599747691</td>\n",
              "    </tr>\n",
              "  </tbody>\n",
              "</table>\n",
              "<p>60000 rows × 3 columns</p>\n",
              "</div>"
            ],
            "text/plain": [
              "           gameid  gameduration  gamecreation\n",
              "0      4621713273          1514    1599158094\n",
              "1      4621713359          2004    1599158200\n",
              "2      4621713434          1610    1599158271\n",
              "3      4621713607          1119    1599158478\n",
              "4      4621713720          2003    1599158571\n",
              "...           ...           ...           ...\n",
              "59995  4637087434          1177    1599747459\n",
              "59996  4637087838           836    1599747582\n",
              "59997  4637088062          1265    1599747688\n",
              "59998  4637088065          1820    1599747610\n",
              "59999  4637088178          1346    1599747691\n",
              "\n",
              "[60000 rows x 3 columns]"
            ]
          },
          "metadata": {
            "tags": []
          },
          "execution_count": 28
        }
      ]
    },
    {
      "cell_type": "code",
      "metadata": {
        "colab": {
          "base_uri": "https://localhost:8080/"
        },
        "id": "NXLY5NEh6dpT",
        "outputId": "2a50e8a9-a701-4c74-bd24-4a3552b2db11"
      },
      "source": [
        "temp = set()\n",
        "for i in range(60000):\n",
        "  data = head[i]['participants']\n",
        "  for j in range(10):\n",
        "    try:\n",
        "      data[j]['stats']['perksubstyle']\n",
        "    except:\n",
        "      print(data[j]['stats'])"
      ],
      "execution_count": 29,
      "outputs": [
        {
          "output_type": "stream",
          "text": [
            "{'physicaldamagedealt': 39885, 'neutralminionskilledteamjungle': 0, 'magicdamagedealt': 2220, 'totalplayerscore': 0, 'deaths': 6, 'win': True, 'neutralminionskilledenemyjungle': 0, 'largestcriticalstrike': 0, 'totaldamagedealt': 49514, 'magicdamagedealttochampions': 1515, 'visionwardsboughtingame': 6, 'damagedealttoobjectives': 6131, 'largestkillingspree': 2, 'item1': 2055, 'quadrakills': 0, 'totaltimecrowdcontroldealt': 84, 'wardskilled': 20, 'firsttowerassist': True, 'firsttowerkill': False, 'item2': 3857, 'item3': 3117, 'item0': 3071, 'firstbloodassist': False, 'visionscore': 76, 'wardsplaced': 27, 'item4': 3123, 'item5': 3179, 'item6': 3364, 'turretkills': 1, 'triplekills': 0, 'damageselfmitigated': 9345, 'champlevel': 13, 'firstinhibitorkill': False, 'goldearned': 10344, 'magicaldamagetaken': 9844, 'kills': 5, 'doublekills': 1, 'truedamagetaken': 306, 'firstinhibitorassist': False, 'assists': 17, 'unrealkills': 0, 'neutralminionskilled': 3, 'objectiveplayerscore': 0, 'combatplayerscore': 0, 'damagedealttoturrets': 2097, 'physicaldamagedealttochampions': 14625, 'goldspent': 8475, 'truedamagedealt': 7408, 'truedamagedealttochampions': 21, 'participantid': 8, 'pentakills': 0, 'totalheal': 4484, 'totalminionskilled': 60, 'firstbloodkill': False, 'largestmultikill': 2, 'sightwardsboughtingame': 0, 'totaldamagedealttochampions': 16162, 'totalunitshealed': 4, 'inhibitorkills': 0, 'totalscorerank': 0, 'totaldamagetaken': 20201, 'killingsprees': 1, 'timeccingothers': 24, 'physicaldamagetaken': 10051, 'perk0': 8112, 'perk0var1': 1077, 'perk0var2': 0, 'perk0var3': 0, 'perk1': 8139, 'perk1var1': 768, 'perk1var2': 0, 'perk1var3': 0, 'perk2': 8138, 'perk2var1': 18, 'perk2var2': 0, 'perk2var3': 0, 'perk3': 8135, 'perk3var1': 1194, 'perk3var2': 5, 'perk3var3': 0, 'perk4': 9111, 'perk4var1': 794, 'perk4var2': 440, 'perk4var3': 0, 'perk5': 8014, 'perk5var1': 388, 'perk5var2': 0, 'perk5var3': 0, 'perkprimarystyle': 8100, 'longesttimespentliving': 471, 'statperk0': 5005, 'statperk1': 5008, 'statperk2': 5002}\n",
            "{'physicaldamagedealt': 15096, 'neutralminionskilledteamjungle': 75, 'magicdamagedealt': 85685, 'totalplayerscore': 0, 'deaths': 7, 'win': False, 'neutralminionskilledenemyjungle': 3, 'largestcriticalstrike': 0, 'totaldamagedealt': 109949, 'magicdamagedealttochampions': 15241, 'visionwardsboughtingame': 2, 'damagedealttoobjectives': 3368, 'largestkillingspree': 3, 'item1': 1052, 'quadrakills': 0, 'totaltimecrowdcontroldealt': 359, 'wardskilled': 3, 'firsttowerassist': False, 'firsttowerkill': False, 'item2': 3152, 'item3': 2055, 'item0': 3157, 'firstbloodassist': False, 'visionscore': 14, 'wardsplaced': 2, 'item4': 3020, 'item5': 1402, 'item6': 3364, 'turretkills': 0, 'triplekills': 0, 'damageselfmitigated': 13790, 'champlevel': 12, 'firstinhibitorkill': False, 'goldearned': 10593, 'magicaldamagetaken': 8276, 'kills': 9, 'doublekills': 1, 'truedamagetaken': 2059, 'firstinhibitorassist': False, 'assists': 4, 'unrealkills': 0, 'neutralminionskilled': 84, 'objectiveplayerscore': 0, 'combatplayerscore': 0, 'damagedealttoturrets': 0, 'physicaldamagedealttochampions': 331, 'goldspent': 9735, 'truedamagedealt': 9166, 'truedamagedealttochampions': 1128, 'participantid': 9, 'pentakills': 0, 'totalheal': 10865, 'totalminionskilled': 38, 'firstbloodkill': False, 'largestmultikill': 2, 'sightwardsboughtingame': 0, 'totaldamagedealttochampions': 16701, 'totalunitshealed': 1, 'inhibitorkills': 0, 'totalscorerank': 0, 'totaldamagetaken': 29415, 'killingsprees': 3, 'timeccingothers': 28, 'physicaldamagetaken': 19079, 'perk0': 8229, 'perk0var1': 908, 'perk0var2': 0, 'perk0var3': 0, 'perk1': 8226, 'perk1var1': 250, 'perk1var2': 200, 'perk1var3': 0, 'perk2': 8210, 'perk2var1': 0, 'perk2var2': 0, 'perk2var3': 0, 'perk3': 8236, 'perk3var1': 24, 'perk3var2': 0, 'perk3var3': 0, 'perk4': 8138, 'perk4var1': 30, 'perk4var2': 0, 'perk4var3': 0, 'perk5': 8105, 'perk5var1': 16, 'perk5var2': 5, 'perk5var3': 0, 'perkprimarystyle': 8200, 'longesttimespentliving': 455, 'statperk0': 5008, 'statperk1': 5008, 'statperk2': 5001}\n",
            "{'physicaldamagedealt': 57626, 'neutralminionskilledteamjungle': 0, 'magicdamagedealt': 4250, 'totalplayerscore': 0, 'deaths': 0, 'win': True, 'neutralminionskilledenemyjungle': 1, 'largestcriticalstrike': 0, 'totaldamagedealt': 61876, 'magicdamagedealttochampions': 1711, 'visionwardsboughtingame': 1, 'damagedealttoobjectives': 7081, 'largestkillingspree': 7, 'item1': 3004, 'quadrakills': 0, 'totaltimecrowdcontroldealt': 0, 'wardskilled': 0, 'firsttowerassist': False, 'firsttowerkill': True, 'item2': 0, 'item3': 3006, 'item0': 0, 'firstbloodassist': False, 'visionscore': 3, 'wardsplaced': 2, 'item4': 1055, 'item5': 1037, 'item6': 3340, 'turretkills': 3, 'triplekills': 0, 'damageselfmitigated': 1848, 'champlevel': 9, 'firstinhibitorkill': False, 'goldearned': 7835, 'magicaldamagetaken': 849, 'kills': 7, 'doublekills': 1, 'truedamagetaken': 198, 'firstinhibitorassist': False, 'assists': 6, 'unrealkills': 0, 'neutralminionskilled': 3, 'objectiveplayerscore': 0, 'combatplayerscore': 0, 'damagedealttoturrets': 6435, 'physicaldamagedealttochampions': 6934, 'goldspent': 5050, 'truedamagedealt': 0, 'truedamagedealttochampions': 0, 'participantid': 2, 'pentakills': 0, 'totalheal': 1544, 'totalminionskilled': 116, 'firstbloodkill': False, 'largestmultikill': 2, 'sightwardsboughtingame': 0, 'totaldamagedealttochampions': 8645, 'totalunitshealed': 4, 'inhibitorkills': 1, 'totalscorerank': 0, 'totaldamagetaken': 4787, 'killingsprees': 1, 'timeccingothers': 0, 'physicaldamagetaken': 3739, 'perk0': 8005, 'perk0var1': 512, 'perk0var2': 318, 'perk0var3': 194, 'perk1': 9111, 'perk1var1': 573, 'perk1var2': 260, 'perk1var3': 0, 'perk2': 9104, 'perk2var1': 7, 'perk2var2': 0, 'perk2var3': 0, 'perk3': 8014, 'perk3var1': 253, 'perk3var2': 0, 'perk3var3': 0, 'perk4': 8233, 'perk4var1': 6, 'perk4var2': 40, 'perk4var3': 0, 'perk5': 8236, 'perk5var1': 4, 'perk5var2': 0, 'perk5var3': 0, 'perkprimarystyle': 8000, 'longesttimespentliving': 0, 'statperk0': 5005, 'statperk1': 5008, 'statperk2': 5001}\n",
            "{'physicaldamagedealt': 39899, 'neutralminionskilledteamjungle': 44, 'magicdamagedealt': 10184, 'totalplayerscore': 0, 'deaths': 5, 'win': False, 'neutralminionskilledenemyjungle': 7, 'largestcriticalstrike': 0, 'totaldamagedealt': 52289, 'magicdamagedealttochampions': 733, 'visionwardsboughtingame': 3, 'damagedealttoobjectives': 4403, 'largestkillingspree': 0, 'item1': 0, 'quadrakills': 0, 'totaltimecrowdcontroldealt': 332, 'wardskilled': 1, 'firsttowerassist': False, 'firsttowerkill': False, 'item2': 0, 'item3': 0, 'item0': 0, 'firstbloodassist': False, 'visionscore': 8, 'wardsplaced': 4, 'item4': 0, 'item5': 0, 'item6': 3340, 'turretkills': 0, 'triplekills': 0, 'damageselfmitigated': 8928, 'champlevel': 8, 'goldearned': 4262, 'magicaldamagetaken': 2890, 'kills': 1, 'doublekills': 0, 'truedamagetaken': 180, 'assists': 4, 'unrealkills': 0, 'neutralminionskilled': 61, 'objectiveplayerscore': 0, 'combatplayerscore': 0, 'damagedealttoturrets': 0, 'physicaldamagedealttochampions': 3528, 'goldspent': 3700, 'truedamagedealt': 2206, 'truedamagedealttochampions': 596, 'participantid': 9, 'pentakills': 0, 'totalheal': 3781, 'totalminionskilled': 3, 'firstbloodkill': False, 'largestmultikill': 1, 'sightwardsboughtingame': 0, 'totaldamagedealttochampions': 4857, 'totalunitshealed': 1, 'inhibitorkills': 0, 'totalscorerank': 0, 'totaldamagetaken': 13401, 'killingsprees': 0, 'timeccingothers': 11, 'physicaldamagetaken': 10330, 'perk0': 8112, 'perk0var1': 476, 'perk0var2': 0, 'perk0var3': 0, 'perk1': 8139, 'perk1var1': 247, 'perk1var2': 0, 'perk1var3': 0, 'perk2': 8138, 'perk2var1': 6, 'perk2var2': 0, 'perk2var3': 0, 'perk3': 8135, 'perk3var1': 653, 'perk3var2': 5, 'perk3var3': 0, 'perk4': 9111, 'perk4var1': 55, 'perk4var2': 100, 'perk4var3': 0, 'perk5': 8014, 'perk5var1': 85, 'perk5var2': 0, 'perk5var3': 0, 'perkprimarystyle': 8100, 'longesttimespentliving': 232, 'statperk0': 5005, 'statperk1': 5008, 'statperk2': 5002}\n"
          ],
          "name": "stdout"
        }
      ]
    },
    {
      "cell_type": "code",
      "metadata": {
        "id": "s4DneLR2rcHR"
      },
      "source": [
        "df2 = []\n",
        "for i in range(60000):\n",
        "  data = head[i]\n",
        "  gameid = data['gameid']\n",
        "  part = data['participantidentities']\n",
        "  part2 = data['participantextendedstats']\n",
        "  team = data['teams']\n",
        "  position = data['participantextendedstats']\n",
        "  champ = data['participants']\n",
        "  for j in range(10):\n",
        "    try:\n",
        "      df2.append([gameid, part[j]['participantid'], part[j]['player']['summonerid'], team[j//5]['teamid'],\n",
        "                  team[j//5]['bans'][j%5]['championid'], champ[j]['championid'], champ[j]['timeline']['role'], position[j]['position'],\n",
        "                  champ[j]['stats']['perk0'],champ[j]['stats']['perk1'],champ[j]['stats']['perk2'],champ[j]['stats']['perk3'],\n",
        "                  champ[j]['stats']['perk4'], champ[j]['stats']['perk5'],champ[j]['stats']['perkprimarystyle'],champ[j]['stats']['perksubstyle'],\n",
        "                  champ[j]['stats']['statperk0'], champ[j]['stats']['statperk1'],champ[j]['stats']['statperk2']])\n",
        "    except:\n",
        "      df2.append([gameid, part[j]['participantid'], part[j]['player']['summonerid'], team[j//5]['teamid'],\n",
        "                  team[j//5]['bans'][j%5]['championid'], champ[j]['championid'], champ[j]['timeline']['role'], position[j]['position'],\n",
        "                  champ[j]['stats']['perk0'],champ[j]['stats']['perk1'],champ[j]['stats']['perk2'],champ[j]['stats']['perk3'],\n",
        "                  champ[j]['stats']['perk4'], champ[j]['stats']['perk5'],champ[j]['stats']['perkprimarystyle'], 0,\n",
        "                  champ[j]['stats']['statperk0'], champ[j]['stats']['statperk1'],champ[j]['stats']['statperk2']])"
      ],
      "execution_count": 30,
      "outputs": []
    },
    {
      "cell_type": "code",
      "metadata": {
        "id": "vt8l5BrqubQk"
      },
      "source": [
        "User = pd.DataFrame(df2, columns=['gameid', 'participantid', 'summonerid', 'teamid','banid', 'pickid', 'role', 'lane','perk0','perk1','perk2',\n",
        "                                  'perk3','perk4','perk5','perkprimarystyle','perksubstyle','statperk0','statperk1','statperk2'])\n",
        "# gameid, participantid, summonerid, teamid, banid, pickid, position를 col으로 가지는 user 데이터 프레임을 만든다."
      ],
      "execution_count": 31,
      "outputs": []
    },
    {
      "cell_type": "code",
      "metadata": {
        "colab": {
          "base_uri": "https://localhost:8080/",
          "height": 443
        },
        "id": "tu-JSLx10XE7",
        "outputId": "e547a6e0-e517-4cc5-d766-595bd2adf197"
      },
      "source": [
        "# 유저 데이터 프레임을 생성하여 게임과 유저별 데이터에 대해 게임 시작 전에 정해진 데이터를 따로 넣고 필요한 경우에만 가져올 수 있도록 바꾸었다.\n",
        "\n",
        "User"
      ],
      "execution_count": 32,
      "outputs": [
        {
          "output_type": "execute_result",
          "data": {
            "text/html": [
              "<div>\n",
              "<style scoped>\n",
              "    .dataframe tbody tr th:only-of-type {\n",
              "        vertical-align: middle;\n",
              "    }\n",
              "\n",
              "    .dataframe tbody tr th {\n",
              "        vertical-align: top;\n",
              "    }\n",
              "\n",
              "    .dataframe thead th {\n",
              "        text-align: right;\n",
              "    }\n",
              "</style>\n",
              "<table border=\"1\" class=\"dataframe\">\n",
              "  <thead>\n",
              "    <tr style=\"text-align: right;\">\n",
              "      <th></th>\n",
              "      <th>gameid</th>\n",
              "      <th>participantid</th>\n",
              "      <th>summonerid</th>\n",
              "      <th>teamid</th>\n",
              "      <th>banid</th>\n",
              "      <th>pickid</th>\n",
              "      <th>role</th>\n",
              "      <th>lane</th>\n",
              "      <th>perk0</th>\n",
              "      <th>perk1</th>\n",
              "      <th>perk2</th>\n",
              "      <th>perk3</th>\n",
              "      <th>perk4</th>\n",
              "      <th>perk5</th>\n",
              "      <th>perkprimarystyle</th>\n",
              "      <th>perksubstyle</th>\n",
              "      <th>statperk0</th>\n",
              "      <th>statperk1</th>\n",
              "      <th>statperk2</th>\n",
              "    </tr>\n",
              "  </thead>\n",
              "  <tbody>\n",
              "    <tr>\n",
              "      <th>0</th>\n",
              "      <td>4621713273</td>\n",
              "      <td>1</td>\n",
              "      <td>PF7wuKbEjIH7bUEivDRsJbiah9EF9EzRPO-LFLucLai7avA</td>\n",
              "      <td>100</td>\n",
              "      <td>104</td>\n",
              "      <td>38</td>\n",
              "      <td>SOLO</td>\n",
              "      <td>MID</td>\n",
              "      <td>8021</td>\n",
              "      <td>8009</td>\n",
              "      <td>9105</td>\n",
              "      <td>8014</td>\n",
              "      <td>8139</td>\n",
              "      <td>8135</td>\n",
              "      <td>8000</td>\n",
              "      <td>8100</td>\n",
              "      <td>5008</td>\n",
              "      <td>5008</td>\n",
              "      <td>5003</td>\n",
              "    </tr>\n",
              "    <tr>\n",
              "      <th>1</th>\n",
              "      <td>4621713273</td>\n",
              "      <td>2</td>\n",
              "      <td>JRuCiFpuzcsnQ9Gadn5A_0bm66-PrFaA3WKP5juhgetrx3Y</td>\n",
              "      <td>100</td>\n",
              "      <td>51</td>\n",
              "      <td>497</td>\n",
              "      <td>DUO_SUPPORT</td>\n",
              "      <td>SUPPORT</td>\n",
              "      <td>8465</td>\n",
              "      <td>8463</td>\n",
              "      <td>8444</td>\n",
              "      <td>8453</td>\n",
              "      <td>8106</td>\n",
              "      <td>8136</td>\n",
              "      <td>8400</td>\n",
              "      <td>8100</td>\n",
              "      <td>5007</td>\n",
              "      <td>5003</td>\n",
              "      <td>5002</td>\n",
              "    </tr>\n",
              "    <tr>\n",
              "      <th>2</th>\n",
              "      <td>4621713273</td>\n",
              "      <td>3</td>\n",
              "      <td>o5ZjlQkLgDZzDG_dkT0GVL7X34kp51abqkUN6P7K2WPeY1dy</td>\n",
              "      <td>100</td>\n",
              "      <td>58</td>\n",
              "      <td>164</td>\n",
              "      <td>SOLO</td>\n",
              "      <td>TOP</td>\n",
              "      <td>8437</td>\n",
              "      <td>8401</td>\n",
              "      <td>8444</td>\n",
              "      <td>8451</td>\n",
              "      <td>8304</td>\n",
              "      <td>8345</td>\n",
              "      <td>8400</td>\n",
              "      <td>8300</td>\n",
              "      <td>5005</td>\n",
              "      <td>5008</td>\n",
              "      <td>5002</td>\n",
              "    </tr>\n",
              "    <tr>\n",
              "      <th>3</th>\n",
              "      <td>4621713273</td>\n",
              "      <td>4</td>\n",
              "      <td>TUdiT-gEHdtkmr9JkhqvtNy5L_nutzsw2oH23kgO71NSsA</td>\n",
              "      <td>100</td>\n",
              "      <td>80</td>\n",
              "      <td>19</td>\n",
              "      <td>NONE</td>\n",
              "      <td>JUNGLE</td>\n",
              "      <td>8005</td>\n",
              "      <td>9111</td>\n",
              "      <td>9105</td>\n",
              "      <td>8299</td>\n",
              "      <td>8234</td>\n",
              "      <td>8232</td>\n",
              "      <td>8000</td>\n",
              "      <td>8200</td>\n",
              "      <td>5005</td>\n",
              "      <td>5008</td>\n",
              "      <td>5002</td>\n",
              "    </tr>\n",
              "    <tr>\n",
              "      <th>4</th>\n",
              "      <td>4621713273</td>\n",
              "      <td>5</td>\n",
              "      <td>qmcY1AJTdznK_aTgW2e1qwCY1uwbam9HU09Wsa7nI9Wt5sYQ</td>\n",
              "      <td>100</td>\n",
              "      <td>777</td>\n",
              "      <td>145</td>\n",
              "      <td>DUO_CARRY</td>\n",
              "      <td>ADC</td>\n",
              "      <td>9923</td>\n",
              "      <td>8139</td>\n",
              "      <td>8138</td>\n",
              "      <td>8135</td>\n",
              "      <td>8009</td>\n",
              "      <td>9103</td>\n",
              "      <td>8100</td>\n",
              "      <td>8000</td>\n",
              "      <td>5005</td>\n",
              "      <td>5008</td>\n",
              "      <td>5002</td>\n",
              "    </tr>\n",
              "    <tr>\n",
              "      <th>...</th>\n",
              "      <td>...</td>\n",
              "      <td>...</td>\n",
              "      <td>...</td>\n",
              "      <td>...</td>\n",
              "      <td>...</td>\n",
              "      <td>...</td>\n",
              "      <td>...</td>\n",
              "      <td>...</td>\n",
              "      <td>...</td>\n",
              "      <td>...</td>\n",
              "      <td>...</td>\n",
              "      <td>...</td>\n",
              "      <td>...</td>\n",
              "      <td>...</td>\n",
              "      <td>...</td>\n",
              "      <td>...</td>\n",
              "      <td>...</td>\n",
              "      <td>...</td>\n",
              "      <td>...</td>\n",
              "    </tr>\n",
              "    <tr>\n",
              "      <th>599995</th>\n",
              "      <td>4637088178</td>\n",
              "      <td>6</td>\n",
              "      <td>u5JXbHcmJtBOiLr6QfKg-OmGkY8pHzN-52-IXGyGFqVAg2I</td>\n",
              "      <td>200</td>\n",
              "      <td>236</td>\n",
              "      <td>75</td>\n",
              "      <td>SOLO</td>\n",
              "      <td>MID</td>\n",
              "      <td>8021</td>\n",
              "      <td>8009</td>\n",
              "      <td>9105</td>\n",
              "      <td>8299</td>\n",
              "      <td>8345</td>\n",
              "      <td>8347</td>\n",
              "      <td>8000</td>\n",
              "      <td>8300</td>\n",
              "      <td>5008</td>\n",
              "      <td>5008</td>\n",
              "      <td>5003</td>\n",
              "    </tr>\n",
              "    <tr>\n",
              "      <th>599996</th>\n",
              "      <td>4637088178</td>\n",
              "      <td>7</td>\n",
              "      <td>ONml7UeM4RbHJ7zWqpp0wEWJulBM9bz1BA8-6RMYeaAKLoI</td>\n",
              "      <td>200</td>\n",
              "      <td>777</td>\n",
              "      <td>9</td>\n",
              "      <td>NONE</td>\n",
              "      <td>JUNGLE</td>\n",
              "      <td>8128</td>\n",
              "      <td>8126</td>\n",
              "      <td>8138</td>\n",
              "      <td>8106</td>\n",
              "      <td>8275</td>\n",
              "      <td>8234</td>\n",
              "      <td>8100</td>\n",
              "      <td>8200</td>\n",
              "      <td>5007</td>\n",
              "      <td>5008</td>\n",
              "      <td>5002</td>\n",
              "    </tr>\n",
              "    <tr>\n",
              "      <th>599997</th>\n",
              "      <td>4637088178</td>\n",
              "      <td>8</td>\n",
              "      <td>MJoDEab4uqrFdJ6-v86XsP4qovHiM-dtmU4zJ8x87qul0hI</td>\n",
              "      <td>200</td>\n",
              "      <td>25</td>\n",
              "      <td>163</td>\n",
              "      <td>NONE</td>\n",
              "      <td>TOP</td>\n",
              "      <td>8128</td>\n",
              "      <td>8126</td>\n",
              "      <td>8138</td>\n",
              "      <td>8135</td>\n",
              "      <td>8009</td>\n",
              "      <td>8014</td>\n",
              "      <td>8100</td>\n",
              "      <td>8000</td>\n",
              "      <td>5008</td>\n",
              "      <td>5008</td>\n",
              "      <td>5002</td>\n",
              "    </tr>\n",
              "    <tr>\n",
              "      <th>599998</th>\n",
              "      <td>4637088178</td>\n",
              "      <td>9</td>\n",
              "      <td>JG9lOs0ZpOUHEHd0ZUqVAjzLGDn7a41CT1AYjSTo_Mp5rrg</td>\n",
              "      <td>200</td>\n",
              "      <td>238</td>\n",
              "      <td>235</td>\n",
              "      <td>SOLO</td>\n",
              "      <td>SUPPORT</td>\n",
              "      <td>8351</td>\n",
              "      <td>8304</td>\n",
              "      <td>8345</td>\n",
              "      <td>8410</td>\n",
              "      <td>8009</td>\n",
              "      <td>9104</td>\n",
              "      <td>8300</td>\n",
              "      <td>8000</td>\n",
              "      <td>5005</td>\n",
              "      <td>5008</td>\n",
              "      <td>5002</td>\n",
              "    </tr>\n",
              "    <tr>\n",
              "      <th>599999</th>\n",
              "      <td>4637088178</td>\n",
              "      <td>10</td>\n",
              "      <td>yVyB0usJMKIa6DayxmwhoPewkZZRF1kfvZFHtmVbfmvqVO38</td>\n",
              "      <td>200</td>\n",
              "      <td>38</td>\n",
              "      <td>39</td>\n",
              "      <td>SOLO</td>\n",
              "      <td>ADC</td>\n",
              "      <td>8010</td>\n",
              "      <td>9111</td>\n",
              "      <td>9104</td>\n",
              "      <td>8299</td>\n",
              "      <td>8352</td>\n",
              "      <td>8345</td>\n",
              "      <td>8000</td>\n",
              "      <td>8300</td>\n",
              "      <td>5008</td>\n",
              "      <td>5008</td>\n",
              "      <td>5002</td>\n",
              "    </tr>\n",
              "  </tbody>\n",
              "</table>\n",
              "<p>600000 rows × 19 columns</p>\n",
              "</div>"
            ],
            "text/plain": [
              "            gameid  participantid  ... statperk1  statperk2\n",
              "0       4621713273              1  ...      5008       5003\n",
              "1       4621713273              2  ...      5003       5002\n",
              "2       4621713273              3  ...      5008       5002\n",
              "3       4621713273              4  ...      5008       5002\n",
              "4       4621713273              5  ...      5008       5002\n",
              "...            ...            ...  ...       ...        ...\n",
              "599995  4637088178              6  ...      5008       5003\n",
              "599996  4637088178              7  ...      5008       5002\n",
              "599997  4637088178              8  ...      5008       5002\n",
              "599998  4637088178              9  ...      5008       5002\n",
              "599999  4637088178             10  ...      5008       5002\n",
              "\n",
              "[600000 rows x 19 columns]"
            ]
          },
          "metadata": {
            "tags": []
          },
          "execution_count": 32
        }
      ]
    },
    {
      "cell_type": "code",
      "metadata": {
        "id": "CkE5Famuuoep"
      },
      "source": [
        "df3 = []\n",
        "for i in range(60000):\n",
        "  data = head[i]['participants']\n",
        "  gameid =head[i]['gameid']\n",
        "  for j in range(10):\n",
        "    stats = data[j]['stats']\n",
        "    df3.append([gameid, data[j]['participantid'], ((stats['kills']+stats['assists'])/max(0.1,stats['deaths'])),stats['kills'], stats['assists'], stats['deaths'], stats['goldearned'],stats['goldspent'],\n",
        "                stats['totalminionskilled'], stats['largestmultikill'], stats['largestkillingspree'], stats['longesttimespentliving'],\n",
        "                stats['totaldamagedealt'], stats['totaldamagedealttochampions'], stats['damagedealttoturrets'], \n",
        "                stats['damageselfmitigated'], stats['totaldamagetaken'], stats['timeccingothers'], stats['totaltimecrowdcontroldealt'],\n",
        "                stats['visionwardsboughtingame'], stats['wardskilled'], stats['visionscore'], stats['wardsplaced']])"
      ],
      "execution_count": 158,
      "outputs": []
    },
    {
      "cell_type": "code",
      "metadata": {
        "id": "pxFTxm-g68eg"
      },
      "source": [
        "Stats = pd.DataFrame(df3, columns=['gameid','participantid','KDA','kills', 'assists','deaths','goldearned', 'goldspent','totalminionskilled',\n",
        "                                   'largestmultikill','largestkillingspree', 'longesttimespentliving', 'totaldamagedealt',\n",
        "                                   'totaldamagedealttochampions','damagedealttoturrets','damageselfmitigated','totaldamagetaken',\n",
        "                                   'timeccingothers','totaltimecrowdcontroldealt','visionwardsboughtingame','wardskilled','visionscore',\n",
        "                                   'wardsplaced'])\n",
        "# gameid,participantid,kills, assistS,deaths,goldearned,totalminionskilled,largestmultikill,largestkillingspree, longesttimespentliving, totaldamagedealt,\n",
        "# totaldamagedealttochampions,damagedealttoturrets,damageselfmitigated,totaldamagetaken,timeccingothers,totaltimecrowdcontroldealt,visionwardsboughtingame,\n",
        "# wardskilled,visionscore,wardsplaced 를  col으로 가지는 stats 데이터 프레임을 만든다."
      ],
      "execution_count": 159,
      "outputs": []
    },
    {
      "cell_type": "code",
      "metadata": {
        "colab": {
          "base_uri": "https://localhost:8080/",
          "height": 443
        },
        "id": "20Xo4kcsAJFX",
        "outputId": "924768b5-93a2-4af9-db9e-e25a1dec3cc6"
      },
      "source": [
        "# 스텟 데이터 프레임을 생성하여 게임과 유저별 데이터에 대해 게임 시작 후에 정해진 데이터를 따로 넣고 필요한 경우에만 가져올 수 있도록 바꾸었다.\n",
        "\n",
        "Stats"
      ],
      "execution_count": 160,
      "outputs": [
        {
          "output_type": "execute_result",
          "data": {
            "text/html": [
              "<div>\n",
              "<style scoped>\n",
              "    .dataframe tbody tr th:only-of-type {\n",
              "        vertical-align: middle;\n",
              "    }\n",
              "\n",
              "    .dataframe tbody tr th {\n",
              "        vertical-align: top;\n",
              "    }\n",
              "\n",
              "    .dataframe thead th {\n",
              "        text-align: right;\n",
              "    }\n",
              "</style>\n",
              "<table border=\"1\" class=\"dataframe\">\n",
              "  <thead>\n",
              "    <tr style=\"text-align: right;\">\n",
              "      <th></th>\n",
              "      <th>gameid</th>\n",
              "      <th>participantid</th>\n",
              "      <th>KDA</th>\n",
              "      <th>kills</th>\n",
              "      <th>assists</th>\n",
              "      <th>deaths</th>\n",
              "      <th>goldearned</th>\n",
              "      <th>goldspent</th>\n",
              "      <th>totalminionskilled</th>\n",
              "      <th>largestmultikill</th>\n",
              "      <th>largestkillingspree</th>\n",
              "      <th>longesttimespentliving</th>\n",
              "      <th>totaldamagedealt</th>\n",
              "      <th>totaldamagedealttochampions</th>\n",
              "      <th>damagedealttoturrets</th>\n",
              "      <th>damageselfmitigated</th>\n",
              "      <th>totaldamagetaken</th>\n",
              "      <th>timeccingothers</th>\n",
              "      <th>totaltimecrowdcontroldealt</th>\n",
              "      <th>visionwardsboughtingame</th>\n",
              "      <th>wardskilled</th>\n",
              "      <th>visionscore</th>\n",
              "      <th>wardsplaced</th>\n",
              "    </tr>\n",
              "  </thead>\n",
              "  <tbody>\n",
              "    <tr>\n",
              "      <th>0</th>\n",
              "      <td>4621713273</td>\n",
              "      <td>1</td>\n",
              "      <td>4.333333</td>\n",
              "      <td>4</td>\n",
              "      <td>9</td>\n",
              "      <td>3</td>\n",
              "      <td>9063</td>\n",
              "      <td>8050</td>\n",
              "      <td>134</td>\n",
              "      <td>1</td>\n",
              "      <td>2</td>\n",
              "      <td>942</td>\n",
              "      <td>70392</td>\n",
              "      <td>15908</td>\n",
              "      <td>1657</td>\n",
              "      <td>13394</td>\n",
              "      <td>23238</td>\n",
              "      <td>13</td>\n",
              "      <td>108</td>\n",
              "      <td>0</td>\n",
              "      <td>7</td>\n",
              "      <td>20</td>\n",
              "      <td>4</td>\n",
              "    </tr>\n",
              "    <tr>\n",
              "      <th>1</th>\n",
              "      <td>4621713273</td>\n",
              "      <td>2</td>\n",
              "      <td>2.142857</td>\n",
              "      <td>3</td>\n",
              "      <td>12</td>\n",
              "      <td>7</td>\n",
              "      <td>7032</td>\n",
              "      <td>5975</td>\n",
              "      <td>23</td>\n",
              "      <td>1</td>\n",
              "      <td>2</td>\n",
              "      <td>617</td>\n",
              "      <td>14066</td>\n",
              "      <td>5469</td>\n",
              "      <td>0</td>\n",
              "      <td>16913</td>\n",
              "      <td>18367</td>\n",
              "      <td>22</td>\n",
              "      <td>83</td>\n",
              "      <td>3</td>\n",
              "      <td>7</td>\n",
              "      <td>58</td>\n",
              "      <td>29</td>\n",
              "    </tr>\n",
              "    <tr>\n",
              "      <th>2</th>\n",
              "      <td>4621713273</td>\n",
              "      <td>3</td>\n",
              "      <td>2.000000</td>\n",
              "      <td>8</td>\n",
              "      <td>4</td>\n",
              "      <td>6</td>\n",
              "      <td>10692</td>\n",
              "      <td>10508</td>\n",
              "      <td>129</td>\n",
              "      <td>2</td>\n",
              "      <td>4</td>\n",
              "      <td>819</td>\n",
              "      <td>89119</td>\n",
              "      <td>22046</td>\n",
              "      <td>2741</td>\n",
              "      <td>23139</td>\n",
              "      <td>29863</td>\n",
              "      <td>13</td>\n",
              "      <td>168</td>\n",
              "      <td>1</td>\n",
              "      <td>0</td>\n",
              "      <td>16</td>\n",
              "      <td>6</td>\n",
              "    </tr>\n",
              "    <tr>\n",
              "      <th>3</th>\n",
              "      <td>4621713273</td>\n",
              "      <td>4</td>\n",
              "      <td>1.000000</td>\n",
              "      <td>2</td>\n",
              "      <td>7</td>\n",
              "      <td>9</td>\n",
              "      <td>8167</td>\n",
              "      <td>7825</td>\n",
              "      <td>31</td>\n",
              "      <td>1</td>\n",
              "      <td>0</td>\n",
              "      <td>309</td>\n",
              "      <td>129234</td>\n",
              "      <td>7308</td>\n",
              "      <td>580</td>\n",
              "      <td>16768</td>\n",
              "      <td>30215</td>\n",
              "      <td>17</td>\n",
              "      <td>186</td>\n",
              "      <td>3</td>\n",
              "      <td>4</td>\n",
              "      <td>19</td>\n",
              "      <td>3</td>\n",
              "    </tr>\n",
              "    <tr>\n",
              "      <th>4</th>\n",
              "      <td>4621713273</td>\n",
              "      <td>5</td>\n",
              "      <td>4.666667</td>\n",
              "      <td>9</td>\n",
              "      <td>5</td>\n",
              "      <td>3</td>\n",
              "      <td>10777</td>\n",
              "      <td>9585</td>\n",
              "      <td>174</td>\n",
              "      <td>1</td>\n",
              "      <td>6</td>\n",
              "      <td>777</td>\n",
              "      <td>106915</td>\n",
              "      <td>18316</td>\n",
              "      <td>0</td>\n",
              "      <td>8360</td>\n",
              "      <td>14532</td>\n",
              "      <td>1</td>\n",
              "      <td>14</td>\n",
              "      <td>0</td>\n",
              "      <td>5</td>\n",
              "      <td>23</td>\n",
              "      <td>8</td>\n",
              "    </tr>\n",
              "    <tr>\n",
              "      <th>...</th>\n",
              "      <td>...</td>\n",
              "      <td>...</td>\n",
              "      <td>...</td>\n",
              "      <td>...</td>\n",
              "      <td>...</td>\n",
              "      <td>...</td>\n",
              "      <td>...</td>\n",
              "      <td>...</td>\n",
              "      <td>...</td>\n",
              "      <td>...</td>\n",
              "      <td>...</td>\n",
              "      <td>...</td>\n",
              "      <td>...</td>\n",
              "      <td>...</td>\n",
              "      <td>...</td>\n",
              "      <td>...</td>\n",
              "      <td>...</td>\n",
              "      <td>...</td>\n",
              "      <td>...</td>\n",
              "      <td>...</td>\n",
              "      <td>...</td>\n",
              "      <td>...</td>\n",
              "      <td>...</td>\n",
              "    </tr>\n",
              "    <tr>\n",
              "      <th>599995</th>\n",
              "      <td>4637088178</td>\n",
              "      <td>6</td>\n",
              "      <td>6.000000</td>\n",
              "      <td>4</td>\n",
              "      <td>2</td>\n",
              "      <td>1</td>\n",
              "      <td>8280</td>\n",
              "      <td>7358</td>\n",
              "      <td>139</td>\n",
              "      <td>1</td>\n",
              "      <td>3</td>\n",
              "      <td>1005</td>\n",
              "      <td>76861</td>\n",
              "      <td>9414</td>\n",
              "      <td>0</td>\n",
              "      <td>11928</td>\n",
              "      <td>17190</td>\n",
              "      <td>8</td>\n",
              "      <td>51</td>\n",
              "      <td>1</td>\n",
              "      <td>1</td>\n",
              "      <td>12</td>\n",
              "      <td>6</td>\n",
              "    </tr>\n",
              "    <tr>\n",
              "      <th>599996</th>\n",
              "      <td>4637088178</td>\n",
              "      <td>7</td>\n",
              "      <td>1.750000</td>\n",
              "      <td>1</td>\n",
              "      <td>6</td>\n",
              "      <td>4</td>\n",
              "      <td>6850</td>\n",
              "      <td>6700</td>\n",
              "      <td>30</td>\n",
              "      <td>1</td>\n",
              "      <td>0</td>\n",
              "      <td>519</td>\n",
              "      <td>100167</td>\n",
              "      <td>5765</td>\n",
              "      <td>0</td>\n",
              "      <td>11347</td>\n",
              "      <td>21133</td>\n",
              "      <td>25</td>\n",
              "      <td>587</td>\n",
              "      <td>0</td>\n",
              "      <td>3</td>\n",
              "      <td>22</td>\n",
              "      <td>0</td>\n",
              "    </tr>\n",
              "    <tr>\n",
              "      <th>599997</th>\n",
              "      <td>4637088178</td>\n",
              "      <td>8</td>\n",
              "      <td>0.875000</td>\n",
              "      <td>4</td>\n",
              "      <td>3</td>\n",
              "      <td>8</td>\n",
              "      <td>7299</td>\n",
              "      <td>6150</td>\n",
              "      <td>69</td>\n",
              "      <td>1</td>\n",
              "      <td>2</td>\n",
              "      <td>483</td>\n",
              "      <td>43735</td>\n",
              "      <td>13285</td>\n",
              "      <td>0</td>\n",
              "      <td>4205</td>\n",
              "      <td>12881</td>\n",
              "      <td>14</td>\n",
              "      <td>212</td>\n",
              "      <td>4</td>\n",
              "      <td>2</td>\n",
              "      <td>16</td>\n",
              "      <td>9</td>\n",
              "    </tr>\n",
              "    <tr>\n",
              "      <th>599998</th>\n",
              "      <td>4637088178</td>\n",
              "      <td>9</td>\n",
              "      <td>2.000000</td>\n",
              "      <td>1</td>\n",
              "      <td>5</td>\n",
              "      <td>3</td>\n",
              "      <td>4375</td>\n",
              "      <td>4500</td>\n",
              "      <td>19</td>\n",
              "      <td>1</td>\n",
              "      <td>0</td>\n",
              "      <td>779</td>\n",
              "      <td>9800</td>\n",
              "      <td>3272</td>\n",
              "      <td>0</td>\n",
              "      <td>2190</td>\n",
              "      <td>5924</td>\n",
              "      <td>14</td>\n",
              "      <td>47</td>\n",
              "      <td>0</td>\n",
              "      <td>0</td>\n",
              "      <td>2</td>\n",
              "      <td>2</td>\n",
              "    </tr>\n",
              "    <tr>\n",
              "      <th>599999</th>\n",
              "      <td>4637088178</td>\n",
              "      <td>10</td>\n",
              "      <td>1.200000</td>\n",
              "      <td>5</td>\n",
              "      <td>1</td>\n",
              "      <td>5</td>\n",
              "      <td>9734</td>\n",
              "      <td>8325</td>\n",
              "      <td>181</td>\n",
              "      <td>1</td>\n",
              "      <td>3</td>\n",
              "      <td>788</td>\n",
              "      <td>94773</td>\n",
              "      <td>9704</td>\n",
              "      <td>729</td>\n",
              "      <td>12777</td>\n",
              "      <td>20489</td>\n",
              "      <td>11</td>\n",
              "      <td>59</td>\n",
              "      <td>1</td>\n",
              "      <td>4</td>\n",
              "      <td>14</td>\n",
              "      <td>7</td>\n",
              "    </tr>\n",
              "  </tbody>\n",
              "</table>\n",
              "<p>600000 rows × 23 columns</p>\n",
              "</div>"
            ],
            "text/plain": [
              "            gameid  participantid  ...  visionscore  wardsplaced\n",
              "0       4621713273              1  ...           20            4\n",
              "1       4621713273              2  ...           58           29\n",
              "2       4621713273              3  ...           16            6\n",
              "3       4621713273              4  ...           19            3\n",
              "4       4621713273              5  ...           23            8\n",
              "...            ...            ...  ...          ...          ...\n",
              "599995  4637088178              6  ...           12            6\n",
              "599996  4637088178              7  ...           22            0\n",
              "599997  4637088178              8  ...           16            9\n",
              "599998  4637088178              9  ...            2            2\n",
              "599999  4637088178             10  ...           14            7\n",
              "\n",
              "[600000 rows x 23 columns]"
            ]
          },
          "metadata": {
            "tags": []
          },
          "execution_count": 160
        }
      ]
    },
    {
      "cell_type": "code",
      "metadata": {
        "id": "_EwYfAaVXJJq"
      },
      "source": [
        "df4 = []\n",
        "for i in range(60000):\n",
        "  team = head[i]['teams']\n",
        "  id = head[i]['gameid']\n",
        "  for j in range(2):\n",
        "    df4.append([id, team[j]['teamid'], team[j]['win'], team[j]['inhibitorkills'],team[1-j]['inhibitorkills'], team[j]['firstdragon'], \n",
        "                team[j]['firsttower'], team[j]['firstinhibitor'], team[j]['firstblood'], team[j]['firstriftherald'], team[j]['firstbaron'], \n",
        "                team[j]['towerkills'], team[j]['dragonkills'], team[j]['riftheraldkills'], team[j]['baronkills']])"
      ],
      "execution_count": 161,
      "outputs": []
    },
    {
      "cell_type": "code",
      "metadata": {
        "id": "UNXImX29loe3"
      },
      "source": [
        "Team = pd.DataFrame(df4, columns=['gameid', 'teamid', 'win', 'inhibitorkills','inhibitorkilled','firstdragon','firsttower','firstinhibitor',\n",
        "                                  'firstblood','firstriftherald','firstbaron','towerkills','dragonkills','riftheraldkills','baronkills'])\n",
        "# gameid, teamid, win, inhibitorkills을 col으로 가지는 game 데이터 프레임을 만든다."
      ],
      "execution_count": 162,
      "outputs": []
    },
    {
      "cell_type": "code",
      "metadata": {
        "colab": {
          "base_uri": "https://localhost:8080/",
          "height": 443
        },
        "id": "UzMsoy1Wlyv2",
        "outputId": "5b480cb9-2fe7-4897-cfb2-c947f9616aa1"
      },
      "source": [
        "# 팀 데이터 프레임을 생성하여 게임별 팀 상황에 대한 데이터를 따로 넣고 필요한 경우에만 가져올 수 있도록 바꾸었다.\n",
        "\n",
        "Team"
      ],
      "execution_count": 163,
      "outputs": [
        {
          "output_type": "execute_result",
          "data": {
            "text/html": [
              "<div>\n",
              "<style scoped>\n",
              "    .dataframe tbody tr th:only-of-type {\n",
              "        vertical-align: middle;\n",
              "    }\n",
              "\n",
              "    .dataframe tbody tr th {\n",
              "        vertical-align: top;\n",
              "    }\n",
              "\n",
              "    .dataframe thead th {\n",
              "        text-align: right;\n",
              "    }\n",
              "</style>\n",
              "<table border=\"1\" class=\"dataframe\">\n",
              "  <thead>\n",
              "    <tr style=\"text-align: right;\">\n",
              "      <th></th>\n",
              "      <th>gameid</th>\n",
              "      <th>teamid</th>\n",
              "      <th>win</th>\n",
              "      <th>inhibitorkills</th>\n",
              "      <th>inhibitorkilled</th>\n",
              "      <th>firstdragon</th>\n",
              "      <th>firsttower</th>\n",
              "      <th>firstinhibitor</th>\n",
              "      <th>firstblood</th>\n",
              "      <th>firstriftherald</th>\n",
              "      <th>firstbaron</th>\n",
              "      <th>towerkills</th>\n",
              "      <th>dragonkills</th>\n",
              "      <th>riftheraldkills</th>\n",
              "      <th>baronkills</th>\n",
              "    </tr>\n",
              "  </thead>\n",
              "  <tbody>\n",
              "    <tr>\n",
              "      <th>0</th>\n",
              "      <td>4621713273</td>\n",
              "      <td>100</td>\n",
              "      <td>Fail</td>\n",
              "      <td>0</td>\n",
              "      <td>0</td>\n",
              "      <td>False</td>\n",
              "      <td>True</td>\n",
              "      <td>False</td>\n",
              "      <td>True</td>\n",
              "      <td>True</td>\n",
              "      <td>False</td>\n",
              "      <td>2</td>\n",
              "      <td>1</td>\n",
              "      <td>2</td>\n",
              "      <td>0</td>\n",
              "    </tr>\n",
              "    <tr>\n",
              "      <th>1</th>\n",
              "      <td>4621713273</td>\n",
              "      <td>200</td>\n",
              "      <td>Win</td>\n",
              "      <td>0</td>\n",
              "      <td>0</td>\n",
              "      <td>True</td>\n",
              "      <td>False</td>\n",
              "      <td>False</td>\n",
              "      <td>False</td>\n",
              "      <td>False</td>\n",
              "      <td>True</td>\n",
              "      <td>5</td>\n",
              "      <td>2</td>\n",
              "      <td>0</td>\n",
              "      <td>1</td>\n",
              "    </tr>\n",
              "    <tr>\n",
              "      <th>2</th>\n",
              "      <td>4621713359</td>\n",
              "      <td>100</td>\n",
              "      <td>Fail</td>\n",
              "      <td>0</td>\n",
              "      <td>1</td>\n",
              "      <td>True</td>\n",
              "      <td>False</td>\n",
              "      <td>False</td>\n",
              "      <td>True</td>\n",
              "      <td>True</td>\n",
              "      <td>False</td>\n",
              "      <td>4</td>\n",
              "      <td>1</td>\n",
              "      <td>2</td>\n",
              "      <td>0</td>\n",
              "    </tr>\n",
              "    <tr>\n",
              "      <th>3</th>\n",
              "      <td>4621713359</td>\n",
              "      <td>200</td>\n",
              "      <td>Win</td>\n",
              "      <td>1</td>\n",
              "      <td>0</td>\n",
              "      <td>False</td>\n",
              "      <td>True</td>\n",
              "      <td>True</td>\n",
              "      <td>False</td>\n",
              "      <td>False</td>\n",
              "      <td>True</td>\n",
              "      <td>6</td>\n",
              "      <td>4</td>\n",
              "      <td>0</td>\n",
              "      <td>1</td>\n",
              "    </tr>\n",
              "    <tr>\n",
              "      <th>4</th>\n",
              "      <td>4621713434</td>\n",
              "      <td>100</td>\n",
              "      <td>Fail</td>\n",
              "      <td>0</td>\n",
              "      <td>2</td>\n",
              "      <td>False</td>\n",
              "      <td>False</td>\n",
              "      <td>False</td>\n",
              "      <td>True</td>\n",
              "      <td>True</td>\n",
              "      <td>False</td>\n",
              "      <td>1</td>\n",
              "      <td>0</td>\n",
              "      <td>2</td>\n",
              "      <td>0</td>\n",
              "    </tr>\n",
              "    <tr>\n",
              "      <th>...</th>\n",
              "      <td>...</td>\n",
              "      <td>...</td>\n",
              "      <td>...</td>\n",
              "      <td>...</td>\n",
              "      <td>...</td>\n",
              "      <td>...</td>\n",
              "      <td>...</td>\n",
              "      <td>...</td>\n",
              "      <td>...</td>\n",
              "      <td>...</td>\n",
              "      <td>...</td>\n",
              "      <td>...</td>\n",
              "      <td>...</td>\n",
              "      <td>...</td>\n",
              "      <td>...</td>\n",
              "    </tr>\n",
              "    <tr>\n",
              "      <th>119995</th>\n",
              "      <td>4637088062</td>\n",
              "      <td>200</td>\n",
              "      <td>Fail</td>\n",
              "      <td>0</td>\n",
              "      <td>2</td>\n",
              "      <td>False</td>\n",
              "      <td>False</td>\n",
              "      <td>False</td>\n",
              "      <td>False</td>\n",
              "      <td>True</td>\n",
              "      <td>False</td>\n",
              "      <td>1</td>\n",
              "      <td>0</td>\n",
              "      <td>1</td>\n",
              "      <td>0</td>\n",
              "    </tr>\n",
              "    <tr>\n",
              "      <th>119996</th>\n",
              "      <td>4637088065</td>\n",
              "      <td>100</td>\n",
              "      <td>Fail</td>\n",
              "      <td>0</td>\n",
              "      <td>2</td>\n",
              "      <td>False</td>\n",
              "      <td>False</td>\n",
              "      <td>False</td>\n",
              "      <td>False</td>\n",
              "      <td>False</td>\n",
              "      <td>False</td>\n",
              "      <td>2</td>\n",
              "      <td>2</td>\n",
              "      <td>0</td>\n",
              "      <td>0</td>\n",
              "    </tr>\n",
              "    <tr>\n",
              "      <th>119997</th>\n",
              "      <td>4637088065</td>\n",
              "      <td>200</td>\n",
              "      <td>Win</td>\n",
              "      <td>2</td>\n",
              "      <td>0</td>\n",
              "      <td>True</td>\n",
              "      <td>True</td>\n",
              "      <td>True</td>\n",
              "      <td>True</td>\n",
              "      <td>True</td>\n",
              "      <td>True</td>\n",
              "      <td>9</td>\n",
              "      <td>2</td>\n",
              "      <td>2</td>\n",
              "      <td>2</td>\n",
              "    </tr>\n",
              "    <tr>\n",
              "      <th>119998</th>\n",
              "      <td>4637088178</td>\n",
              "      <td>100</td>\n",
              "      <td>Win</td>\n",
              "      <td>2</td>\n",
              "      <td>0</td>\n",
              "      <td>True</td>\n",
              "      <td>True</td>\n",
              "      <td>True</td>\n",
              "      <td>True</td>\n",
              "      <td>True</td>\n",
              "      <td>True</td>\n",
              "      <td>10</td>\n",
              "      <td>3</td>\n",
              "      <td>2</td>\n",
              "      <td>1</td>\n",
              "    </tr>\n",
              "    <tr>\n",
              "      <th>119999</th>\n",
              "      <td>4637088178</td>\n",
              "      <td>200</td>\n",
              "      <td>Fail</td>\n",
              "      <td>0</td>\n",
              "      <td>2</td>\n",
              "      <td>False</td>\n",
              "      <td>False</td>\n",
              "      <td>False</td>\n",
              "      <td>False</td>\n",
              "      <td>False</td>\n",
              "      <td>False</td>\n",
              "      <td>0</td>\n",
              "      <td>0</td>\n",
              "      <td>0</td>\n",
              "      <td>0</td>\n",
              "    </tr>\n",
              "  </tbody>\n",
              "</table>\n",
              "<p>120000 rows × 15 columns</p>\n",
              "</div>"
            ],
            "text/plain": [
              "            gameid  teamid   win  ...  dragonkills  riftheraldkills  baronkills\n",
              "0       4621713273     100  Fail  ...            1                2           0\n",
              "1       4621713273     200   Win  ...            2                0           1\n",
              "2       4621713359     100  Fail  ...            1                2           0\n",
              "3       4621713359     200   Win  ...            4                0           1\n",
              "4       4621713434     100  Fail  ...            0                2           0\n",
              "...            ...     ...   ...  ...          ...              ...         ...\n",
              "119995  4637088062     200  Fail  ...            0                1           0\n",
              "119996  4637088065     100  Fail  ...            2                0           0\n",
              "119997  4637088065     200   Win  ...            2                2           2\n",
              "119998  4637088178     100   Win  ...            3                2           1\n",
              "119999  4637088178     200  Fail  ...            0                0           0\n",
              "\n",
              "[120000 rows x 15 columns]"
            ]
          },
          "metadata": {
            "tags": []
          },
          "execution_count": 163
        }
      ]
    },
    {
      "cell_type": "code",
      "metadata": {
        "id": "QLfmL6MkJCxJ"
      },
      "source": [
        "# 모델학습의 과정\n",
        "\n",
        "# 데이터 타겟 설정과 모델 설정 이유 : 어느 티어에 어느 라인, 어느 직업을 선택하는 것이 승리에 더 도움이 되는지 추천하기 위함\n",
        "# 데이터 분석에 대한 특징 : 데이터 중에서 억제기가 부셔진 데이터 합이 0인 데이터는 항복한 판이므로 제외한다.\n",
        "\n",
        "# 데이터 분류에 대한 타겟 : 어떤 요소가 승리에 가장 도움이 되는지 판단하여 승리를 위한 추천 행동 제시\n",
        "# 타겟을 구하기 위한 칼럼 : 유저팀 별 데이터와 유저 개인 데이터를 나누어 수집한 데이터에 대하여 모델을 생성한다.\n",
        "\n",
        "# 데이터 분석 이후 결론 : 데이터 모델에서 승리 타겟에 가장 타겟 중요도가 높은 특징 5가지를 가져와 보여준다.\n",
        "\n",
        "# y_col : Team_table의 win\n",
        "\n",
        "# X_col_by_team : 'gameid', 'teamid', 'win', 'inhibitorkills','inhibitorkilled','firstdragon','firsttower', 'firstinhibitor', \n",
        "# 'firstblood','firstriftherald','firstbaron','towerkills','dragonkills','riftheraldkills','baronkills'\n",
        "\n",
        "# X_col_by_user : 'gameid', 'participantid', 'summonerid', 'teamid','banid', 'pickid', 'role', 'lane',\n",
        "# 'perk0','perk1','perk2', 'perk3','perk4','perk5','perkprimarystyle','perksubstyle','statperk0','statperk1','statperk2'\n",
        "\n",
        "# 위의 데이터 중 banid와 pickid는 chapion table을 통해 tags를 가져온다.\n",
        "# summonerid, lane는 크게 의미가 없으므로 제거한다.\n",
        "\n",
        "# X_col_by_Stats : 'gameid','participantid','kills', 'assists','deaths','goldearned', 'goldspent','totalminionskilled',\n",
        "# 'largestmultikill','largestkillingspree', 'longesttimespentliving', 'totaldamagedealt', 'totaldamagedealttochampions','damagedealttoturrets',\n",
        "# 'damageselfmitigated','totaldamagetaken', 'timeccingothers','totaltimecrowdcontroldealt','visionwardsboughtingame','wardskilled','visionscore',\n",
        "# 'wardsplaced'\n",
        "\n",
        "# 개인 특징과 팀 특징을 따로 모델을 구성하여 처리한다."
      ],
      "execution_count": 164,
      "outputs": []
    },
    {
      "cell_type": "code",
      "metadata": {
        "id": "afQBSEiYODGg"
      },
      "source": [
        "import numpy as np"
      ],
      "execution_count": 165,
      "outputs": []
    },
    {
      "cell_type": "code",
      "metadata": {
        "id": "bQsHgmp9ZyCC"
      },
      "source": [
        "win_team = Team[Team['win']=='Win']"
      ],
      "execution_count": 166,
      "outputs": []
    },
    {
      "cell_type": "code",
      "metadata": {
        "colab": {
          "base_uri": "https://localhost:8080/"
        },
        "id": "2b74f-l6PHBK",
        "outputId": "ea8b09ba-34ab-4f5a-f7ad-40060b78c374"
      },
      "source": [
        "for i in win_team.columns:\n",
        "  print(i)"
      ],
      "execution_count": 167,
      "outputs": [
        {
          "output_type": "stream",
          "text": [
            "gameid\n",
            "teamid\n",
            "win\n",
            "inhibitorkills\n",
            "inhibitorkilled\n",
            "firstdragon\n",
            "firsttower\n",
            "firstinhibitor\n",
            "firstblood\n",
            "firstriftherald\n",
            "firstbaron\n",
            "towerkills\n",
            "dragonkills\n",
            "riftheraldkills\n",
            "baronkills\n"
          ],
          "name": "stdout"
        }
      ]
    },
    {
      "cell_type": "code",
      "metadata": {
        "id": "8jX-fsgJOn_R"
      },
      "source": [
        "check_list = ['teamid','firstdragon', 'firsttower', 'firstinhibitor', 'firstblood','firstriftherald', 'firstbaron']"
      ],
      "execution_count": 168,
      "outputs": []
    },
    {
      "cell_type": "code",
      "metadata": {
        "colab": {
          "base_uri": "https://localhost:8080/"
        },
        "id": "GenJlxmDOOxi",
        "outputId": "d5c3cc9e-ac6b-48a7-f2c5-95142d5f5f55"
      },
      "source": [
        "for i in check_list:\n",
        "  print(win_team[i].value_counts(normalize=True), '\\n')"
      ],
      "execution_count": 169,
      "outputs": [
        {
          "output_type": "stream",
          "text": [
            "100    0.517167\n",
            "200    0.482833\n",
            "Name: teamid, dtype: float64 \n",
            "\n",
            "True     0.63055\n",
            "False    0.36945\n",
            "Name: firstdragon, dtype: float64 \n",
            "\n",
            "True     0.744467\n",
            "False    0.255533\n",
            "Name: firsttower, dtype: float64 \n",
            "\n",
            "True     0.7182\n",
            "False    0.2818\n",
            "Name: firstinhibitor, dtype: float64 \n",
            "\n",
            "True     0.609633\n",
            "False    0.390367\n",
            "Name: firstblood, dtype: float64 \n",
            "\n",
            "True     0.6343\n",
            "False    0.3657\n",
            "Name: firstriftherald, dtype: float64 \n",
            "\n",
            "False    0.526833\n",
            "True     0.473167\n",
            "Name: firstbaron, dtype: float64 \n",
            "\n"
          ],
          "name": "stdout"
        }
      ]
    },
    {
      "cell_type": "code",
      "metadata": {
        "colab": {
          "base_uri": "https://localhost:8080/"
        },
        "id": "bVEimRMiUIvp",
        "outputId": "47589a3b-0462-4436-bcd3-6adaf9422434"
      },
      "source": [
        "for i in check_list:\n",
        "  print(Team[Team['win']=='Fail'][i].value_counts(normalize=True), '\\n')"
      ],
      "execution_count": 170,
      "outputs": [
        {
          "output_type": "stream",
          "text": [
            "200    0.517167\n",
            "100    0.482833\n",
            "Name: teamid, dtype: float64 \n",
            "\n",
            "False    0.656067\n",
            "True     0.343933\n",
            "Name: firstdragon, dtype: float64 \n",
            "\n",
            "False    0.75685\n",
            "True     0.24315\n",
            "Name: firsttower, dtype: float64 \n",
            "\n",
            "False    0.9563\n",
            "True     0.0437\n",
            "Name: firstinhibitor, dtype: float64 \n",
            "\n",
            "False    0.611983\n",
            "True     0.388017\n",
            "Name: firstblood, dtype: float64 \n",
            "\n",
            "False    0.670483\n",
            "True     0.329517\n",
            "Name: firstriftherald, dtype: float64 \n",
            "\n",
            "False    0.9129\n",
            "True     0.0871\n",
            "Name: firstbaron, dtype: float64 \n",
            "\n"
          ],
          "name": "stdout"
        }
      ]
    },
    {
      "cell_type": "code",
      "metadata": {
        "id": "_G-BDrIDTqv1"
      },
      "source": [
        "# 블루팀과 레드팀의 경우 근소한 차이로 블루팀이 유리하다.\n",
        "# 억제기를 처음 파괴한 팀이 패배할 확률이 약 5%로 매우 낮다.\n",
        "# 첫 바론을 처치한 팀이 패배할 확률이 약 10%로 매우 낮다.\n",
        "# 첫 포탑을 파괴한 팀이 패배할 확률 이 약 25%로 낮다.\n",
        "# 첫 전령을 처치한 팀이 패배할 확률이 약 32%로 낮다.\n",
        "# 첫 용을 처치한 팀이 패배할 확률이 약 35%로 낮다.\n",
        "# 퍼블을 획득한 팀이 패배할 확률은 약 39%로 낮다.\n",
        "# 레드팀이 이길 확률은 약 49%로 낮다.\n",
        "\n",
        "# 승리했을 때를 조사하면 항복한 경우가 포함되어 있기 때문에 정확한 판단이 어렵다."
      ],
      "execution_count": 171,
      "outputs": []
    },
    {
      "cell_type": "code",
      "metadata": {
        "id": "95U8mnVDRGEL"
      },
      "source": [
        "number_list = ['win', 'inhibitorkills', 'inhibitorkilled', 'towerkills', 'dragonkills', 'riftheraldkills', 'baronkills']"
      ],
      "execution_count": 172,
      "outputs": []
    },
    {
      "cell_type": "code",
      "metadata": {
        "colab": {
          "base_uri": "https://localhost:8080/"
        },
        "id": "sfXnpuAYRjLc",
        "outputId": "d0ed5f31-3354-4473-b5ad-528257e3d30d"
      },
      "source": [
        "for i in number_list[1:]:\n",
        "  print(Team[['win',i]].value_counts(), '\\n')"
      ],
      "execution_count": 173,
      "outputs": [
        {
          "output_type": "stream",
          "text": [
            "win   inhibitorkills\n",
            "Fail  0                 56623\n",
            "Win   1                 27659\n",
            "      0                 14411\n",
            "      2                 13039\n",
            "      3                  3881\n",
            "Fail  1                  2485\n",
            "Win   4                   802\n",
            "Fail  2                   647\n",
            "      3                   174\n",
            "Win   5                   163\n",
            "Fail  4                    52\n",
            "Win   6                    34\n",
            "      7                    11\n",
            "Fail  5                    10\n",
            "      6                     6\n",
            "      7                     3\n",
            "dtype: int64 \n",
            "\n",
            "win   inhibitorkilled\n",
            "Win   0                  56623\n",
            "Fail  1                  27659\n",
            "      0                  14411\n",
            "      2                  13039\n",
            "      3                   3881\n",
            "Win   1                   2485\n",
            "Fail  4                    802\n",
            "Win   2                    647\n",
            "      3                    174\n",
            "Fail  5                    163\n",
            "Win   4                     52\n",
            "Fail  6                     34\n",
            "      7                     11\n",
            "Win   5                     10\n",
            "      6                      6\n",
            "      7                      3\n",
            "dtype: int64 \n",
            "\n",
            "win   towerkills\n",
            "Fail  0             21744\n",
            "      1             12022\n",
            "Win   7              9929\n",
            "      9              9736\n",
            "Fail  2              8915\n",
            "Win   8              8877\n",
            "Fail  3              7150\n",
            "Win   10             6407\n",
            "      6              5603\n",
            "      5              4777\n",
            "Fail  4              4295\n",
            "Win   11             4279\n",
            "      4              3742\n",
            "      3              3264\n",
            "Fail  5              2678\n",
            "Win   2              1885\n",
            "Fail  6              1415\n",
            "      7               897\n",
            "Win   0               784\n",
            "      1               717\n",
            "Fail  8               486\n",
            "      9               256\n",
            "      10              104\n",
            "      11               38\n",
            "dtype: int64 \n",
            "\n",
            "win   dragonkills\n",
            "Fail  0              25868\n",
            "Win   2              19576\n",
            "Fail  1              18261\n",
            "Win   3              16475\n",
            "      1              10870\n",
            "Fail  2              10042\n",
            "Win   4               9260\n",
            "Fail  3               4640\n",
            "Win   0               2889\n",
            "Fail  4               1120\n",
            "Win   5                902\n",
            "Fail  5                 67\n",
            "Win   6                 26\n",
            "      7                  2\n",
            "Fail  6                  2\n",
            "dtype: int64 \n",
            "\n",
            "win   riftheraldkills\n",
            "Fail  0                  36504\n",
            "Win   1                  28912\n",
            "Fail  1                  18373\n",
            "Win   2                  17036\n",
            "      0                  14052\n",
            "Fail  2                   5123\n",
            "dtype: int64 \n",
            "\n",
            "win   baronkills\n",
            "Fail  0             53741\n",
            "Win   0             29286\n",
            "      1             26002\n",
            "Fail  1              5438\n",
            "Win   2              4487\n",
            "Fail  2               752\n",
            "Win   3               217\n",
            "Fail  3                65\n",
            "Win   4                 8\n",
            "Fail  4                 4\n",
            "dtype: int64 \n",
            "\n"
          ],
          "name": "stdout"
        }
      ]
    },
    {
      "cell_type": "code",
      "metadata": {
        "id": "VvAS7b0bV09t"
      },
      "source": [
        "# 처치한 개수를 통해 데이터를 판단해야 하는 경우 각 경우를 모두 판단해야 하지만 특성 중요도를 활용하여 대략적인 판단 근거를 제시할 수 있다."
      ],
      "execution_count": 174,
      "outputs": []
    },
    {
      "cell_type": "code",
      "metadata": {
        "id": "F31bDMm-Wkyk"
      },
      "source": [
        "from sklearn.ensemble import RandomForestClassifier\n",
        "from sklearn.metrics import accuracy_score"
      ],
      "execution_count": 175,
      "outputs": []
    },
    {
      "cell_type": "code",
      "metadata": {
        "id": "I-1XrJaBXbn_"
      },
      "source": [
        "target = 'win'\n",
        "y_train = Team[target]\n",
        "X_train = Team.drop([target,'gameid','inhibitorkills','firstdragon', 'firsttower', 'firstinhibitor', 'firstblood','firstriftherald', 'firstbaron'],axis=1)"
      ],
      "execution_count": 176,
      "outputs": []
    },
    {
      "cell_type": "code",
      "metadata": {
        "colab": {
          "base_uri": "https://localhost:8080/",
          "height": 423
        },
        "id": "MJpA5BV8ZLei",
        "outputId": "3b459ed2-ad89-4952-e874-009bc50de28d"
      },
      "source": [
        "X_train"
      ],
      "execution_count": 177,
      "outputs": [
        {
          "output_type": "execute_result",
          "data": {
            "text/html": [
              "<div>\n",
              "<style scoped>\n",
              "    .dataframe tbody tr th:only-of-type {\n",
              "        vertical-align: middle;\n",
              "    }\n",
              "\n",
              "    .dataframe tbody tr th {\n",
              "        vertical-align: top;\n",
              "    }\n",
              "\n",
              "    .dataframe thead th {\n",
              "        text-align: right;\n",
              "    }\n",
              "</style>\n",
              "<table border=\"1\" class=\"dataframe\">\n",
              "  <thead>\n",
              "    <tr style=\"text-align: right;\">\n",
              "      <th></th>\n",
              "      <th>teamid</th>\n",
              "      <th>inhibitorkilled</th>\n",
              "      <th>towerkills</th>\n",
              "      <th>dragonkills</th>\n",
              "      <th>riftheraldkills</th>\n",
              "      <th>baronkills</th>\n",
              "    </tr>\n",
              "  </thead>\n",
              "  <tbody>\n",
              "    <tr>\n",
              "      <th>0</th>\n",
              "      <td>100</td>\n",
              "      <td>0</td>\n",
              "      <td>2</td>\n",
              "      <td>1</td>\n",
              "      <td>2</td>\n",
              "      <td>0</td>\n",
              "    </tr>\n",
              "    <tr>\n",
              "      <th>1</th>\n",
              "      <td>200</td>\n",
              "      <td>0</td>\n",
              "      <td>5</td>\n",
              "      <td>2</td>\n",
              "      <td>0</td>\n",
              "      <td>1</td>\n",
              "    </tr>\n",
              "    <tr>\n",
              "      <th>2</th>\n",
              "      <td>100</td>\n",
              "      <td>1</td>\n",
              "      <td>4</td>\n",
              "      <td>1</td>\n",
              "      <td>2</td>\n",
              "      <td>0</td>\n",
              "    </tr>\n",
              "    <tr>\n",
              "      <th>3</th>\n",
              "      <td>200</td>\n",
              "      <td>0</td>\n",
              "      <td>6</td>\n",
              "      <td>4</td>\n",
              "      <td>0</td>\n",
              "      <td>1</td>\n",
              "    </tr>\n",
              "    <tr>\n",
              "      <th>4</th>\n",
              "      <td>100</td>\n",
              "      <td>2</td>\n",
              "      <td>1</td>\n",
              "      <td>0</td>\n",
              "      <td>2</td>\n",
              "      <td>0</td>\n",
              "    </tr>\n",
              "    <tr>\n",
              "      <th>...</th>\n",
              "      <td>...</td>\n",
              "      <td>...</td>\n",
              "      <td>...</td>\n",
              "      <td>...</td>\n",
              "      <td>...</td>\n",
              "      <td>...</td>\n",
              "    </tr>\n",
              "    <tr>\n",
              "      <th>119995</th>\n",
              "      <td>200</td>\n",
              "      <td>2</td>\n",
              "      <td>1</td>\n",
              "      <td>0</td>\n",
              "      <td>1</td>\n",
              "      <td>0</td>\n",
              "    </tr>\n",
              "    <tr>\n",
              "      <th>119996</th>\n",
              "      <td>100</td>\n",
              "      <td>2</td>\n",
              "      <td>2</td>\n",
              "      <td>2</td>\n",
              "      <td>0</td>\n",
              "      <td>0</td>\n",
              "    </tr>\n",
              "    <tr>\n",
              "      <th>119997</th>\n",
              "      <td>200</td>\n",
              "      <td>0</td>\n",
              "      <td>9</td>\n",
              "      <td>2</td>\n",
              "      <td>2</td>\n",
              "      <td>2</td>\n",
              "    </tr>\n",
              "    <tr>\n",
              "      <th>119998</th>\n",
              "      <td>100</td>\n",
              "      <td>0</td>\n",
              "      <td>10</td>\n",
              "      <td>3</td>\n",
              "      <td>2</td>\n",
              "      <td>1</td>\n",
              "    </tr>\n",
              "    <tr>\n",
              "      <th>119999</th>\n",
              "      <td>200</td>\n",
              "      <td>2</td>\n",
              "      <td>0</td>\n",
              "      <td>0</td>\n",
              "      <td>0</td>\n",
              "      <td>0</td>\n",
              "    </tr>\n",
              "  </tbody>\n",
              "</table>\n",
              "<p>120000 rows × 6 columns</p>\n",
              "</div>"
            ],
            "text/plain": [
              "        teamid  inhibitorkilled  ...  riftheraldkills  baronkills\n",
              "0          100                0  ...                2           0\n",
              "1          200                0  ...                0           1\n",
              "2          100                1  ...                2           0\n",
              "3          200                0  ...                0           1\n",
              "4          100                2  ...                2           0\n",
              "...        ...              ...  ...              ...         ...\n",
              "119995     200                2  ...                1           0\n",
              "119996     100                2  ...                0           0\n",
              "119997     200                0  ...                2           2\n",
              "119998     100                0  ...                2           1\n",
              "119999     200                2  ...                0           0\n",
              "\n",
              "[120000 rows x 6 columns]"
            ]
          },
          "metadata": {
            "tags": []
          },
          "execution_count": 177
        }
      ]
    },
    {
      "cell_type": "code",
      "metadata": {
        "colab": {
          "base_uri": "https://localhost:8080/"
        },
        "id": "19yoLpe6XTQR",
        "outputId": "b1d6b9e4-aee8-48da-fa69-eb5c767c6e3d"
      },
      "source": [
        "model = RandomForestClassifier(n_estimators=100, random_state=42)\n",
        "model.fit(X_train,y_train)"
      ],
      "execution_count": 178,
      "outputs": [
        {
          "output_type": "execute_result",
          "data": {
            "text/plain": [
              "RandomForestClassifier(bootstrap=True, ccp_alpha=0.0, class_weight=None,\n",
              "                       criterion='gini', max_depth=None, max_features='auto',\n",
              "                       max_leaf_nodes=None, max_samples=None,\n",
              "                       min_impurity_decrease=0.0, min_impurity_split=None,\n",
              "                       min_samples_leaf=1, min_samples_split=2,\n",
              "                       min_weight_fraction_leaf=0.0, n_estimators=100,\n",
              "                       n_jobs=None, oob_score=False, random_state=42, verbose=0,\n",
              "                       warm_start=False)"
            ]
          },
          "metadata": {
            "tags": []
          },
          "execution_count": 178
        }
      ]
    },
    {
      "cell_type": "code",
      "metadata": {
        "colab": {
          "base_uri": "https://localhost:8080/"
        },
        "id": "OP3kTy69cuYq",
        "outputId": "26db52db-9228-437e-af6a-fec233da8faa"
      },
      "source": [
        "y_pred = model.predict(X_train)\n",
        "print('정확도: ', accuracy_score(y_train, y_pred))"
      ],
      "execution_count": 179,
      "outputs": [
        {
          "output_type": "stream",
          "text": [
            "정확도:  0.9537083333333334\n"
          ],
          "name": "stdout"
        }
      ]
    },
    {
      "cell_type": "code",
      "metadata": {
        "id": "H3uOMtU3c9tW"
      },
      "source": [
        "# 모델을 분리하지 않았기 때문에 과적합의 우려가 있는 모델이지만 특성 중요도를 판단하기 위한 자료로 사용하기 때문에\n",
        "# 앞으로 추가적인 데이터가 들어오면 수정해야 하는 부분으로 이해된다."
      ],
      "execution_count": 180,
      "outputs": []
    },
    {
      "cell_type": "code",
      "metadata": {
        "id": "NfuYdPepbKVg"
      },
      "source": [
        "import matplotlib.pyplot as plt\n",
        "importances = pd.Series(model.feature_importances_, X_train.columns)"
      ],
      "execution_count": 181,
      "outputs": []
    },
    {
      "cell_type": "code",
      "metadata": {
        "colab": {
          "base_uri": "https://localhost:8080/",
          "height": 227
        },
        "id": "FXubhVo2ZlmW",
        "outputId": "23d36622-5651-4bc8-98da-39d88ef4fc27"
      },
      "source": [
        "n = 6\n",
        "plt.figure(figsize=(10,n/2))\n",
        "plt.title(f'Top {n} features')\n",
        "importances.sort_values()[-n:].plot.barh();"
      ],
      "execution_count": 182,
      "outputs": [
        {
          "output_type": "display_data",
          "data": {
            "image/png": "[encoded data removed]",
            "text/plain": [
              "<Figure size 720x216 with 1 Axes>"
            ]
          },
          "metadata": {
            "tags": [],
            "needs_background": "light"
          }
        }
      ]
    },
    {
      "cell_type": "code",
      "metadata": {
        "id": "M26HrJ2AdZB9"
      },
      "source": [
        "# 억제기와 타워를 부수는 것이 가장 중요한 게임 요소인 만큼 억제기, 타워를 깬 갯수가 상당한 영향이 있다는 것을 볼 수 있다."
      ],
      "execution_count": 183,
      "outputs": []
    },
    {
      "cell_type": "code",
      "metadata": {
        "id": "MD1fMJS3dfxq"
      },
      "source": [
        "# 전체 데이터를 통해 판단한 결과를 보면 아래와 같다."
      ],
      "execution_count": 184,
      "outputs": []
    },
    {
      "cell_type": "code",
      "metadata": {
        "id": "aOmkR-QNdk03"
      },
      "source": [
        "target1 = 'win'\n",
        "y_train1 = Team[target]\n",
        "X_train1 = Team.drop([target,'gameid'],axis=1)"
      ],
      "execution_count": 185,
      "outputs": []
    },
    {
      "cell_type": "code",
      "metadata": {
        "colab": {
          "base_uri": "https://localhost:8080/"
        },
        "id": "gHTZNh_Kdo9U",
        "outputId": "088eb3ed-1bce-4e5d-953c-197e41875c94"
      },
      "source": [
        "model1 = RandomForestClassifier(n_estimators=100, random_state=42)\n",
        "model1.fit(X_train1,y_train1)"
      ],
      "execution_count": 186,
      "outputs": [
        {
          "output_type": "execute_result",
          "data": {
            "text/plain": [
              "RandomForestClassifier(bootstrap=True, ccp_alpha=0.0, class_weight=None,\n",
              "                       criterion='gini', max_depth=None, max_features='auto',\n",
              "                       max_leaf_nodes=None, max_samples=None,\n",
              "                       min_impurity_decrease=0.0, min_impurity_split=None,\n",
              "                       min_samples_leaf=1, min_samples_split=2,\n",
              "                       min_weight_fraction_leaf=0.0, n_estimators=100,\n",
              "                       n_jobs=None, oob_score=False, random_state=42, verbose=0,\n",
              "                       warm_start=False)"
            ]
          },
          "metadata": {
            "tags": []
          },
          "execution_count": 186
        }
      ]
    },
    {
      "cell_type": "code",
      "metadata": {
        "colab": {
          "base_uri": "https://localhost:8080/"
        },
        "id": "Bmf9fCAodqoL",
        "outputId": "e2e6a701-7d5e-4125-c715-579a490a66f6"
      },
      "source": [
        "y_pred1 = model1.predict(X_train1)\n",
        "print('정확도: ', accuracy_score(y_train1, y_pred1))"
      ],
      "execution_count": 187,
      "outputs": [
        {
          "output_type": "stream",
          "text": [
            "정확도:  0.9714083333333333\n"
          ],
          "name": "stdout"
        }
      ]
    },
    {
      "cell_type": "code",
      "metadata": {
        "id": "axdgJ2q_dwYu"
      },
      "source": [
        "importances1 = pd.Series(model1.feature_importances_, X_train1.columns)"
      ],
      "execution_count": 188,
      "outputs": []
    },
    {
      "cell_type": "code",
      "metadata": {
        "colab": {
          "base_uri": "https://localhost:8080/",
          "height": 444
        },
        "id": "0wVOH9Ytd6eP",
        "outputId": "bc998906-ccca-4f8e-86e2-85a1d267723c"
      },
      "source": [
        "n = 14\n",
        "plt.figure(figsize=(10,n/2))\n",
        "plt.title(f'Top {n} features')\n",
        "importances1.sort_values()[-n:].plot.barh();"
      ],
      "execution_count": 189,
      "outputs": [
        {
          "output_type": "display_data",
          "data": {
            "image/png": "[encoded data removed]",
            "text/plain": [
              "<Figure size 720x504 with 1 Axes>"
            ]
          },
          "metadata": {
            "tags": [],
            "needs_background": "light"
          }
        }
      ]
    },
    {
      "cell_type": "code",
      "metadata": {
        "id": "kkvWidUfePqC"
      },
      "source": [
        "target2 = 'win'\n",
        "y_train2 = Team[target]\n",
        "X_train2 = Team.drop([target,'gameid','inhibitorkills', 'inhibitorkilled','towerkills', 'dragonkills',\n",
        "       'riftheraldkills', 'baronkills'],axis=1)"
      ],
      "execution_count": 190,
      "outputs": []
    },
    {
      "cell_type": "code",
      "metadata": {
        "colab": {
          "base_uri": "https://localhost:8080/"
        },
        "id": "7fvXp7ixeRQL",
        "outputId": "48e2d5fe-c9f9-401b-82e7-a74a317f885b"
      },
      "source": [
        "model2 = RandomForestClassifier(n_estimators=100, random_state=42)\n",
        "model2.fit(X_train2,y_train2)"
      ],
      "execution_count": 191,
      "outputs": [
        {
          "output_type": "execute_result",
          "data": {
            "text/plain": [
              "RandomForestClassifier(bootstrap=True, ccp_alpha=0.0, class_weight=None,\n",
              "                       criterion='gini', max_depth=None, max_features='auto',\n",
              "                       max_leaf_nodes=None, max_samples=None,\n",
              "                       min_impurity_decrease=0.0, min_impurity_split=None,\n",
              "                       min_samples_leaf=1, min_samples_split=2,\n",
              "                       min_weight_fraction_leaf=0.0, n_estimators=100,\n",
              "                       n_jobs=None, oob_score=False, random_state=42, verbose=0,\n",
              "                       warm_start=False)"
            ]
          },
          "metadata": {
            "tags": []
          },
          "execution_count": 191
        }
      ]
    },
    {
      "cell_type": "code",
      "metadata": {
        "colab": {
          "base_uri": "https://localhost:8080/"
        },
        "id": "aJ22dWgReVcx",
        "outputId": "3db5ef03-3f52-4d36-a319-a900531698dc"
      },
      "source": [
        "y_pred2 = model2.predict(X_train2)\n",
        "print('정확도: ', accuracy_score(y_train2, y_pred2))"
      ],
      "execution_count": 192,
      "outputs": [
        {
          "output_type": "stream",
          "text": [
            "정확도:  0.8628583333333333\n"
          ],
          "name": "stdout"
        }
      ]
    },
    {
      "cell_type": "code",
      "metadata": {
        "id": "1tbAmQaQeZz3"
      },
      "source": [
        "importances2 = pd.Series(model2.feature_importances_, X_train2.columns)"
      ],
      "execution_count": 193,
      "outputs": []
    },
    {
      "cell_type": "code",
      "metadata": {
        "colab": {
          "base_uri": "https://localhost:8080/",
          "height": 254
        },
        "id": "igPhL_a5ecz0",
        "outputId": "5f897db1-6d50-4103-93e8-ae7224a9ffb5"
      },
      "source": [
        "n = 7\n",
        "plt.figure(figsize=(10,n/2))\n",
        "plt.title(f'Top {n} features')\n",
        "importances2.sort_values()[-n:].plot.barh();"
      ],
      "execution_count": 194,
      "outputs": [
        {
          "output_type": "display_data",
          "data": {
            "image/png": "[encoded data removed]",
            "text/plain": [
              "<Figure size 720x252 with 1 Axes>"
            ]
          },
          "metadata": {
            "tags": [],
            "needs_background": "light"
          }
        }
      ]
    },
    {
      "cell_type": "code",
      "metadata": {
        "id": "byMIF1yQS9wA"
      },
      "source": [
        "import seaborn as sns"
      ],
      "execution_count": 195,
      "outputs": []
    },
    {
      "cell_type": "code",
      "metadata": {
        "colab": {
          "base_uri": "https://localhost:8080/",
          "height": 300
        },
        "id": "lZtFI_qVTpKU",
        "outputId": "237e02c7-4c04-45d3-d326-dbae2237cd6f"
      },
      "source": [
        "df = pd.DataFrame(X_train1[['firstdragon', 'firstriftherald']].value_counts(normalize=True)).reset_index()\n",
        "df = pd.pivot(df,index='firstdragon',columns='firstriftherald')\n",
        "\n",
        "ax = sns.heatmap(df, annot=True)\n",
        "plt.title('firstdragon and firstriftherald', fontsize=20)\n",
        "plt.xlabel('firstriftherald')\n",
        "\n",
        "plt.show() "
      ],
      "execution_count": 196,
      "outputs": [
        {
          "output_type": "display_data",
          "data": {
            "image/png": "[encoded data removed]",
            "text/plain": [
              "<Figure size 432x288 with 2 Axes>"
            ]
          },
          "metadata": {
            "tags": [],
            "needs_background": "light"
          }
        }
      ]
    },
    {
      "cell_type": "code",
      "metadata": {
        "colab": {
          "base_uri": "https://localhost:8080/",
          "height": 300
        },
        "id": "jfPi12ncSuis",
        "outputId": "0d7b0faa-164d-4e2d-db5e-40ba291fb756"
      },
      "source": [
        "#'firstdragon', 'firsttower', 'firstriftherald'\n",
        "df = pd.DataFrame(X_train1[['firstdragon', 'firsttower']].value_counts(normalize=True)).reset_index()\n",
        "df = pd.pivot(df,index='firstdragon',columns='firsttower')\n",
        "\n",
        "ax = sns.heatmap(df, annot=True)\n",
        "plt.title('firstdragon and firsttower', fontsize=20)\n",
        "plt.xlabel('firsttower')\n",
        "\n",
        "plt.show() "
      ],
      "execution_count": 197,
      "outputs": [
        {
          "output_type": "display_data",
          "data": {
            "image/png": "[encoded data removed]",
            "text/plain": [
              "<Figure size 432x288 with 2 Axes>"
            ]
          },
          "metadata": {
            "tags": [],
            "needs_background": "light"
          }
        }
      ]
    },
    {
      "cell_type": "code",
      "metadata": {
        "colab": {
          "base_uri": "https://localhost:8080/",
          "height": 300
        },
        "id": "HNf9wfB2WiI3",
        "outputId": "6e483057-0c50-4600-834d-140f4423218d"
      },
      "source": [
        "df = pd.DataFrame(X_train1[['firstriftherald', 'firsttower']].value_counts(normalize=True)).reset_index()\n",
        "df = pd.pivot(df,index='firstriftherald',columns='firsttower')\n",
        "\n",
        "ax = sns.heatmap(df, annot=True)\n",
        "plt.title('firstriftherald and firsttower', fontsize=20)\n",
        "plt.xlabel('firsttower')\n",
        "\n",
        "plt.show() "
      ],
      "execution_count": 198,
      "outputs": [
        {
          "output_type": "display_data",
          "data": {
            "image/png": "[encoded data removed]",
            "text/plain": [
              "<Figure size 432x288 with 2 Axes>"
            ]
          },
          "metadata": {
            "tags": [],
            "needs_background": "light"
          }
        }
      ]
    },
    {
      "cell_type": "code",
      "metadata": {
        "id": "xnzKJChce0pV"
      },
      "source": [
        "# 처음 챙길 수 있는 것은 퍼블과 전령, 용, 포탑이다. 특성중요도를 통해 알 수 있는 내용은 포블이 다른 특성에 비해\n",
        "# 중요하다는 것이고 전령이 포블과 연관성이 크기 때문에 처음 표에서 본 내용과 다른 결과값이 나왔다고 볼 수 있다.\n",
        "# 결론적으로 포블을 위해 전령을 챙기는 것이 초반 단계에서 승리를 위한 중요한 단계라고 볼 수 있다."
      ],
      "execution_count": 199,
      "outputs": []
    },
    {
      "cell_type": "code",
      "metadata": {
        "colab": {
          "base_uri": "https://localhost:8080/"
        },
        "id": "pORO4NzFXImb",
        "outputId": "8850eebe-9d0f-4a9a-dd6e-07700f34734e"
      },
      "source": [
        "Stats.columns"
      ],
      "execution_count": 200,
      "outputs": [
        {
          "output_type": "execute_result",
          "data": {
            "text/plain": [
              "Index(['gameid', 'participantid', 'KDA', 'kills', 'assists', 'deaths',\n",
              "       'goldearned', 'goldspent', 'totalminionskilled', 'largestmultikill',\n",
              "       'largestkillingspree', 'longesttimespentliving', 'totaldamagedealt',\n",
              "       'totaldamagedealttochampions', 'damagedealttoturrets',\n",
              "       'damageselfmitigated', 'totaldamagetaken', 'timeccingothers',\n",
              "       'totaltimecrowdcontroldealt', 'visionwardsboughtingame', 'wardskilled',\n",
              "       'visionscore', 'wardsplaced'],\n",
              "      dtype='object')"
            ]
          },
          "metadata": {
            "tags": []
          },
          "execution_count": 200
        }
      ]
    },
    {
      "cell_type": "code",
      "metadata": {
        "colab": {
          "base_uri": "https://localhost:8080/"
        },
        "id": "5OkqFqV6d7ME",
        "outputId": "713b62ca-03d2-40d0-e4c9-41ee70eb29b3"
      },
      "source": [
        "User.columns"
      ],
      "execution_count": 201,
      "outputs": [
        {
          "output_type": "execute_result",
          "data": {
            "text/plain": [
              "Index(['gameid', 'participantid', 'summonerid', 'teamid', 'banid', 'pickid',\n",
              "       'role', 'lane', 'perk0', 'perk1', 'perk2', 'perk3', 'perk4', 'perk5',\n",
              "       'perkprimarystyle', 'perksubstyle', 'statperk0', 'statperk1',\n",
              "       'statperk2'],\n",
              "      dtype='object')"
            ]
          },
          "metadata": {
            "tags": []
          },
          "execution_count": 201
        }
      ]
    },
    {
      "cell_type": "code",
      "metadata": {
        "id": "KbZhUP0Ad9uT"
      },
      "source": [
        "SubTeam = Team[['gameid','teamid','win']]\n",
        "Use_Champion = Champion[['championid','Tank', 'Marksman', 'Fighter', 'Assassin', 'Support', 'Mage']]"
      ],
      "execution_count": 202,
      "outputs": []
    },
    {
      "cell_type": "code",
      "metadata": {
        "id": "g7LY1Vj9jz-x"
      },
      "source": [
        "merge_User0 = pd.merge(User,SubTeam, how='left', left_on=['gameid','teamid'], right_on=['gameid','teamid'])\n",
        "merge_User1 = pd.merge(merge_User0,Use_Champion, how='left', left_on='banid', right_on='championid')\n",
        "merge_User2 = pd.merge(merge_User1,Use_Champion, how='left', left_on='pickid', right_on='championid')"
      ],
      "execution_count": 203,
      "outputs": []
    },
    {
      "cell_type": "code",
      "metadata": {
        "id": "4c6n1BawmOcQ"
      },
      "source": [
        "merge_User2.columns = ['gameid', 'participantid', 'summonerid', 'teamid', 'banid', 'pickid',\n",
        "        'role', 'lane', 'perk0', 'perk1', 'perk2', 'perk3', 'perk4', 'perk5',\n",
        "        'perkprimarystyle', 'perksubstyle', 'statperk0', 'statperk1',\n",
        "        'statperk2', 'win', 'championid_ban', 'Tank_ban', 'Marksman_ban', 'Fighter_ban',\n",
        "        'Assassin_ban', 'Support_ban', 'Mage_ban', 'championid_y', 'Tank_pick',\n",
        "        'Marksman_pick', 'Fighter_pick', 'Assassin_pick', 'Support_pick', 'Mage_pick']"
      ],
      "execution_count": 204,
      "outputs": []
    },
    {
      "cell_type": "code",
      "metadata": {
        "id": "dSnSFQ5emgnK"
      },
      "source": [
        "merge_User3 = merge_User2.drop(['championid_ban', 'championid_y'], axis=1)"
      ],
      "execution_count": 205,
      "outputs": []
    },
    {
      "cell_type": "code",
      "metadata": {
        "id": "tpMfkRNynDrH"
      },
      "source": [
        "merge_User4 = pd.merge(merge_User3,Stats, how='left', left_on=['gameid','participantid'], right_on=['gameid','participantid'])"
      ],
      "execution_count": 206,
      "outputs": []
    },
    {
      "cell_type": "code",
      "metadata": {
        "colab": {
          "base_uri": "https://localhost:8080/"
        },
        "id": "rAMyV89anO5M",
        "outputId": "a799fc5d-10ed-4415-e5b4-878f0aa2d7b3"
      },
      "source": [
        "merge_User4.shape, merge_User4.columns"
      ],
      "execution_count": 207,
      "outputs": [
        {
          "output_type": "execute_result",
          "data": {
            "text/plain": [
              "((600000, 53),\n",
              " Index(['gameid', 'participantid', 'summonerid', 'teamid', 'banid', 'pickid',\n",
              "        'role', 'lane', 'perk0', 'perk1', 'perk2', 'perk3', 'perk4', 'perk5',\n",
              "        'perkprimarystyle', 'perksubstyle', 'statperk0', 'statperk1',\n",
              "        'statperk2', 'win', 'Tank_ban', 'Marksman_ban', 'Fighter_ban',\n",
              "        'Assassin_ban', 'Support_ban', 'Mage_ban', 'Tank_pick', 'Marksman_pick',\n",
              "        'Fighter_pick', 'Assassin_pick', 'Support_pick', 'Mage_pick', 'KDA',\n",
              "        'kills', 'assists', 'deaths', 'goldearned', 'goldspent',\n",
              "        'totalminionskilled', 'largestmultikill', 'largestkillingspree',\n",
              "        'longesttimespentliving', 'totaldamagedealt',\n",
              "        'totaldamagedealttochampions', 'damagedealttoturrets',\n",
              "        'damageselfmitigated', 'totaldamagetaken', 'timeccingothers',\n",
              "        'totaltimecrowdcontroldealt', 'visionwardsboughtingame', 'wardskilled',\n",
              "        'visionscore', 'wardsplaced'],\n",
              "       dtype='object'))"
            ]
          },
          "metadata": {
            "tags": []
          },
          "execution_count": 207
        }
      ]
    },
    {
      "cell_type": "code",
      "metadata": {
        "id": "oumObII2o6aE"
      },
      "source": [
        "Groupby_User0 = merge_User4.drop(['gameid', 'participantid', 'teamid','banid', 'pickid','perk0', 'perk1', 'perk2', 'perk3', 'perk4', 'perk5',\n",
        "        'perkprimarystyle', 'perksubstyle', 'statperk0', 'statperk1','statperk2'], axis=1)\n",
        "Groupby_User1 = pd.get_dummies(Groupby_User0, columns=['lane', 'role'])\n",
        "Groupby_User1 = pd.get_dummies(Groupby_User1,columns=['win'], drop_first=True)\n",
        "Groupby_User2 = Groupby_User1.groupby(Groupby_User1['summonerid']).mean()"
      ],
      "execution_count": 208,
      "outputs": []
    },
    {
      "cell_type": "code",
      "metadata": {
        "id": "DCBJun5ps5U_"
      },
      "source": [
        "Groupby_User2.columns = ['Tank_ban', 'Marksman_ban', 'Fighter_ban', 'Assassin_ban',\n",
        "       'Support_ban', 'Mage_ban', 'Tank_pick', 'Marksman_pick', 'Fighter_pick',\n",
        "       'Assassin_pick', 'Support_pick', 'Mage_pick', 'KDA','kills', 'assists',\n",
        "       'deaths', 'goldearned', 'goldspent', 'totalminionskilled',\n",
        "       'largestmultikill', 'largestkillingspree', 'longesttimespentliving',\n",
        "       'totaldamagedealt', 'totaldamagedealttochampions',\n",
        "       'damagedealttoturrets', 'damageselfmitigated', 'totaldamagetaken',\n",
        "       'timeccingothers', 'totaltimecrowdcontroldealt',\n",
        "       'visionwardsboughtingame', 'wardskilled', 'visionscore', 'wardsplaced',\n",
        "       'lane_ADC', 'lane_JUNGLE', 'lane_MID', 'lane_SUPPORT', 'lane_TOP',\n",
        "       'role_DUO', 'role_DUO_CARRY', 'role_DUO_SUPPORT', 'role_NONE',\n",
        "       'role_SOLO', 'win']"
      ],
      "execution_count": 209,
      "outputs": []
    },
    {
      "cell_type": "code",
      "metadata": {
        "id": "RaRTSOQJtyJb"
      },
      "source": [
        "Groupby_User3 = Groupby_User2.dropna()"
      ],
      "execution_count": 210,
      "outputs": []
    },
    {
      "cell_type": "code",
      "metadata": {
        "id": "u2r9_kpsoLv2"
      },
      "source": [
        "target = 'win'\n",
        "y_train3 = Groupby_User3[target]\n",
        "X_train3 = Groupby_User3.drop([target,'KDA','kills', 'assists',\n",
        "       'deaths', 'goldearned', 'goldspent', 'totalminionskilled',\n",
        "       'largestmultikill', 'largestkillingspree', 'longesttimespentliving',\n",
        "       'totaldamagedealt', 'totaldamagedealttochampions',\n",
        "       'damagedealttoturrets', 'damageselfmitigated', 'totaldamagetaken',\n",
        "       'timeccingothers', 'totaltimecrowdcontroldealt',\n",
        "       'visionwardsboughtingame', 'wardskilled', 'visionscore', 'wardsplaced'],axis=1)"
      ],
      "execution_count": 211,
      "outputs": []
    },
    {
      "cell_type": "code",
      "metadata": {
        "id": "m6vxp5wvuPK2"
      },
      "source": [
        "from sklearn.ensemble import RandomForestRegressor"
      ],
      "execution_count": 212,
      "outputs": []
    },
    {
      "cell_type": "code",
      "metadata": {
        "colab": {
          "base_uri": "https://localhost:8080/"
        },
        "id": "M_PxP70ooiGu",
        "outputId": "fe75e6a0-d124-4baf-9faf-e0452b0abc51"
      },
      "source": [
        "model3 = RandomForestRegressor(n_estimators=20, random_state=42)\n",
        "model3.fit(X_train3,y_train3)"
      ],
      "execution_count": 213,
      "outputs": [
        {
          "output_type": "execute_result",
          "data": {
            "text/plain": [
              "RandomForestRegressor(bootstrap=True, ccp_alpha=0.0, criterion='mse',\n",
              "                      max_depth=None, max_features='auto', max_leaf_nodes=None,\n",
              "                      max_samples=None, min_impurity_decrease=0.0,\n",
              "                      min_impurity_split=None, min_samples_leaf=1,\n",
              "                      min_samples_split=2, min_weight_fraction_leaf=0.0,\n",
              "                      n_estimators=20, n_jobs=None, oob_score=False,\n",
              "                      random_state=42, verbose=0, warm_start=False)"
            ]
          },
          "metadata": {
            "tags": []
          },
          "execution_count": 213
        }
      ]
    },
    {
      "cell_type": "code",
      "metadata": {
        "id": "_GQv41vXu2go"
      },
      "source": [
        "importances3 = pd.Series(model3.feature_importances_, X_train3.columns)"
      ],
      "execution_count": 214,
      "outputs": []
    },
    {
      "cell_type": "code",
      "metadata": {
        "colab": {
          "base_uri": "https://localhost:8080/",
          "height": 662
        },
        "id": "nhIay9QIu46X",
        "outputId": "0fa8a37e-981e-4353-9fa5-89ce4b2fbc16"
      },
      "source": [
        "n = 22\n",
        "plt.figure(figsize=(10,n/2))\n",
        "plt.title(f'Top {n} features')\n",
        "importances3.sort_values()[-n:].plot.barh();"
      ],
      "execution_count": 215,
      "outputs": [
        {
          "output_type": "display_data",
          "data": {
            "image/png": "[encoded data removed]",
            "text/plain": [
              "<Figure size 720x792 with 1 Axes>"
            ]
          },
          "metadata": {
            "tags": [],
            "needs_background": "light"
          }
        }
      ]
    },
    {
      "cell_type": "code",
      "metadata": {
        "colab": {
          "base_uri": "https://localhost:8080/"
        },
        "id": "pBNpYB61wB_Z",
        "outputId": "ce0383cc-03d9-45bf-d86b-13b61545646b"
      },
      "source": [
        "Groupby_User3.columns"
      ],
      "execution_count": 216,
      "outputs": [
        {
          "output_type": "execute_result",
          "data": {
            "text/plain": [
              "Index(['Tank_ban', 'Marksman_ban', 'Fighter_ban', 'Assassin_ban',\n",
              "       'Support_ban', 'Mage_ban', 'Tank_pick', 'Marksman_pick', 'Fighter_pick',\n",
              "       'Assassin_pick', 'Support_pick', 'Mage_pick', 'KDA', 'kills', 'assists',\n",
              "       'deaths', 'goldearned', 'goldspent', 'totalminionskilled',\n",
              "       'largestmultikill', 'largestkillingspree', 'longesttimespentliving',\n",
              "       'totaldamagedealt', 'totaldamagedealttochampions',\n",
              "       'damagedealttoturrets', 'damageselfmitigated', 'totaldamagetaken',\n",
              "       'timeccingothers', 'totaltimecrowdcontroldealt',\n",
              "       'visionwardsboughtingame', 'wardskilled', 'visionscore', 'wardsplaced',\n",
              "       'lane_ADC', 'lane_JUNGLE', 'lane_MID', 'lane_SUPPORT', 'lane_TOP',\n",
              "       'role_DUO', 'role_DUO_CARRY', 'role_DUO_SUPPORT', 'role_NONE',\n",
              "       'role_SOLO', 'win'],\n",
              "      dtype='object')"
            ]
          },
          "metadata": {
            "tags": []
          },
          "execution_count": 216
        }
      ]
    },
    {
      "cell_type": "code",
      "metadata": {
        "id": "pvI-T514v8pB"
      },
      "source": [
        "target = 'win'\n",
        "y_train4 = Groupby_User3[target]\n",
        "X_train4 = Groupby_User3.drop([target,'Tank_ban', 'Marksman_ban', 'Fighter_ban', 'Assassin_ban', 'Support_ban', \n",
        "                               'Mage_ban', 'Tank_pick', 'Marksman_pick', 'Fighter_pick','Assassin_pick', 'Support_pick', 'Mage_pick',\n",
        "                               'lane_ADC', 'lane_JUNGLE', 'lane_MID', 'lane_SUPPORT', 'lane_TOP', 'role_DUO', \n",
        "                               'role_DUO_CARRY', 'role_DUO_SUPPORT', 'role_NONE', 'role_SOLO'],axis=1)"
      ],
      "execution_count": 217,
      "outputs": []
    },
    {
      "cell_type": "code",
      "metadata": {
        "colab": {
          "base_uri": "https://localhost:8080/"
        },
        "id": "8vAaIV3ewXdX",
        "outputId": "365ddf69-8336-481c-8a04-c0784a198313"
      },
      "source": [
        "model4 = RandomForestRegressor(n_estimators=20, random_state=42)\n",
        "model4.fit(X_train4,y_train4)"
      ],
      "execution_count": 218,
      "outputs": [
        {
          "output_type": "execute_result",
          "data": {
            "text/plain": [
              "RandomForestRegressor(bootstrap=True, ccp_alpha=0.0, criterion='mse',\n",
              "                      max_depth=None, max_features='auto', max_leaf_nodes=None,\n",
              "                      max_samples=None, min_impurity_decrease=0.0,\n",
              "                      min_impurity_split=None, min_samples_leaf=1,\n",
              "                      min_samples_split=2, min_weight_fraction_leaf=0.0,\n",
              "                      n_estimators=20, n_jobs=None, oob_score=False,\n",
              "                      random_state=42, verbose=0, warm_start=False)"
            ]
          },
          "metadata": {
            "tags": []
          },
          "execution_count": 218
        }
      ]
    },
    {
      "cell_type": "code",
      "metadata": {
        "id": "5LaWlQtzwbTR"
      },
      "source": [
        "importances4 = pd.Series(model4.feature_importances_, X_train4.columns)"
      ],
      "execution_count": 219,
      "outputs": []
    },
    {
      "cell_type": "code",
      "metadata": {
        "colab": {
          "base_uri": "https://localhost:8080/",
          "height": 635
        },
        "id": "BUujwr0ywdOY",
        "outputId": "2ec49ec0-b6ef-4343-8603-5464cf1a597a"
      },
      "source": [
        "n = 21\n",
        "plt.figure(figsize=(10,n/2))\n",
        "plt.title(f'Top {n} features')\n",
        "importances4.sort_values()[-n:].plot.barh();"
      ],
      "execution_count": 220,
      "outputs": [
        {
          "output_type": "display_data",
          "data": {
            "image/png": "[encoded data removed]",
            "text/plain": [
              "<Figure size 720x756 with 1 Axes>"
            ]
          },
          "metadata": {
            "tags": [],
            "needs_background": "light"
          }
        }
      ]
    },
    {
      "cell_type": "code",
      "metadata": {
        "id": "TrNdjUGwwrLY"
      },
      "source": [
        "target = 'win'\n",
        "y_train5 = Groupby_User3[target]\n",
        "X_train5 = Groupby_User3.drop([target],axis=1)"
      ],
      "execution_count": 221,
      "outputs": []
    },
    {
      "cell_type": "code",
      "metadata": {
        "colab": {
          "base_uri": "https://localhost:8080/"
        },
        "id": "tuErrV8xwvrj",
        "outputId": "f48ec20f-a708-45cb-d26f-c9038d9c03e9"
      },
      "source": [
        "model5 = RandomForestRegressor(n_estimators=20, random_state=42)\n",
        "model5.fit(X_train5,y_train5)"
      ],
      "execution_count": 222,
      "outputs": [
        {
          "output_type": "execute_result",
          "data": {
            "text/plain": [
              "RandomForestRegressor(bootstrap=True, ccp_alpha=0.0, criterion='mse',\n",
              "                      max_depth=None, max_features='auto', max_leaf_nodes=None,\n",
              "                      max_samples=None, min_impurity_decrease=0.0,\n",
              "                      min_impurity_split=None, min_samples_leaf=1,\n",
              "                      min_samples_split=2, min_weight_fraction_leaf=0.0,\n",
              "                      n_estimators=20, n_jobs=None, oob_score=False,\n",
              "                      random_state=42, verbose=0, warm_start=False)"
            ]
          },
          "metadata": {
            "tags": []
          },
          "execution_count": 222
        }
      ]
    },
    {
      "cell_type": "code",
      "metadata": {
        "id": "AUWQF07Mwy9f"
      },
      "source": [
        "importances5 = pd.Series(model5.feature_importances_, X_train5.columns)"
      ],
      "execution_count": 223,
      "outputs": []
    },
    {
      "cell_type": "code",
      "metadata": {
        "colab": {
          "base_uri": "https://localhost:8080/",
          "height": 879
        },
        "id": "sRc2fx5Xw3Ks",
        "outputId": "be6e16a7-e291-402d-d6bf-d601c61b26ff"
      },
      "source": [
        "n = 30\n",
        "plt.figure(figsize=(10,n/2))\n",
        "plt.title(f'Top {n} features')\n",
        "importances5.sort_values()[-n:].plot.barh();"
      ],
      "execution_count": 224,
      "outputs": [
        {
          "output_type": "display_data",
          "data": {
            "image/png": "[encoded data removed]",
            "text/plain": [
              "<Figure size 720x1080 with 1 Axes>"
            ]
          },
          "metadata": {
            "tags": [],
            "needs_background": "light"
          }
        }
      ]
    },
    {
      "cell_type": "code",
      "metadata": {
        "id": "uHIu99cqMAvZ"
      },
      "source": [
        "# 한타 등에서 쾌감은 cc와 챔피언에게 데미지 넣는 것, 스킬을 피하는 것에 있을 수 있지만\n",
        "# 실제로 게임에 승리하기 위해서는 죽지 않고 타워를 부수는 것이 가장 중요하다고 볼 수 있다."
      ],
      "execution_count": 225,
      "outputs": []
    },
    {
      "cell_type": "code",
      "metadata": {
        "id": "DBjIoQ0DMPNc"
      },
      "source": [
        "# 어떤 챔프를 밴픽하고 어느 라인에 서는지는 유저 개인의 숙련도 차이가 존재할 수 있다.\n",
        "# 하지만 실제로 인게임에서 활약하는 것은 그것과 별개의 문제라고 할 수 있다."
      ],
      "execution_count": 226,
      "outputs": []
    },
    {
      "cell_type": "code",
      "metadata": {
        "id": "mhMLSFapptDj"
      },
      "source": [
        "# 지금까지 승리하기 위한 요인에 대해 분석했다.\n",
        "# 지금까지 분석한 자료를 통해 오래 하지 않은 유저와 승리하기 위한 조건들을 많이 달성하지 않은 유저를 가지고\n",
        "# 유저의 게임 포기 여부에 대해서 조사하고 멘탈등급을 나눠본다.\n",
        "\n",
        "# 멘탈등급(타겟) : 직접 점수를 산출하여 계산한다.\n",
        "# 사용 컬럼 : kda, deaths,kills,assists,damagedealttoturrets, longesttimespentliving, totalminionskilled, goldspent, visionscore, lane_support\n",
        "# gameduration, win, inhibitorkilled"
      ],
      "execution_count": 227,
      "outputs": []
    },
    {
      "cell_type": "code",
      "metadata": {
        "id": "1OL0daUt_xbG"
      },
      "source": [
        "team_df = pd.merge(Game,Team, how='right', left_on=['gameid'], right_on=['gameid'])[['gameid','teamid','gameduration','inhibitorkilled']]\n",
        "df0 = pd.merge(merge_User4,team_df, how='left', left_on=['gameid','teamid'], right_on=['gameid','teamid'])"
      ],
      "execution_count": 229,
      "outputs": []
    },
    {
      "cell_type": "code",
      "metadata": {
        "id": "-q05CjDbCwPt"
      },
      "source": [
        "df1 = df0 [['summonerid','KDA', 'deaths','kills','assists','damagedealttoturrets', 'longesttimespentliving', 'totalminionskilled', 'goldspent', \n",
        "            'visionscore', 'lane','gameduration', 'win', 'inhibitorkilled']]"
      ],
      "execution_count": 231,
      "outputs": []
    },
    {
      "cell_type": "code",
      "metadata": {
        "id": "PEpncphpFXk5"
      },
      "source": [
        "Groupby_df0 = pd.get_dummies(df1, columns=['lane']).drop(['lane_ADC', 'lane_JUNGLE', 'lane_MID', 'lane_TOP'],axis=1)\n",
        "Groupby_df1 = pd.get_dummies(Groupby_df0,columns=['win'], drop_first=True)\n",
        "Groupby_df1.columns =['summonerid', 'KDA', 'deaths', 'kills', 'assists',\n",
        "       'damagedealttoturrets', 'longesttimespentliving', 'totalminionskilled',\n",
        "       'goldspent', 'visionscore', 'gameduration', 'inhibitorkilled',\n",
        "       'lane_SUPPORT', 'win']\n",
        "Groupby_df2=Groupby_df1.set_index('summonerid')"
      ],
      "execution_count": 247,
      "outputs": []
    },
    {
      "cell_type": "code",
      "metadata": {
        "id": "8wZUTourFaDa"
      },
      "source": [
        "honor_df = pd.DataFrame(Groupby_df1['summonerid'].unique(), columns= ['summonerid'])\n",
        "honor_df['honor_point'] = 0\n",
        "honor_df=honor_df.set_index('summonerid')"
      ],
      "execution_count": 265,
      "outputs": []
    },
    {
      "cell_type": "code",
      "metadata": {
        "colab": {
          "base_uri": "https://localhost:8080/",
          "height": 455
        },
        "id": "9XtYKF3FUurO",
        "outputId": "09f6f375-f8ca-4955-fb85-95edd23bcde9"
      },
      "source": [
        "honor_df.loc[Groupby_df2[(Groupby_df2['lane_SUPPORT'] == 1)& (Groupby_df2['visionscore']<=20)].index,['honor_point']]"
      ],
      "execution_count": 282,
      "outputs": [
        {
          "output_type": "execute_result",
          "data": {
            "text/html": [
              "<div>\n",
              "<style scoped>\n",
              "    .dataframe tbody tr th:only-of-type {\n",
              "        vertical-align: middle;\n",
              "    }\n",
              "\n",
              "    .dataframe tbody tr th {\n",
              "        vertical-align: top;\n",
              "    }\n",
              "\n",
              "    .dataframe thead th {\n",
              "        text-align: right;\n",
              "    }\n",
              "</style>\n",
              "<table border=\"1\" class=\"dataframe\">\n",
              "  <thead>\n",
              "    <tr style=\"text-align: right;\">\n",
              "      <th></th>\n",
              "      <th>honor_point</th>\n",
              "    </tr>\n",
              "    <tr>\n",
              "      <th>summonerid</th>\n",
              "      <th></th>\n",
              "    </tr>\n",
              "  </thead>\n",
              "  <tbody>\n",
              "    <tr>\n",
              "      <th>a1Th7r2CGbN58y5LGer2VsIbXhjx8Qu8Smqwiq4vwaREPA</th>\n",
              "      <td>0</td>\n",
              "    </tr>\n",
              "    <tr>\n",
              "      <th>iZNbJfGDDo2-L4XuykT_tHPC7NhFX3LfziUUFva_ZSVHRms</th>\n",
              "      <td>0</td>\n",
              "    </tr>\n",
              "    <tr>\n",
              "      <th>LYn_u3tsPt1Irf_dlFfBWR1LhvUBSB6PayhIrqwqmjcY4Sk</th>\n",
              "      <td>0</td>\n",
              "    </tr>\n",
              "    <tr>\n",
              "      <th>vImkM7FNsGavKn1gCyBjvntMK-jRhxesfl2IzZ7Z-9i4zA</th>\n",
              "      <td>0</td>\n",
              "    </tr>\n",
              "    <tr>\n",
              "      <th>h8LOEF-eiBdogQMC5vw5mSeRsohuhcF__PFXg2aaPbdN3fCk</th>\n",
              "      <td>0</td>\n",
              "    </tr>\n",
              "    <tr>\n",
              "      <th>...</th>\n",
              "      <td>...</td>\n",
              "    </tr>\n",
              "    <tr>\n",
              "      <th>cvA_70_Z8HfurkTkPYgQJm1FSmKENxGD6r4_QmFWPPDZHw</th>\n",
              "      <td>0</td>\n",
              "    </tr>\n",
              "    <tr>\n",
              "      <th>WEzC5NHPYQH8Arw0MaTZcuygyhExkBCJWDsuKdcqMV2pxgo</th>\n",
              "      <td>0</td>\n",
              "    </tr>\n",
              "    <tr>\n",
              "      <th>KbfowGm8Lclmam81iGzxh8xHGzRr7yibmSJ0_kZWyFiijg</th>\n",
              "      <td>0</td>\n",
              "    </tr>\n",
              "    <tr>\n",
              "      <th>ElfExVEzVb9t6aII2OAAQj7RgVIQCzzg_AgEVlPPvriDKw</th>\n",
              "      <td>0</td>\n",
              "    </tr>\n",
              "    <tr>\n",
              "      <th>JG9lOs0ZpOUHEHd0ZUqVAjzLGDn7a41CT1AYjSTo_Mp5rrg</th>\n",
              "      <td>0</td>\n",
              "    </tr>\n",
              "  </tbody>\n",
              "</table>\n",
              "<p>22327 rows × 1 columns</p>\n",
              "</div>"
            ],
            "text/plain": [
              "                                                  honor_point\n",
              "summonerid                                                   \n",
              "a1Th7r2CGbN58y5LGer2VsIbXhjx8Qu8Smqwiq4vwaREPA              0\n",
              "iZNbJfGDDo2-L4XuykT_tHPC7NhFX3LfziUUFva_ZSVHRms             0\n",
              "LYn_u3tsPt1Irf_dlFfBWR1LhvUBSB6PayhIrqwqmjcY4Sk             0\n",
              "vImkM7FNsGavKn1gCyBjvntMK-jRhxesfl2IzZ7Z-9i4zA              0\n",
              "h8LOEF-eiBdogQMC5vw5mSeRsohuhcF__PFXg2aaPbdN3fCk            0\n",
              "...                                                       ...\n",
              "cvA_70_Z8HfurkTkPYgQJm1FSmKENxGD6r4_QmFWPPDZHw              0\n",
              "WEzC5NHPYQH8Arw0MaTZcuygyhExkBCJWDsuKdcqMV2pxgo             0\n",
              "KbfowGm8Lclmam81iGzxh8xHGzRr7yibmSJ0_kZWyFiijg              0\n",
              "ElfExVEzVb9t6aII2OAAQj7RgVIQCzzg_AgEVlPPvriDKw              0\n",
              "JG9lOs0ZpOUHEHd0ZUqVAjzLGDn7a41CT1AYjSTo_Mp5rrg             0\n",
              "\n",
              "[22327 rows x 1 columns]"
            ]
          },
          "metadata": {
            "tags": []
          },
          "execution_count": 282
        }
      ]
    },
    {
      "cell_type": "code",
      "metadata": {
        "id": "oEbWEdD4OQMF"
      },
      "source": [
        "def honor_point_cal (cond, num):\n",
        "  honor_df.loc[Groupby_df2[cond].index,'honor_point'] += num\n",
        "\n",
        "# cond_ex : (Groupby_df2['lane_SUPPORT'] == 1)& (Groupby_df2['visionscore']<=20)"
      ],
      "execution_count": 283,
      "outputs": []
    },
    {
      "cell_type": "code",
      "metadata": {
        "id": "L4x4X73URqeC"
      },
      "source": [
        "honor_point_cal((Groupby_df2['lane_SUPPORT'] == 1)& (Groupby_df2['visionscore']<=20), -200)\n",
        "honor_point_cal((Groupby_df2['lane_SUPPORT'] == 0)& (Groupby_df2['visionscore']<=10), -100)\n",
        "honor_point_cal((Groupby_df2['lane_SUPPORT'] == 1)& (Groupby_df2['visionscore']<=10), -1000)\n",
        "honor_point_cal((Groupby_df2['lane_SUPPORT'] == 1)& (Groupby_df2['visionscore']>=50), 500)\n",
        "honor_point_cal((Groupby_df2['lane_SUPPORT'] == 0)& (Groupby_df2['visionscore']>=20), 100)\n",
        "\n",
        "honor_point_cal((Groupby_df2['lane_SUPPORT'] == 0)& (Groupby_df2['totalminionskilled']<=100), -1000)\n",
        "\n",
        "honor_point_cal((Groupby_df2['KDA']>=3), 100)\n",
        "honor_point_cal((Groupby_df2['KDA']>=5), 300)\n",
        "honor_point_cal((Groupby_df2['KDA']>=10), 1000)\n",
        "honor_point_cal((Groupby_df2['KDA']<2), -100)\n",
        "honor_point_cal((Groupby_df2['KDA']<=1), -500)\n",
        "honor_point_cal((Groupby_df2['KDA'] <= 1)& (Groupby_df2['deaths']>=12), -1000)\n",
        "\n",
        "honor_point_cal((Groupby_df2['inhibitorkilled']==3), 500)\n",
        "honor_point_cal((Groupby_df2['inhibitorkilled']>3), 1000)\n",
        "honor_point_cal((Groupby_df2['win'] == 0)& (Groupby_df2['inhibitorkilled']==0), -1000)\n",
        "\n",
        "\n",
        "honor_point_cal((Groupby_df2['damagedealttoturrets']==0), -1000)\n",
        "\n",
        "honor_point_cal((Groupby_df2['win'] == 0)& (Groupby_df2['gameduration']<=1000), -1000)\n",
        "honor_point_cal((Groupby_df2['gameduration']>=1500), 100)\n",
        "honor_point_cal((Groupby_df2['gameduration']>=2000), 500)\n",
        "honor_point_cal((Groupby_df2['gameduration']>=2500), 1000)"
      ],
      "execution_count": 284,
      "outputs": []
    },
    {
      "cell_type": "code",
      "metadata": {
        "colab": {
          "base_uri": "https://localhost:8080/"
        },
        "id": "gKg9EcAFRj5Z",
        "outputId": "67134af2-6026-4b4c-bbdb-a76bfac73bb3"
      },
      "source": [
        "honor_df[honor_df['honor_point']>0]['honor_point']"
      ],
      "execution_count": 288,
      "outputs": [
        {
          "output_type": "execute_result",
          "data": {
            "text/plain": [
              "summonerid\n",
              "oZOstqygth7G6p98xlcllvatNasCsluMixZhQYQ8WJnoDtA     900\n",
              "GAM2SGxXuoCyMw-qY8N9y-GLe1R66Kj1din1dJ_G2gpMyi0     800\n",
              "667ExyHAiqIKvQQj2uN90kdaidW6QTnUhtCCWVJT-av97sc     700\n",
              "9yx77_9i55HtjuSP02wYsoONcLw9emZUq2avyuyccENRZWE     700\n",
              "Iqai2K6vIswbuyBJiSnh6WSDbr9htbwAhBRmy_bsh4Ni6ZY     600\n",
              "                                                   ... \n",
              "7CjdlM6kVE2mWLeLLMAgq3-iU7KjjELo9t-CiIQElxxS0Po    2000\n",
              "yjzfc3fC1Qy6jPb-kYBOZiygeA2k5p3orR6Uou74QWFYLes     800\n",
              "dmRZ1hi0pJdp4wdFFvUxh7v-Z-lFxK4rZXCn5AcnnWNJYQ     1400\n",
              "zP2EIc-cC8LAqczN0eJIE-1elDSOHZK3To--1aq320WUtX0     100\n",
              "R2VKFVcrmzOsJr3JwyEXJaN7h18osp4puMfa2auMiyo92g     1300\n",
              "Name: honor_point, Length: 30915, dtype: int64"
            ]
          },
          "metadata": {
            "tags": []
          },
          "execution_count": 288
        }
      ]
    }
  ]
}